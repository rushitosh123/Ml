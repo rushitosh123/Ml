{
 "cells": [
  {
   "cell_type": "code",
   "execution_count": 5,
   "id": "1d603fb7-3159-4dd5-b383-cc7be5dfef28",
   "metadata": {},
   "outputs": [],
   "source": [
    "import pandas as pd"
   ]
  },
  {
   "cell_type": "code",
   "execution_count": 6,
   "id": "caff9dc0-8d97-4fbd-bf4f-53610fddb0c5",
   "metadata": {},
   "outputs": [],
   "source": [
    "employee5 = pd.DataFrame({\n",
    "                    'EID': [1,2,3,4,5,6,7,8,9,10],\n",
    "                    'ENAME' : ['praveen', 'Amit', 'Rohit', 'Mohan', 'sohan', 'Rohan', 'Meena', 'Sheena', 'Tina','Mona'],\n",
    "                    'ELOC' : ['pune', 'Agra', 'Delhi', 'jaipur', 'udaipur', 'Nagpur', 'Yavatmal', 'Wardha', 'Nanded', 'Latur'],\n",
    "                    'Dept' : ['finance', 'HR', 'Finance', 'Testing', 'Dev', 'Account','HR', 'Finance', 'Account','Dev' ],\n",
    "                    'sal' : [20000, 30000, 40000, 20000, 50000, 60000, 70000, 80000, 90000, 75000],\n",
    "                    'Gender' : ['Male',None,'Male', None,'Male',None,'Male', None,'Male',None]\n",
    "    \n",
    "})"
   ]
  },
  {
   "cell_type": "code",
   "execution_count": 7,
   "id": "eb03616f-adb3-43f4-8277-fb9a63b43d62",
   "metadata": {},
   "outputs": [
    {
     "data": {
      "text/html": [
       "<div>\n",
       "<style scoped>\n",
       "    .dataframe tbody tr th:only-of-type {\n",
       "        vertical-align: middle;\n",
       "    }\n",
       "\n",
       "    .dataframe tbody tr th {\n",
       "        vertical-align: top;\n",
       "    }\n",
       "\n",
       "    .dataframe thead th {\n",
       "        text-align: right;\n",
       "    }\n",
       "</style>\n",
       "<table border=\"1\" class=\"dataframe\">\n",
       "  <thead>\n",
       "    <tr style=\"text-align: right;\">\n",
       "      <th></th>\n",
       "      <th>EID</th>\n",
       "      <th>ENAME</th>\n",
       "      <th>ELOC</th>\n",
       "      <th>Dept</th>\n",
       "      <th>sal</th>\n",
       "      <th>Gender</th>\n",
       "    </tr>\n",
       "  </thead>\n",
       "  <tbody>\n",
       "    <tr>\n",
       "      <th>0</th>\n",
       "      <td>1</td>\n",
       "      <td>praveen</td>\n",
       "      <td>pune</td>\n",
       "      <td>finance</td>\n",
       "      <td>20000</td>\n",
       "      <td>Male</td>\n",
       "    </tr>\n",
       "    <tr>\n",
       "      <th>1</th>\n",
       "      <td>2</td>\n",
       "      <td>Amit</td>\n",
       "      <td>Agra</td>\n",
       "      <td>HR</td>\n",
       "      <td>30000</td>\n",
       "      <td>None</td>\n",
       "    </tr>\n",
       "    <tr>\n",
       "      <th>2</th>\n",
       "      <td>3</td>\n",
       "      <td>Rohit</td>\n",
       "      <td>Delhi</td>\n",
       "      <td>Finance</td>\n",
       "      <td>40000</td>\n",
       "      <td>Male</td>\n",
       "    </tr>\n",
       "    <tr>\n",
       "      <th>3</th>\n",
       "      <td>4</td>\n",
       "      <td>Mohan</td>\n",
       "      <td>jaipur</td>\n",
       "      <td>Testing</td>\n",
       "      <td>20000</td>\n",
       "      <td>None</td>\n",
       "    </tr>\n",
       "    <tr>\n",
       "      <th>4</th>\n",
       "      <td>5</td>\n",
       "      <td>sohan</td>\n",
       "      <td>udaipur</td>\n",
       "      <td>Dev</td>\n",
       "      <td>50000</td>\n",
       "      <td>Male</td>\n",
       "    </tr>\n",
       "    <tr>\n",
       "      <th>5</th>\n",
       "      <td>6</td>\n",
       "      <td>Rohan</td>\n",
       "      <td>Nagpur</td>\n",
       "      <td>Account</td>\n",
       "      <td>60000</td>\n",
       "      <td>None</td>\n",
       "    </tr>\n",
       "    <tr>\n",
       "      <th>6</th>\n",
       "      <td>7</td>\n",
       "      <td>Meena</td>\n",
       "      <td>Yavatmal</td>\n",
       "      <td>HR</td>\n",
       "      <td>70000</td>\n",
       "      <td>Male</td>\n",
       "    </tr>\n",
       "    <tr>\n",
       "      <th>7</th>\n",
       "      <td>8</td>\n",
       "      <td>Sheena</td>\n",
       "      <td>Wardha</td>\n",
       "      <td>Finance</td>\n",
       "      <td>80000</td>\n",
       "      <td>None</td>\n",
       "    </tr>\n",
       "    <tr>\n",
       "      <th>8</th>\n",
       "      <td>9</td>\n",
       "      <td>Tina</td>\n",
       "      <td>Nanded</td>\n",
       "      <td>Account</td>\n",
       "      <td>90000</td>\n",
       "      <td>Male</td>\n",
       "    </tr>\n",
       "    <tr>\n",
       "      <th>9</th>\n",
       "      <td>10</td>\n",
       "      <td>Mona</td>\n",
       "      <td>Latur</td>\n",
       "      <td>Dev</td>\n",
       "      <td>75000</td>\n",
       "      <td>None</td>\n",
       "    </tr>\n",
       "  </tbody>\n",
       "</table>\n",
       "</div>"
      ],
      "text/plain": [
       "   EID    ENAME      ELOC     Dept    sal Gender\n",
       "0    1  praveen      pune  finance  20000   Male\n",
       "1    2     Amit      Agra       HR  30000   None\n",
       "2    3    Rohit     Delhi  Finance  40000   Male\n",
       "3    4    Mohan    jaipur  Testing  20000   None\n",
       "4    5    sohan   udaipur      Dev  50000   Male\n",
       "5    6    Rohan    Nagpur  Account  60000   None\n",
       "6    7    Meena  Yavatmal       HR  70000   Male\n",
       "7    8   Sheena    Wardha  Finance  80000   None\n",
       "8    9     Tina    Nanded  Account  90000   Male\n",
       "9   10     Mona     Latur      Dev  75000   None"
      ]
     },
     "execution_count": 7,
     "metadata": {},
     "output_type": "execute_result"
    }
   ],
   "source": [
    "employee5"
   ]
  },
  {
   "cell_type": "code",
   "execution_count": 8,
   "id": "f0f9e52b-52b9-482d-b9b1-b55e015a80bc",
   "metadata": {},
   "outputs": [],
   "source": [
    "# sql agrrigate functions min , max, sum, avg, count, top, null, distinct\n",
    "# pandas  functions min , max, sum, mean, count, mean, median, mode,"
   ]
  },
  {
   "cell_type": "code",
   "execution_count": 9,
   "id": "e3b1cfbc-d97c-4457-aafe-a029ebe84c0d",
   "metadata": {},
   "outputs": [
    {
     "data": {
      "text/plain": [
       "20000"
      ]
     },
     "execution_count": 9,
     "metadata": {},
     "output_type": "execute_result"
    }
   ],
   "source": [
    "# find the totol of the salary \n",
    "# select sum(sal) from employee5;\n",
    "total = employee5['sal'].min()\n",
    "total\n",
    "# same for remainig functions also min, max, "
   ]
  },
  {
   "cell_type": "code",
   "execution_count": 10,
   "id": "d10ad83d-1cb0-4bb5-afae-03038b36bcf9",
   "metadata": {},
   "outputs": [],
   "source": [
    "# find the second minimun salary \n",
    "# select min(sal) from employee5 where sal <> (select  min(sal) from  employee5);  or\n",
    "# select min(sal) from employee5 where sal not in (select  min(sal) from  employee5);\n",
    "second_highest = employee5['sal'].nlargest(2).iloc[-1]"
   ]
  },
  {
   "cell_type": "code",
   "execution_count": 11,
   "id": "427f74e7-1bfa-4570-a4d2-113def0a5a7a",
   "metadata": {},
   "outputs": [
    {
     "data": {
      "text/plain": [
       "80000"
      ]
     },
     "execution_count": 11,
     "metadata": {},
     "output_type": "execute_result"
    }
   ],
   "source": [
    "second_highest"
   ]
  },
  {
   "cell_type": "code",
   "execution_count": 12,
   "id": "60864d4f-280b-492d-8223-3affdd463945",
   "metadata": {},
   "outputs": [
    {
     "data": {
      "text/html": [
       "<div>\n",
       "<style scoped>\n",
       "    .dataframe tbody tr th:only-of-type {\n",
       "        vertical-align: middle;\n",
       "    }\n",
       "\n",
       "    .dataframe tbody tr th {\n",
       "        vertical-align: top;\n",
       "    }\n",
       "\n",
       "    .dataframe thead th {\n",
       "        text-align: right;\n",
       "    }\n",
       "</style>\n",
       "<table border=\"1\" class=\"dataframe\">\n",
       "  <thead>\n",
       "    <tr style=\"text-align: right;\">\n",
       "      <th></th>\n",
       "      <th>EID</th>\n",
       "      <th>ENAME</th>\n",
       "      <th>ELOC</th>\n",
       "      <th>Dept</th>\n",
       "      <th>sal</th>\n",
       "      <th>Gender</th>\n",
       "    </tr>\n",
       "  </thead>\n",
       "  <tbody>\n",
       "    <tr>\n",
       "      <th>0</th>\n",
       "      <td>1</td>\n",
       "      <td>praveen</td>\n",
       "      <td>pune</td>\n",
       "      <td>finance</td>\n",
       "      <td>20000</td>\n",
       "      <td>Male</td>\n",
       "    </tr>\n",
       "    <tr>\n",
       "      <th>1</th>\n",
       "      <td>2</td>\n",
       "      <td>Amit</td>\n",
       "      <td>Agra</td>\n",
       "      <td>HR</td>\n",
       "      <td>30000</td>\n",
       "      <td>None</td>\n",
       "    </tr>\n",
       "    <tr>\n",
       "      <th>2</th>\n",
       "      <td>3</td>\n",
       "      <td>Rohit</td>\n",
       "      <td>Delhi</td>\n",
       "      <td>Finance</td>\n",
       "      <td>40000</td>\n",
       "      <td>Male</td>\n",
       "    </tr>\n",
       "    <tr>\n",
       "      <th>3</th>\n",
       "      <td>4</td>\n",
       "      <td>Mohan</td>\n",
       "      <td>jaipur</td>\n",
       "      <td>Testing</td>\n",
       "      <td>20000</td>\n",
       "      <td>None</td>\n",
       "    </tr>\n",
       "    <tr>\n",
       "      <th>4</th>\n",
       "      <td>5</td>\n",
       "      <td>sohan</td>\n",
       "      <td>udaipur</td>\n",
       "      <td>Dev</td>\n",
       "      <td>50000</td>\n",
       "      <td>Male</td>\n",
       "    </tr>\n",
       "    <tr>\n",
       "      <th>5</th>\n",
       "      <td>6</td>\n",
       "      <td>Rohan</td>\n",
       "      <td>Nagpur</td>\n",
       "      <td>Account</td>\n",
       "      <td>60000</td>\n",
       "      <td>None</td>\n",
       "    </tr>\n",
       "  </tbody>\n",
       "</table>\n",
       "</div>"
      ],
      "text/plain": [
       "   EID    ENAME     ELOC     Dept    sal Gender\n",
       "0    1  praveen     pune  finance  20000   Male\n",
       "1    2     Amit     Agra       HR  30000   None\n",
       "2    3    Rohit    Delhi  Finance  40000   Male\n",
       "3    4    Mohan   jaipur  Testing  20000   None\n",
       "4    5    sohan  udaipur      Dev  50000   Male\n",
       "5    6    Rohan   Nagpur  Account  60000   None"
      ]
     },
     "execution_count": 12,
     "metadata": {},
     "output_type": "execute_result"
    }
   ],
   "source": [
    "# remove the duplicate values from the Dept columm\n",
    "#select distinct( Dept) from employee5\n",
    "df_duplicates = employee5.drop_duplicates(subset='Dept', keep='first')\n",
    "df_duplicates"
   ]
  },
  {
   "cell_type": "code",
   "execution_count": 13,
   "id": "720fddf9-c52a-4079-9da9-c120ba0cc640",
   "metadata": {},
   "outputs": [
    {
     "data": {
      "text/html": [
       "<div>\n",
       "<style scoped>\n",
       "    .dataframe tbody tr th:only-of-type {\n",
       "        vertical-align: middle;\n",
       "    }\n",
       "\n",
       "    .dataframe tbody tr th {\n",
       "        vertical-align: top;\n",
       "    }\n",
       "\n",
       "    .dataframe thead th {\n",
       "        text-align: right;\n",
       "    }\n",
       "</style>\n",
       "<table border=\"1\" class=\"dataframe\">\n",
       "  <thead>\n",
       "    <tr style=\"text-align: right;\">\n",
       "      <th></th>\n",
       "      <th>EID</th>\n",
       "      <th>ENAME</th>\n",
       "      <th>ELOC</th>\n",
       "      <th>Dept</th>\n",
       "      <th>sal</th>\n",
       "      <th>Gender</th>\n",
       "    </tr>\n",
       "  </thead>\n",
       "  <tbody>\n",
       "    <tr>\n",
       "      <th>0</th>\n",
       "      <td>1</td>\n",
       "      <td>praveen</td>\n",
       "      <td>pune</td>\n",
       "      <td>finance</td>\n",
       "      <td>20000</td>\n",
       "      <td>Male</td>\n",
       "    </tr>\n",
       "    <tr>\n",
       "      <th>1</th>\n",
       "      <td>2</td>\n",
       "      <td>Amit</td>\n",
       "      <td>Agra</td>\n",
       "      <td>HR</td>\n",
       "      <td>30000</td>\n",
       "      <td>None</td>\n",
       "    </tr>\n",
       "    <tr>\n",
       "      <th>2</th>\n",
       "      <td>3</td>\n",
       "      <td>Rohit</td>\n",
       "      <td>Delhi</td>\n",
       "      <td>Finance</td>\n",
       "      <td>40000</td>\n",
       "      <td>Male</td>\n",
       "    </tr>\n",
       "    <tr>\n",
       "      <th>3</th>\n",
       "      <td>4</td>\n",
       "      <td>Mohan</td>\n",
       "      <td>jaipur</td>\n",
       "      <td>Testing</td>\n",
       "      <td>20000</td>\n",
       "      <td>None</td>\n",
       "    </tr>\n",
       "    <tr>\n",
       "      <th>4</th>\n",
       "      <td>5</td>\n",
       "      <td>sohan</td>\n",
       "      <td>udaipur</td>\n",
       "      <td>Dev</td>\n",
       "      <td>50000</td>\n",
       "      <td>Male</td>\n",
       "    </tr>\n",
       "    <tr>\n",
       "      <th>5</th>\n",
       "      <td>6</td>\n",
       "      <td>Rohan</td>\n",
       "      <td>Nagpur</td>\n",
       "      <td>Account</td>\n",
       "      <td>60000</td>\n",
       "      <td>None</td>\n",
       "    </tr>\n",
       "    <tr>\n",
       "      <th>6</th>\n",
       "      <td>7</td>\n",
       "      <td>Meena</td>\n",
       "      <td>Yavatmal</td>\n",
       "      <td>HR</td>\n",
       "      <td>70000</td>\n",
       "      <td>Male</td>\n",
       "    </tr>\n",
       "    <tr>\n",
       "      <th>7</th>\n",
       "      <td>8</td>\n",
       "      <td>Sheena</td>\n",
       "      <td>Wardha</td>\n",
       "      <td>Finance</td>\n",
       "      <td>80000</td>\n",
       "      <td>None</td>\n",
       "    </tr>\n",
       "    <tr>\n",
       "      <th>8</th>\n",
       "      <td>9</td>\n",
       "      <td>Tina</td>\n",
       "      <td>Nanded</td>\n",
       "      <td>Account</td>\n",
       "      <td>90000</td>\n",
       "      <td>Male</td>\n",
       "    </tr>\n",
       "    <tr>\n",
       "      <th>9</th>\n",
       "      <td>10</td>\n",
       "      <td>Mona</td>\n",
       "      <td>Latur</td>\n",
       "      <td>Dev</td>\n",
       "      <td>75000</td>\n",
       "      <td>None</td>\n",
       "    </tr>\n",
       "  </tbody>\n",
       "</table>\n",
       "</div>"
      ],
      "text/plain": [
       "   EID    ENAME      ELOC     Dept    sal Gender\n",
       "0    1  praveen      pune  finance  20000   Male\n",
       "1    2     Amit      Agra       HR  30000   None\n",
       "2    3    Rohit     Delhi  Finance  40000   Male\n",
       "3    4    Mohan    jaipur  Testing  20000   None\n",
       "4    5    sohan   udaipur      Dev  50000   Male\n",
       "5    6    Rohan    Nagpur  Account  60000   None\n",
       "6    7    Meena  Yavatmal       HR  70000   Male\n",
       "7    8   Sheena    Wardha  Finance  80000   None\n",
       "8    9     Tina    Nanded  Account  90000   Male\n",
       "9   10     Mona     Latur      Dev  75000   None"
      ]
     },
     "execution_count": 13,
     "metadata": {},
     "output_type": "execute_result"
    }
   ],
   "source": [
    "employee5"
   ]
  },
  {
   "cell_type": "code",
   "execution_count": 14,
   "id": "2dc2aeea-cfd1-4194-87bb-49831b4017e1",
   "metadata": {},
   "outputs": [],
   "source": [
    "df3 = employee5.fillna({'Gender': 'Female'})  # Fill specific columns with values"
   ]
  },
  {
   "cell_type": "code",
   "execution_count": 15,
   "id": "54f1952b-f78b-4b86-914c-f1ea9e7fff2a",
   "metadata": {},
   "outputs": [
    {
     "data": {
      "text/html": [
       "<div>\n",
       "<style scoped>\n",
       "    .dataframe tbody tr th:only-of-type {\n",
       "        vertical-align: middle;\n",
       "    }\n",
       "\n",
       "    .dataframe tbody tr th {\n",
       "        vertical-align: top;\n",
       "    }\n",
       "\n",
       "    .dataframe thead th {\n",
       "        text-align: right;\n",
       "    }\n",
       "</style>\n",
       "<table border=\"1\" class=\"dataframe\">\n",
       "  <thead>\n",
       "    <tr style=\"text-align: right;\">\n",
       "      <th></th>\n",
       "      <th>EID</th>\n",
       "      <th>ENAME</th>\n",
       "      <th>ELOC</th>\n",
       "      <th>Dept</th>\n",
       "      <th>sal</th>\n",
       "      <th>Gender</th>\n",
       "    </tr>\n",
       "  </thead>\n",
       "  <tbody>\n",
       "    <tr>\n",
       "      <th>0</th>\n",
       "      <td>1</td>\n",
       "      <td>praveen</td>\n",
       "      <td>pune</td>\n",
       "      <td>finance</td>\n",
       "      <td>20000</td>\n",
       "      <td>Male</td>\n",
       "    </tr>\n",
       "    <tr>\n",
       "      <th>1</th>\n",
       "      <td>2</td>\n",
       "      <td>Amit</td>\n",
       "      <td>Agra</td>\n",
       "      <td>HR</td>\n",
       "      <td>30000</td>\n",
       "      <td>Female</td>\n",
       "    </tr>\n",
       "    <tr>\n",
       "      <th>2</th>\n",
       "      <td>3</td>\n",
       "      <td>Rohit</td>\n",
       "      <td>Delhi</td>\n",
       "      <td>Finance</td>\n",
       "      <td>40000</td>\n",
       "      <td>Male</td>\n",
       "    </tr>\n",
       "    <tr>\n",
       "      <th>3</th>\n",
       "      <td>4</td>\n",
       "      <td>Mohan</td>\n",
       "      <td>jaipur</td>\n",
       "      <td>Testing</td>\n",
       "      <td>20000</td>\n",
       "      <td>Female</td>\n",
       "    </tr>\n",
       "    <tr>\n",
       "      <th>4</th>\n",
       "      <td>5</td>\n",
       "      <td>sohan</td>\n",
       "      <td>udaipur</td>\n",
       "      <td>Dev</td>\n",
       "      <td>50000</td>\n",
       "      <td>Male</td>\n",
       "    </tr>\n",
       "    <tr>\n",
       "      <th>5</th>\n",
       "      <td>6</td>\n",
       "      <td>Rohan</td>\n",
       "      <td>Nagpur</td>\n",
       "      <td>Account</td>\n",
       "      <td>60000</td>\n",
       "      <td>Female</td>\n",
       "    </tr>\n",
       "    <tr>\n",
       "      <th>6</th>\n",
       "      <td>7</td>\n",
       "      <td>Meena</td>\n",
       "      <td>Yavatmal</td>\n",
       "      <td>HR</td>\n",
       "      <td>70000</td>\n",
       "      <td>Male</td>\n",
       "    </tr>\n",
       "    <tr>\n",
       "      <th>7</th>\n",
       "      <td>8</td>\n",
       "      <td>Sheena</td>\n",
       "      <td>Wardha</td>\n",
       "      <td>Finance</td>\n",
       "      <td>80000</td>\n",
       "      <td>Female</td>\n",
       "    </tr>\n",
       "    <tr>\n",
       "      <th>8</th>\n",
       "      <td>9</td>\n",
       "      <td>Tina</td>\n",
       "      <td>Nanded</td>\n",
       "      <td>Account</td>\n",
       "      <td>90000</td>\n",
       "      <td>Male</td>\n",
       "    </tr>\n",
       "    <tr>\n",
       "      <th>9</th>\n",
       "      <td>10</td>\n",
       "      <td>Mona</td>\n",
       "      <td>Latur</td>\n",
       "      <td>Dev</td>\n",
       "      <td>75000</td>\n",
       "      <td>Female</td>\n",
       "    </tr>\n",
       "  </tbody>\n",
       "</table>\n",
       "</div>"
      ],
      "text/plain": [
       "   EID    ENAME      ELOC     Dept    sal  Gender\n",
       "0    1  praveen      pune  finance  20000    Male\n",
       "1    2     Amit      Agra       HR  30000  Female\n",
       "2    3    Rohit     Delhi  Finance  40000    Male\n",
       "3    4    Mohan    jaipur  Testing  20000  Female\n",
       "4    5    sohan   udaipur      Dev  50000    Male\n",
       "5    6    Rohan    Nagpur  Account  60000  Female\n",
       "6    7    Meena  Yavatmal       HR  70000    Male\n",
       "7    8   Sheena    Wardha  Finance  80000  Female\n",
       "8    9     Tina    Nanded  Account  90000    Male\n",
       "9   10     Mona     Latur      Dev  75000  Female"
      ]
     },
     "execution_count": 15,
     "metadata": {},
     "output_type": "execute_result"
    }
   ],
   "source": [
    "df3"
   ]
  },
  {
   "cell_type": "code",
   "execution_count": 16,
   "id": "83ac57a9-da21-49a4-932a-f9af69d9f249",
   "metadata": {},
   "outputs": [],
   "source": [
    "#df2 = employee5.['Gender'] = employee5['Gender'].fillna('Female')\n"
   ]
  },
  {
   "cell_type": "markdown",
   "id": "f81ecef1-9af7-408b-8bf8-9eb228e72417",
   "metadata": {},
   "source": [
    "import pandas as pd\n",
    "\n",
    "# Example DataFrame\n",
    "data = {'Gender': ['Male', 'Female', None, 'Male', None, 'Female']}\n",
    "df1 = pd.DataFrame(data)\n",
    "\n",
    "# Fill missing values with 'Female'\n",
    "#df['Gender'] = df['Gender'].fillna('Female')\n",
    "\n",
    "print(df1)\n"
   ]
  },
  {
   "cell_type": "code",
   "execution_count": 18,
   "id": "1bf8d181-90d1-4484-8dc4-aad812a6ee03",
   "metadata": {},
   "outputs": [],
   "source": [
    "#df3 = employee5.['Gender'] = employee5['Gender'].fillna('Female')"
   ]
  },
  {
   "cell_type": "markdown",
   "id": "8009fa6b-58f0-4543-bebe-944030ec131b",
   "metadata": {},
   "source": [
    "# Iloc we are fetching rows and columns by using indexing "
   ]
  },
  {
   "cell_type": "markdown",
   "id": "fcf8090a-e4eb-42a6-95be-6eeb15dca886",
   "metadata": {},
   "source": [
    "[start row : end row :step], or [start row: end row, start column : end column]"
   ]
  },
  {
   "cell_type": "code",
   "execution_count": 21,
   "id": "48a4ec1f-2d6f-434d-a850-87c5cf0cd269",
   "metadata": {},
   "outputs": [
    {
     "data": {
      "text/html": [
       "<div>\n",
       "<style scoped>\n",
       "    .dataframe tbody tr th:only-of-type {\n",
       "        vertical-align: middle;\n",
       "    }\n",
       "\n",
       "    .dataframe tbody tr th {\n",
       "        vertical-align: top;\n",
       "    }\n",
       "\n",
       "    .dataframe thead th {\n",
       "        text-align: right;\n",
       "    }\n",
       "</style>\n",
       "<table border=\"1\" class=\"dataframe\">\n",
       "  <thead>\n",
       "    <tr style=\"text-align: right;\">\n",
       "      <th></th>\n",
       "      <th>EID</th>\n",
       "      <th>ENAME</th>\n",
       "      <th>ELOC</th>\n",
       "      <th>Dept</th>\n",
       "      <th>sal</th>\n",
       "      <th>Gender</th>\n",
       "    </tr>\n",
       "  </thead>\n",
       "  <tbody>\n",
       "    <tr>\n",
       "      <th>2</th>\n",
       "      <td>3</td>\n",
       "      <td>Rohit</td>\n",
       "      <td>Delhi</td>\n",
       "      <td>Finance</td>\n",
       "      <td>40000</td>\n",
       "      <td>Male</td>\n",
       "    </tr>\n",
       "    <tr>\n",
       "      <th>4</th>\n",
       "      <td>5</td>\n",
       "      <td>sohan</td>\n",
       "      <td>udaipur</td>\n",
       "      <td>Dev</td>\n",
       "      <td>50000</td>\n",
       "      <td>Male</td>\n",
       "    </tr>\n",
       "    <tr>\n",
       "      <th>6</th>\n",
       "      <td>7</td>\n",
       "      <td>Meena</td>\n",
       "      <td>Yavatmal</td>\n",
       "      <td>HR</td>\n",
       "      <td>70000</td>\n",
       "      <td>Male</td>\n",
       "    </tr>\n",
       "  </tbody>\n",
       "</table>\n",
       "</div>"
      ],
      "text/plain": [
       "   EID  ENAME      ELOC     Dept    sal Gender\n",
       "2    3  Rohit     Delhi  Finance  40000   Male\n",
       "4    5  sohan   udaipur      Dev  50000   Male\n",
       "6    7  Meena  Yavatmal       HR  70000   Male"
      ]
     },
     "execution_count": 21,
     "metadata": {},
     "output_type": "execute_result"
    }
   ],
   "source": [
    "df3.iloc[2:7:2]\n",
    "      #[Start: end : step]\n",
    "      # [startRow: Endrow, columnname]"
   ]
  },
  {
   "cell_type": "code",
   "execution_count": 22,
   "id": "4814418b-0b99-4a30-9a99-bb3338b254be",
   "metadata": {},
   "outputs": [
    {
     "data": {
      "text/plain": [
       "2       Delhi\n",
       "3      jaipur\n",
       "4     udaipur\n",
       "5      Nagpur\n",
       "6    Yavatmal\n",
       "Name: ELOC, dtype: object"
      ]
     },
     "execution_count": 22,
     "metadata": {},
     "output_type": "execute_result"
    }
   ],
   "source": [
    "df3.iloc[2:7,2]\n",
    "\n",
    "# [start Row:end Row, 2nd column]"
   ]
  },
  {
   "cell_type": "code",
   "execution_count": 23,
   "id": "51ce2e9f-74c9-44aa-88eb-44835a3393e7",
   "metadata": {},
   "outputs": [
    {
     "data": {
      "text/html": [
       "<div>\n",
       "<style scoped>\n",
       "    .dataframe tbody tr th:only-of-type {\n",
       "        vertical-align: middle;\n",
       "    }\n",
       "\n",
       "    .dataframe tbody tr th {\n",
       "        vertical-align: top;\n",
       "    }\n",
       "\n",
       "    .dataframe thead th {\n",
       "        text-align: right;\n",
       "    }\n",
       "</style>\n",
       "<table border=\"1\" class=\"dataframe\">\n",
       "  <thead>\n",
       "    <tr style=\"text-align: right;\">\n",
       "      <th></th>\n",
       "      <th>ELOC</th>\n",
       "      <th>Dept</th>\n",
       "      <th>sal</th>\n",
       "      <th>Gender</th>\n",
       "    </tr>\n",
       "  </thead>\n",
       "  <tbody>\n",
       "    <tr>\n",
       "      <th>2</th>\n",
       "      <td>Delhi</td>\n",
       "      <td>Finance</td>\n",
       "      <td>40000</td>\n",
       "      <td>Male</td>\n",
       "    </tr>\n",
       "    <tr>\n",
       "      <th>3</th>\n",
       "      <td>jaipur</td>\n",
       "      <td>Testing</td>\n",
       "      <td>20000</td>\n",
       "      <td>Female</td>\n",
       "    </tr>\n",
       "    <tr>\n",
       "      <th>4</th>\n",
       "      <td>udaipur</td>\n",
       "      <td>Dev</td>\n",
       "      <td>50000</td>\n",
       "      <td>Male</td>\n",
       "    </tr>\n",
       "    <tr>\n",
       "      <th>5</th>\n",
       "      <td>Nagpur</td>\n",
       "      <td>Account</td>\n",
       "      <td>60000</td>\n",
       "      <td>Female</td>\n",
       "    </tr>\n",
       "    <tr>\n",
       "      <th>6</th>\n",
       "      <td>Yavatmal</td>\n",
       "      <td>HR</td>\n",
       "      <td>70000</td>\n",
       "      <td>Male</td>\n",
       "    </tr>\n",
       "  </tbody>\n",
       "</table>\n",
       "</div>"
      ],
      "text/plain": [
       "       ELOC     Dept    sal  Gender\n",
       "2     Delhi  Finance  40000    Male\n",
       "3    jaipur  Testing  20000  Female\n",
       "4   udaipur      Dev  50000    Male\n",
       "5    Nagpur  Account  60000  Female\n",
       "6  Yavatmal       HR  70000    Male"
      ]
     },
     "execution_count": 23,
     "metadata": {},
     "output_type": "execute_result"
    }
   ],
   "source": [
    "df3.iloc[2:7,2:7]\n",
    "\n",
    "# [start Row:end Row, start column: end column]"
   ]
  },
  {
   "cell_type": "code",
   "execution_count": 24,
   "id": "cfac5768-b3d0-4bc0-a578-4054ed59c354",
   "metadata": {},
   "outputs": [
    {
     "data": {
      "text/plain": [
       "ELOC       Nagpur\n",
       "Dept      Account\n",
       "sal         60000\n",
       "Gender     Female\n",
       "Name: 5, dtype: object"
      ]
     },
     "execution_count": 24,
     "metadata": {},
     "output_type": "execute_result"
    }
   ],
   "source": [
    "df3.iloc[5,2:7]\n",
    "# [start:end]"
   ]
  },
  {
   "cell_type": "code",
   "execution_count": 25,
   "id": "13e845f5-35ba-489d-ac2d-e2671bd366c1",
   "metadata": {},
   "outputs": [
    {
     "data": {
      "text/plain": [
       "ELOC      Delhi\n",
       "Dept    Finance\n",
       "Name: 2, dtype: object"
      ]
     },
     "execution_count": 25,
     "metadata": {},
     "output_type": "execute_result"
    }
   ],
   "source": [
    "df3.iloc[2,2:4]\n",
    "# [2nd row : 2to4column]"
   ]
  },
  {
   "cell_type": "code",
   "execution_count": 26,
   "id": "2d0500b5-3e98-43b6-84c8-100fca19b43a",
   "metadata": {},
   "outputs": [
    {
     "data": {
      "text/html": [
       "<div>\n",
       "<style scoped>\n",
       "    .dataframe tbody tr th:only-of-type {\n",
       "        vertical-align: middle;\n",
       "    }\n",
       "\n",
       "    .dataframe tbody tr th {\n",
       "        vertical-align: top;\n",
       "    }\n",
       "\n",
       "    .dataframe thead th {\n",
       "        text-align: right;\n",
       "    }\n",
       "</style>\n",
       "<table border=\"1\" class=\"dataframe\">\n",
       "  <thead>\n",
       "    <tr style=\"text-align: right;\">\n",
       "      <th></th>\n",
       "      <th>ELOC</th>\n",
       "      <th>Dept</th>\n",
       "    </tr>\n",
       "  </thead>\n",
       "  <tbody>\n",
       "    <tr>\n",
       "      <th>2</th>\n",
       "      <td>Delhi</td>\n",
       "      <td>Finance</td>\n",
       "    </tr>\n",
       "    <tr>\n",
       "      <th>3</th>\n",
       "      <td>jaipur</td>\n",
       "      <td>Testing</td>\n",
       "    </tr>\n",
       "    <tr>\n",
       "      <th>4</th>\n",
       "      <td>udaipur</td>\n",
       "      <td>Dev</td>\n",
       "    </tr>\n",
       "  </tbody>\n",
       "</table>\n",
       "</div>"
      ],
      "text/plain": [
       "      ELOC     Dept\n",
       "2    Delhi  Finance\n",
       "3   jaipur  Testing\n",
       "4  udaipur      Dev"
      ]
     },
     "execution_count": 26,
     "metadata": {},
     "output_type": "execute_result"
    }
   ],
   "source": [
    "df3.iloc[2:5,2:4]\n",
    "# [2row to 5th row , 2nd column to 4thcolum ]\n"
   ]
  },
  {
   "cell_type": "code",
   "execution_count": 27,
   "id": "6d5d327f-b57c-4cc6-8e71-582380ee51dc",
   "metadata": {},
   "outputs": [
    {
     "data": {
      "text/plain": [
       "'Finance'"
      ]
     },
     "execution_count": 27,
     "metadata": {},
     "output_type": "execute_result"
    }
   ],
   "source": [
    "df3.iloc[2,3]\n",
    "# [2nd row,3rd column]"
   ]
  },
  {
   "cell_type": "code",
   "execution_count": 28,
   "id": "645518c6-7924-4b17-9a34-330461cdca89",
   "metadata": {},
   "outputs": [
    {
     "data": {
      "text/html": [
       "<div>\n",
       "<style scoped>\n",
       "    .dataframe tbody tr th:only-of-type {\n",
       "        vertical-align: middle;\n",
       "    }\n",
       "\n",
       "    .dataframe tbody tr th {\n",
       "        vertical-align: top;\n",
       "    }\n",
       "\n",
       "    .dataframe thead th {\n",
       "        text-align: right;\n",
       "    }\n",
       "</style>\n",
       "<table border=\"1\" class=\"dataframe\">\n",
       "  <thead>\n",
       "    <tr style=\"text-align: right;\">\n",
       "      <th></th>\n",
       "      <th>EID</th>\n",
       "      <th>ENAME</th>\n",
       "      <th>ELOC</th>\n",
       "      <th>Dept</th>\n",
       "      <th>sal</th>\n",
       "      <th>Gender</th>\n",
       "    </tr>\n",
       "  </thead>\n",
       "  <tbody>\n",
       "    <tr>\n",
       "      <th>2</th>\n",
       "      <td>3</td>\n",
       "      <td>Rohit</td>\n",
       "      <td>Delhi</td>\n",
       "      <td>Finance</td>\n",
       "      <td>40000</td>\n",
       "      <td>Male</td>\n",
       "    </tr>\n",
       "    <tr>\n",
       "      <th>4</th>\n",
       "      <td>5</td>\n",
       "      <td>sohan</td>\n",
       "      <td>udaipur</td>\n",
       "      <td>Dev</td>\n",
       "      <td>50000</td>\n",
       "      <td>Male</td>\n",
       "    </tr>\n",
       "    <tr>\n",
       "      <th>5</th>\n",
       "      <td>6</td>\n",
       "      <td>Rohan</td>\n",
       "      <td>Nagpur</td>\n",
       "      <td>Account</td>\n",
       "      <td>60000</td>\n",
       "      <td>Female</td>\n",
       "    </tr>\n",
       "  </tbody>\n",
       "</table>\n",
       "</div>"
      ],
      "text/plain": [
       "   EID  ENAME     ELOC     Dept    sal  Gender\n",
       "2    3  Rohit    Delhi  Finance  40000    Male\n",
       "4    5  sohan  udaipur      Dev  50000    Male\n",
       "5    6  Rohan   Nagpur  Account  60000  Female"
      ]
     },
     "execution_count": 28,
     "metadata": {},
     "output_type": "execute_result"
    }
   ],
   "source": [
    "df3.iloc[[2,4,5],:]\n",
    "# [2,3,4,5 row : all columns]"
   ]
  },
  {
   "cell_type": "code",
   "execution_count": 29,
   "id": "913fd258-677a-4b74-9f66-66cfbb94dca1",
   "metadata": {},
   "outputs": [
    {
     "data": {
      "text/html": [
       "<div>\n",
       "<style scoped>\n",
       "    .dataframe tbody tr th:only-of-type {\n",
       "        vertical-align: middle;\n",
       "    }\n",
       "\n",
       "    .dataframe tbody tr th {\n",
       "        vertical-align: top;\n",
       "    }\n",
       "\n",
       "    .dataframe thead th {\n",
       "        text-align: right;\n",
       "    }\n",
       "</style>\n",
       "<table border=\"1\" class=\"dataframe\">\n",
       "  <thead>\n",
       "    <tr style=\"text-align: right;\">\n",
       "      <th></th>\n",
       "      <th>ELOC</th>\n",
       "      <th>Gender</th>\n",
       "    </tr>\n",
       "  </thead>\n",
       "  <tbody>\n",
       "    <tr>\n",
       "      <th>0</th>\n",
       "      <td>pune</td>\n",
       "      <td>Male</td>\n",
       "    </tr>\n",
       "    <tr>\n",
       "      <th>1</th>\n",
       "      <td>Agra</td>\n",
       "      <td>Female</td>\n",
       "    </tr>\n",
       "    <tr>\n",
       "      <th>2</th>\n",
       "      <td>Delhi</td>\n",
       "      <td>Male</td>\n",
       "    </tr>\n",
       "    <tr>\n",
       "      <th>3</th>\n",
       "      <td>jaipur</td>\n",
       "      <td>Female</td>\n",
       "    </tr>\n",
       "    <tr>\n",
       "      <th>4</th>\n",
       "      <td>udaipur</td>\n",
       "      <td>Male</td>\n",
       "    </tr>\n",
       "    <tr>\n",
       "      <th>5</th>\n",
       "      <td>Nagpur</td>\n",
       "      <td>Female</td>\n",
       "    </tr>\n",
       "    <tr>\n",
       "      <th>6</th>\n",
       "      <td>Yavatmal</td>\n",
       "      <td>Male</td>\n",
       "    </tr>\n",
       "    <tr>\n",
       "      <th>7</th>\n",
       "      <td>Wardha</td>\n",
       "      <td>Female</td>\n",
       "    </tr>\n",
       "    <tr>\n",
       "      <th>8</th>\n",
       "      <td>Nanded</td>\n",
       "      <td>Male</td>\n",
       "    </tr>\n",
       "    <tr>\n",
       "      <th>9</th>\n",
       "      <td>Latur</td>\n",
       "      <td>Female</td>\n",
       "    </tr>\n",
       "  </tbody>\n",
       "</table>\n",
       "</div>"
      ],
      "text/plain": [
       "       ELOC  Gender\n",
       "0      pune    Male\n",
       "1      Agra  Female\n",
       "2     Delhi    Male\n",
       "3    jaipur  Female\n",
       "4   udaipur    Male\n",
       "5    Nagpur  Female\n",
       "6  Yavatmal    Male\n",
       "7    Wardha  Female\n",
       "8    Nanded    Male\n",
       "9     Latur  Female"
      ]
     },
     "execution_count": 29,
     "metadata": {},
     "output_type": "execute_result"
    }
   ],
   "source": [
    "df3.iloc[ :, [2, 5] ]\n",
    "#[all rows: 2nd & 5th column]"
   ]
  },
  {
   "cell_type": "code",
   "execution_count": 30,
   "id": "f81f85c6-4eab-4199-864d-ee8c8bbd94b9",
   "metadata": {},
   "outputs": [
    {
     "data": {
      "text/html": [
       "<div>\n",
       "<style scoped>\n",
       "    .dataframe tbody tr th:only-of-type {\n",
       "        vertical-align: middle;\n",
       "    }\n",
       "\n",
       "    .dataframe tbody tr th {\n",
       "        vertical-align: top;\n",
       "    }\n",
       "\n",
       "    .dataframe thead th {\n",
       "        text-align: right;\n",
       "    }\n",
       "</style>\n",
       "<table border=\"1\" class=\"dataframe\">\n",
       "  <thead>\n",
       "    <tr style=\"text-align: right;\">\n",
       "      <th></th>\n",
       "      <th>ELOC</th>\n",
       "      <th>Dept</th>\n",
       "      <th>sal</th>\n",
       "    </tr>\n",
       "  </thead>\n",
       "  <tbody>\n",
       "    <tr>\n",
       "      <th>2</th>\n",
       "      <td>Delhi</td>\n",
       "      <td>Finance</td>\n",
       "      <td>40000</td>\n",
       "    </tr>\n",
       "    <tr>\n",
       "      <th>5</th>\n",
       "      <td>Nagpur</td>\n",
       "      <td>Account</td>\n",
       "      <td>60000</td>\n",
       "    </tr>\n",
       "  </tbody>\n",
       "</table>\n",
       "</div>"
      ],
      "text/plain": [
       "     ELOC     Dept    sal\n",
       "2   Delhi  Finance  40000\n",
       "5  Nagpur  Account  60000"
      ]
     },
     "execution_count": 30,
     "metadata": {},
     "output_type": "execute_result"
    }
   ],
   "source": [
    "df3.iloc[[2,5,], 2:5]\n",
    "# [2nd & 5th row: 2nd to 5th column]"
   ]
  },
  {
   "cell_type": "markdown",
   "id": "8af6d2ec-bc7e-4f8c-a502-faf8ca48865f",
   "metadata": {},
   "source": [
    "# loc"
   ]
  },
  {
   "cell_type": "code",
   "execution_count": 32,
   "id": "8875a2f7-96ca-40c4-af5c-0b6d1709dd29",
   "metadata": {},
   "outputs": [
    {
     "data": {
      "text/html": [
       "<div>\n",
       "<style scoped>\n",
       "    .dataframe tbody tr th:only-of-type {\n",
       "        vertical-align: middle;\n",
       "    }\n",
       "\n",
       "    .dataframe tbody tr th {\n",
       "        vertical-align: top;\n",
       "    }\n",
       "\n",
       "    .dataframe thead th {\n",
       "        text-align: right;\n",
       "    }\n",
       "</style>\n",
       "<table border=\"1\" class=\"dataframe\">\n",
       "  <thead>\n",
       "    <tr style=\"text-align: right;\">\n",
       "      <th></th>\n",
       "      <th>EID</th>\n",
       "      <th>ENAME</th>\n",
       "      <th>ELOC</th>\n",
       "      <th>Dept</th>\n",
       "      <th>sal</th>\n",
       "      <th>Gender</th>\n",
       "    </tr>\n",
       "  </thead>\n",
       "  <tbody>\n",
       "    <tr>\n",
       "      <th>2</th>\n",
       "      <td>3</td>\n",
       "      <td>Rohit</td>\n",
       "      <td>Delhi</td>\n",
       "      <td>Finance</td>\n",
       "      <td>40000</td>\n",
       "      <td>Male</td>\n",
       "    </tr>\n",
       "    <tr>\n",
       "      <th>3</th>\n",
       "      <td>4</td>\n",
       "      <td>Mohan</td>\n",
       "      <td>jaipur</td>\n",
       "      <td>Testing</td>\n",
       "      <td>20000</td>\n",
       "      <td>Female</td>\n",
       "    </tr>\n",
       "    <tr>\n",
       "      <th>4</th>\n",
       "      <td>5</td>\n",
       "      <td>sohan</td>\n",
       "      <td>udaipur</td>\n",
       "      <td>Dev</td>\n",
       "      <td>50000</td>\n",
       "      <td>Male</td>\n",
       "    </tr>\n",
       "    <tr>\n",
       "      <th>5</th>\n",
       "      <td>6</td>\n",
       "      <td>Rohan</td>\n",
       "      <td>Nagpur</td>\n",
       "      <td>Account</td>\n",
       "      <td>60000</td>\n",
       "      <td>Female</td>\n",
       "    </tr>\n",
       "    <tr>\n",
       "      <th>6</th>\n",
       "      <td>7</td>\n",
       "      <td>Meena</td>\n",
       "      <td>Yavatmal</td>\n",
       "      <td>HR</td>\n",
       "      <td>70000</td>\n",
       "      <td>Male</td>\n",
       "    </tr>\n",
       "  </tbody>\n",
       "</table>\n",
       "</div>"
      ],
      "text/plain": [
       "   EID  ENAME      ELOC     Dept    sal  Gender\n",
       "2    3  Rohit     Delhi  Finance  40000    Male\n",
       "3    4  Mohan    jaipur  Testing  20000  Female\n",
       "4    5  sohan   udaipur      Dev  50000    Male\n",
       "5    6  Rohan    Nagpur  Account  60000  Female\n",
       "6    7  Meena  Yavatmal       HR  70000    Male"
      ]
     },
     "execution_count": 32,
     "metadata": {},
     "output_type": "execute_result"
    }
   ],
   "source": [
    "df3.loc[2:6]\n",
    "# [2nd row : to 6th row]"
   ]
  },
  {
   "cell_type": "code",
   "execution_count": 33,
   "id": "a37e7b09-ae91-41df-9f4a-97d4ee56b526",
   "metadata": {},
   "outputs": [
    {
     "data": {
      "text/html": [
       "<div>\n",
       "<style scoped>\n",
       "    .dataframe tbody tr th:only-of-type {\n",
       "        vertical-align: middle;\n",
       "    }\n",
       "\n",
       "    .dataframe tbody tr th {\n",
       "        vertical-align: top;\n",
       "    }\n",
       "\n",
       "    .dataframe thead th {\n",
       "        text-align: right;\n",
       "    }\n",
       "</style>\n",
       "<table border=\"1\" class=\"dataframe\">\n",
       "  <thead>\n",
       "    <tr style=\"text-align: right;\">\n",
       "      <th></th>\n",
       "      <th>EID</th>\n",
       "      <th>ENAME</th>\n",
       "      <th>ELOC</th>\n",
       "      <th>Dept</th>\n",
       "      <th>sal</th>\n",
       "      <th>Gender</th>\n",
       "    </tr>\n",
       "  </thead>\n",
       "  <tbody>\n",
       "    <tr>\n",
       "      <th>2</th>\n",
       "      <td>3</td>\n",
       "      <td>Rohit</td>\n",
       "      <td>Delhi</td>\n",
       "      <td>Finance</td>\n",
       "      <td>40000</td>\n",
       "      <td>Male</td>\n",
       "    </tr>\n",
       "    <tr>\n",
       "      <th>4</th>\n",
       "      <td>5</td>\n",
       "      <td>sohan</td>\n",
       "      <td>udaipur</td>\n",
       "      <td>Dev</td>\n",
       "      <td>50000</td>\n",
       "      <td>Male</td>\n",
       "    </tr>\n",
       "    <tr>\n",
       "      <th>6</th>\n",
       "      <td>7</td>\n",
       "      <td>Meena</td>\n",
       "      <td>Yavatmal</td>\n",
       "      <td>HR</td>\n",
       "      <td>70000</td>\n",
       "      <td>Male</td>\n",
       "    </tr>\n",
       "    <tr>\n",
       "      <th>8</th>\n",
       "      <td>9</td>\n",
       "      <td>Tina</td>\n",
       "      <td>Nanded</td>\n",
       "      <td>Account</td>\n",
       "      <td>90000</td>\n",
       "      <td>Male</td>\n",
       "    </tr>\n",
       "  </tbody>\n",
       "</table>\n",
       "</div>"
      ],
      "text/plain": [
       "   EID  ENAME      ELOC     Dept    sal Gender\n",
       "2    3  Rohit     Delhi  Finance  40000   Male\n",
       "4    5  sohan   udaipur      Dev  50000   Male\n",
       "6    7  Meena  Yavatmal       HR  70000   Male\n",
       "8    9   Tina    Nanded  Account  90000   Male"
      ]
     },
     "execution_count": 33,
     "metadata": {},
     "output_type": "execute_result"
    }
   ],
   "source": [
    "df3.loc[2:8:2]\n",
    "# [2nd row : to 8th : 1step]"
   ]
  },
  {
   "cell_type": "code",
   "execution_count": 68,
   "id": "ddbb9c7a-76fa-495c-aa80-59aee779824d",
   "metadata": {},
   "outputs": [
    {
     "data": {
      "text/html": [
       "<div>\n",
       "<style scoped>\n",
       "    .dataframe tbody tr th:only-of-type {\n",
       "        vertical-align: middle;\n",
       "    }\n",
       "\n",
       "    .dataframe tbody tr th {\n",
       "        vertical-align: top;\n",
       "    }\n",
       "\n",
       "    .dataframe thead th {\n",
       "        text-align: right;\n",
       "    }\n",
       "</style>\n",
       "<table border=\"1\" class=\"dataframe\">\n",
       "  <thead>\n",
       "    <tr style=\"text-align: right;\">\n",
       "      <th></th>\n",
       "      <th>EID</th>\n",
       "      <th>ENAME</th>\n",
       "      <th>ELOC</th>\n",
       "    </tr>\n",
       "  </thead>\n",
       "  <tbody>\n",
       "    <tr>\n",
       "      <th>2</th>\n",
       "      <td>3</td>\n",
       "      <td>Rohit</td>\n",
       "      <td>Delhi</td>\n",
       "    </tr>\n",
       "    <tr>\n",
       "      <th>4</th>\n",
       "      <td>5</td>\n",
       "      <td>sohan</td>\n",
       "      <td>udaipur</td>\n",
       "    </tr>\n",
       "  </tbody>\n",
       "</table>\n",
       "</div>"
      ],
      "text/plain": [
       "   EID  ENAME     ELOC\n",
       "2    3  Rohit    Delhi\n",
       "4    5  sohan  udaipur"
      ]
     },
     "execution_count": 68,
     "metadata": {},
     "output_type": "execute_result"
    }
   ],
   "source": [
    "df3.loc[[2,4],:'ELOC']\n",
    "# [2nd row, 4th row all column nane]"
   ]
  },
  {
   "cell_type": "code",
   "execution_count": 70,
   "id": "5e455b8a-619a-43eb-9be3-812a00da2736",
   "metadata": {},
   "outputs": [
    {
     "data": {
      "text/plain": [
       "'Mohan'"
      ]
     },
     "execution_count": 70,
     "metadata": {},
     "output_type": "execute_result"
    }
   ],
   "source": [
    "df3.loc[3,'ENAME']\n",
    "# 3rd row Ename column"
   ]
  },
  {
   "cell_type": "code",
   "execution_count": 80,
   "id": "3670fcd0-e37b-4df6-821e-767337e5d803",
   "metadata": {},
   "outputs": [
    {
     "data": {
      "text/plain": [
       "2    Rohit\n",
       "3    Mohan\n",
       "4    sohan\n",
       "5    Rohan\n",
       "6    Meena\n",
       "Name: ENAME, dtype: object"
      ]
     },
     "execution_count": 80,
     "metadata": {},
     "output_type": "execute_result"
    }
   ],
   "source": [
    "df3.loc[2:6,'ENAME']\n",
    "# [2nd row to 6th row, Name column]"
   ]
  },
  {
   "cell_type": "code",
   "execution_count": 84,
   "id": "c7a52eab-3918-44ca-8834-e0e8043405b2",
   "metadata": {},
   "outputs": [
    {
     "data": {
      "text/html": [
       "<div>\n",
       "<style scoped>\n",
       "    .dataframe tbody tr th:only-of-type {\n",
       "        vertical-align: middle;\n",
       "    }\n",
       "\n",
       "    .dataframe tbody tr th {\n",
       "        vertical-align: top;\n",
       "    }\n",
       "\n",
       "    .dataframe thead th {\n",
       "        text-align: right;\n",
       "    }\n",
       "</style>\n",
       "<table border=\"1\" class=\"dataframe\">\n",
       "  <thead>\n",
       "    <tr style=\"text-align: right;\">\n",
       "      <th></th>\n",
       "      <th>ENAME</th>\n",
       "      <th>ELOC</th>\n",
       "      <th>Dept</th>\n",
       "      <th>sal</th>\n",
       "    </tr>\n",
       "  </thead>\n",
       "  <tbody>\n",
       "    <tr>\n",
       "      <th>2</th>\n",
       "      <td>Rohit</td>\n",
       "      <td>Delhi</td>\n",
       "      <td>Finance</td>\n",
       "      <td>40000</td>\n",
       "    </tr>\n",
       "    <tr>\n",
       "      <th>3</th>\n",
       "      <td>Mohan</td>\n",
       "      <td>jaipur</td>\n",
       "      <td>Testing</td>\n",
       "      <td>20000</td>\n",
       "    </tr>\n",
       "    <tr>\n",
       "      <th>4</th>\n",
       "      <td>sohan</td>\n",
       "      <td>udaipur</td>\n",
       "      <td>Dev</td>\n",
       "      <td>50000</td>\n",
       "    </tr>\n",
       "    <tr>\n",
       "      <th>5</th>\n",
       "      <td>Rohan</td>\n",
       "      <td>Nagpur</td>\n",
       "      <td>Account</td>\n",
       "      <td>60000</td>\n",
       "    </tr>\n",
       "    <tr>\n",
       "      <th>6</th>\n",
       "      <td>Meena</td>\n",
       "      <td>Yavatmal</td>\n",
       "      <td>HR</td>\n",
       "      <td>70000</td>\n",
       "    </tr>\n",
       "  </tbody>\n",
       "</table>\n",
       "</div>"
      ],
      "text/plain": [
       "   ENAME      ELOC     Dept    sal\n",
       "2  Rohit     Delhi  Finance  40000\n",
       "3  Mohan    jaipur  Testing  20000\n",
       "4  sohan   udaipur      Dev  50000\n",
       "5  Rohan    Nagpur  Account  60000\n",
       "6  Meena  Yavatmal       HR  70000"
      ]
     },
     "execution_count": 84,
     "metadata": {},
     "output_type": "execute_result"
    }
   ],
   "source": [
    "df3.loc[2:6,'ENAME':'sal']\n",
    "# [2nd to 6th row, name to sal column]"
   ]
  },
  {
   "cell_type": "code",
   "execution_count": 92,
   "id": "8a161701-ac7e-4435-9bd5-43142023ccc1",
   "metadata": {},
   "outputs": [
    {
     "data": {
      "text/html": [
       "<div>\n",
       "<style scoped>\n",
       "    .dataframe tbody tr th:only-of-type {\n",
       "        vertical-align: middle;\n",
       "    }\n",
       "\n",
       "    .dataframe tbody tr th {\n",
       "        vertical-align: top;\n",
       "    }\n",
       "\n",
       "    .dataframe thead th {\n",
       "        text-align: right;\n",
       "    }\n",
       "</style>\n",
       "<table border=\"1\" class=\"dataframe\">\n",
       "  <thead>\n",
       "    <tr style=\"text-align: right;\">\n",
       "      <th></th>\n",
       "      <th>EID</th>\n",
       "      <th>ENAME</th>\n",
       "      <th>ELOC</th>\n",
       "      <th>Dept</th>\n",
       "      <th>sal</th>\n",
       "      <th>Gender</th>\n",
       "    </tr>\n",
       "  </thead>\n",
       "  <tbody>\n",
       "    <tr>\n",
       "      <th>2</th>\n",
       "      <td>3</td>\n",
       "      <td>Rohit</td>\n",
       "      <td>Delhi</td>\n",
       "      <td>Finance</td>\n",
       "      <td>40000</td>\n",
       "      <td>Male</td>\n",
       "    </tr>\n",
       "    <tr>\n",
       "      <th>4</th>\n",
       "      <td>5</td>\n",
       "      <td>sohan</td>\n",
       "      <td>udaipur</td>\n",
       "      <td>Dev</td>\n",
       "      <td>50000</td>\n",
       "      <td>Male</td>\n",
       "    </tr>\n",
       "    <tr>\n",
       "      <th>6</th>\n",
       "      <td>7</td>\n",
       "      <td>Meena</td>\n",
       "      <td>Yavatmal</td>\n",
       "      <td>HR</td>\n",
       "      <td>70000</td>\n",
       "      <td>Male</td>\n",
       "    </tr>\n",
       "  </tbody>\n",
       "</table>\n",
       "</div>"
      ],
      "text/plain": [
       "   EID  ENAME      ELOC     Dept    sal Gender\n",
       "2    3  Rohit     Delhi  Finance  40000   Male\n",
       "4    5  sohan   udaipur      Dev  50000   Male\n",
       "6    7  Meena  Yavatmal       HR  70000   Male"
      ]
     },
     "execution_count": 92,
     "metadata": {},
     "output_type": "execute_result"
    }
   ],
   "source": [
    "df3.loc[2:7:2]     "
   ]
  },
  {
   "cell_type": "code",
   "execution_count": 102,
   "id": "ee2a1cf0-3797-4710-8929-b6b592b96a7f",
   "metadata": {},
   "outputs": [
    {
     "data": {
      "text/plain": [
       "2     Rohit\n",
       "3     Mohan\n",
       "4     sohan\n",
       "5     Rohan\n",
       "6     Meena\n",
       "7    Sheena\n",
       "Name: ENAME, dtype: object"
      ]
     },
     "execution_count": 102,
     "metadata": {},
     "output_type": "execute_result"
    }
   ],
   "source": [
    "df3.loc[2:7,'ENAME']"
   ]
  },
  {
   "cell_type": "code",
   "execution_count": 108,
   "id": "a195b9e3-51cc-4a49-9592-f9df0a159aa7",
   "metadata": {},
   "outputs": [
    {
     "data": {
      "text/html": [
       "<div>\n",
       "<style scoped>\n",
       "    .dataframe tbody tr th:only-of-type {\n",
       "        vertical-align: middle;\n",
       "    }\n",
       "\n",
       "    .dataframe tbody tr th {\n",
       "        vertical-align: top;\n",
       "    }\n",
       "\n",
       "    .dataframe thead th {\n",
       "        text-align: right;\n",
       "    }\n",
       "</style>\n",
       "<table border=\"1\" class=\"dataframe\">\n",
       "  <thead>\n",
       "    <tr style=\"text-align: right;\">\n",
       "      <th></th>\n",
       "      <th>EID</th>\n",
       "      <th>ENAME</th>\n",
       "      <th>ELOC</th>\n",
       "      <th>Dept</th>\n",
       "      <th>sal</th>\n",
       "    </tr>\n",
       "  </thead>\n",
       "  <tbody>\n",
       "    <tr>\n",
       "      <th>2</th>\n",
       "      <td>3</td>\n",
       "      <td>Rohit</td>\n",
       "      <td>Delhi</td>\n",
       "      <td>Finance</td>\n",
       "      <td>40000</td>\n",
       "    </tr>\n",
       "    <tr>\n",
       "      <th>3</th>\n",
       "      <td>4</td>\n",
       "      <td>Mohan</td>\n",
       "      <td>jaipur</td>\n",
       "      <td>Testing</td>\n",
       "      <td>20000</td>\n",
       "    </tr>\n",
       "    <tr>\n",
       "      <th>4</th>\n",
       "      <td>5</td>\n",
       "      <td>sohan</td>\n",
       "      <td>udaipur</td>\n",
       "      <td>Dev</td>\n",
       "      <td>50000</td>\n",
       "    </tr>\n",
       "    <tr>\n",
       "      <th>5</th>\n",
       "      <td>6</td>\n",
       "      <td>Rohan</td>\n",
       "      <td>Nagpur</td>\n",
       "      <td>Account</td>\n",
       "      <td>60000</td>\n",
       "    </tr>\n",
       "    <tr>\n",
       "      <th>6</th>\n",
       "      <td>7</td>\n",
       "      <td>Meena</td>\n",
       "      <td>Yavatmal</td>\n",
       "      <td>HR</td>\n",
       "      <td>70000</td>\n",
       "    </tr>\n",
       "    <tr>\n",
       "      <th>7</th>\n",
       "      <td>8</td>\n",
       "      <td>Sheena</td>\n",
       "      <td>Wardha</td>\n",
       "      <td>Finance</td>\n",
       "      <td>80000</td>\n",
       "    </tr>\n",
       "  </tbody>\n",
       "</table>\n",
       "</div>"
      ],
      "text/plain": [
       "   EID   ENAME      ELOC     Dept    sal\n",
       "2    3   Rohit     Delhi  Finance  40000\n",
       "3    4   Mohan    jaipur  Testing  20000\n",
       "4    5   sohan   udaipur      Dev  50000\n",
       "5    6   Rohan    Nagpur  Account  60000\n",
       "6    7   Meena  Yavatmal       HR  70000\n",
       "7    8  Sheena    Wardha  Finance  80000"
      ]
     },
     "execution_count": 108,
     "metadata": {},
     "output_type": "execute_result"
    }
   ],
   "source": [
    "df3.loc[2:7,'EID':'sal']"
   ]
  },
  {
   "cell_type": "code",
   "execution_count": 114,
   "id": "9500e187-e03b-4db7-b5ff-0caa34480063",
   "metadata": {},
   "outputs": [
    {
     "data": {
      "text/plain": [
       "'Rohit'"
      ]
     },
     "execution_count": 114,
     "metadata": {},
     "output_type": "execute_result"
    }
   ],
   "source": [
    "df3.loc[2,'ENAME']\n",
    "# [2nd row, Ename Column]"
   ]
  },
  {
   "cell_type": "code",
   "execution_count": 118,
   "id": "18d24e6d-f488-489a-a602-2ceeb350f45d",
   "metadata": {},
   "outputs": [
    {
     "data": {
      "text/plain": [
       "EID            3\n",
       "ENAME      Rohit\n",
       "ELOC       Delhi\n",
       "Dept     Finance\n",
       "sal        40000\n",
       "Name: 2, dtype: object"
      ]
     },
     "execution_count": 118,
     "metadata": {},
     "output_type": "execute_result"
    }
   ],
   "source": [
    "df3.loc[2,'EID':'sal']\n",
    "# [2nd row , Ename column to sal column]"
   ]
  },
  {
   "cell_type": "code",
   "execution_count": 120,
   "id": "021b2437-8bb4-4a6e-8040-d0a23ed76d0b",
   "metadata": {},
   "outputs": [
    {
     "data": {
      "text/html": [
       "<div>\n",
       "<style scoped>\n",
       "    .dataframe tbody tr th:only-of-type {\n",
       "        vertical-align: middle;\n",
       "    }\n",
       "\n",
       "    .dataframe tbody tr th {\n",
       "        vertical-align: top;\n",
       "    }\n",
       "\n",
       "    .dataframe thead th {\n",
       "        text-align: right;\n",
       "    }\n",
       "</style>\n",
       "<table border=\"1\" class=\"dataframe\">\n",
       "  <thead>\n",
       "    <tr style=\"text-align: right;\">\n",
       "      <th></th>\n",
       "      <th>EID</th>\n",
       "      <th>ENAME</th>\n",
       "      <th>ELOC</th>\n",
       "      <th>Dept</th>\n",
       "      <th>sal</th>\n",
       "      <th>Gender</th>\n",
       "    </tr>\n",
       "  </thead>\n",
       "  <tbody>\n",
       "    <tr>\n",
       "      <th>2</th>\n",
       "      <td>3</td>\n",
       "      <td>Rohit</td>\n",
       "      <td>Delhi</td>\n",
       "      <td>Finance</td>\n",
       "      <td>40000</td>\n",
       "      <td>Male</td>\n",
       "    </tr>\n",
       "    <tr>\n",
       "      <th>4</th>\n",
       "      <td>5</td>\n",
       "      <td>sohan</td>\n",
       "      <td>udaipur</td>\n",
       "      <td>Dev</td>\n",
       "      <td>50000</td>\n",
       "      <td>Male</td>\n",
       "    </tr>\n",
       "    <tr>\n",
       "      <th>5</th>\n",
       "      <td>6</td>\n",
       "      <td>Rohan</td>\n",
       "      <td>Nagpur</td>\n",
       "      <td>Account</td>\n",
       "      <td>60000</td>\n",
       "      <td>Female</td>\n",
       "    </tr>\n",
       "  </tbody>\n",
       "</table>\n",
       "</div>"
      ],
      "text/plain": [
       "   EID  ENAME     ELOC     Dept    sal  Gender\n",
       "2    3  Rohit    Delhi  Finance  40000    Male\n",
       "4    5  sohan  udaipur      Dev  50000    Male\n",
       "5    6  Rohan   Nagpur  Account  60000  Female"
      ]
     },
     "execution_count": 120,
     "metadata": {},
     "output_type": "execute_result"
    }
   ],
   "source": [
    "df3.loc[[2,4,5],:]   "
   ]
  },
  {
   "cell_type": "code",
   "execution_count": 128,
   "id": "cf24d56d-d58b-4552-a6d8-1f21aba5490d",
   "metadata": {},
   "outputs": [
    {
     "data": {
      "text/html": [
       "<div>\n",
       "<style scoped>\n",
       "    .dataframe tbody tr th:only-of-type {\n",
       "        vertical-align: middle;\n",
       "    }\n",
       "\n",
       "    .dataframe tbody tr th {\n",
       "        vertical-align: top;\n",
       "    }\n",
       "\n",
       "    .dataframe thead th {\n",
       "        text-align: right;\n",
       "    }\n",
       "</style>\n",
       "<table border=\"1\" class=\"dataframe\">\n",
       "  <thead>\n",
       "    <tr style=\"text-align: right;\">\n",
       "      <th></th>\n",
       "      <th>EID</th>\n",
       "      <th>ENAME</th>\n",
       "      <th>ELOC</th>\n",
       "      <th>Dept</th>\n",
       "      <th>sal</th>\n",
       "    </tr>\n",
       "  </thead>\n",
       "  <tbody>\n",
       "    <tr>\n",
       "      <th>2</th>\n",
       "      <td>3</td>\n",
       "      <td>Rohit</td>\n",
       "      <td>Delhi</td>\n",
       "      <td>Finance</td>\n",
       "      <td>40000</td>\n",
       "    </tr>\n",
       "    <tr>\n",
       "      <th>5</th>\n",
       "      <td>6</td>\n",
       "      <td>Rohan</td>\n",
       "      <td>Nagpur</td>\n",
       "      <td>Account</td>\n",
       "      <td>60000</td>\n",
       "    </tr>\n",
       "  </tbody>\n",
       "</table>\n",
       "</div>"
      ],
      "text/plain": [
       "   EID  ENAME    ELOC     Dept    sal\n",
       "2    3  Rohit   Delhi  Finance  40000\n",
       "5    6  Rohan  Nagpur  Account  60000"
      ]
     },
     "execution_count": 128,
     "metadata": {},
     "output_type": "execute_result"
    }
   ],
   "source": [
    "df3.loc[[2,5], 'EID':'sal'] \n",
    "# "
   ]
  },
  {
   "cell_type": "code",
   "execution_count": 130,
   "id": "f33442eb-48fa-40f8-b992-2e01cf4bafd2",
   "metadata": {},
   "outputs": [
    {
     "data": {
      "text/html": [
       "<div>\n",
       "<style scoped>\n",
       "    .dataframe tbody tr th:only-of-type {\n",
       "        vertical-align: middle;\n",
       "    }\n",
       "\n",
       "    .dataframe tbody tr th {\n",
       "        vertical-align: top;\n",
       "    }\n",
       "\n",
       "    .dataframe thead th {\n",
       "        text-align: right;\n",
       "    }\n",
       "</style>\n",
       "<table border=\"1\" class=\"dataframe\">\n",
       "  <thead>\n",
       "    <tr style=\"text-align: right;\">\n",
       "      <th></th>\n",
       "      <th>EID</th>\n",
       "      <th>ENAME</th>\n",
       "      <th>ELOC</th>\n",
       "      <th>Dept</th>\n",
       "      <th>sal</th>\n",
       "      <th>Gender</th>\n",
       "    </tr>\n",
       "  </thead>\n",
       "  <tbody>\n",
       "    <tr>\n",
       "      <th>2</th>\n",
       "      <td>3</td>\n",
       "      <td>Rohit</td>\n",
       "      <td>Delhi</td>\n",
       "      <td>Finance</td>\n",
       "      <td>40000</td>\n",
       "      <td>Male</td>\n",
       "    </tr>\n",
       "  </tbody>\n",
       "</table>\n",
       "</div>"
      ],
      "text/plain": [
       "   EID  ENAME   ELOC     Dept    sal Gender\n",
       "2    3  Rohit  Delhi  Finance  40000   Male"
      ]
     },
     "execution_count": 130,
     "metadata": {},
     "output_type": "execute_result"
    }
   ],
   "source": [
    "df3.loc[df3['ENAME'] == 'Rohit'] \n",
    "# [rohit name row will show]"
   ]
  },
  {
   "cell_type": "code",
   "execution_count": 136,
   "id": "5010a0dc-0030-413c-b117-5c590aef212d",
   "metadata": {},
   "outputs": [
    {
     "ename": "SyntaxError",
     "evalue": "invalid syntax (2792952791.py, line 1)",
     "output_type": "error",
     "traceback": [
      "\u001b[1;36m  Cell \u001b[1;32mIn[136], line 1\u001b[1;36m\u001b[0m\n\u001b[1;33m    df3.loc[ :, ['EID':'sal']]\u001b[0m\n\u001b[1;37m                      ^\u001b[0m\n\u001b[1;31mSyntaxError\u001b[0m\u001b[1;31m:\u001b[0m invalid syntax\n"
     ]
    }
   ],
   "source": [
    "df3.loc[ :, ['EID':'sal']]"
   ]
  },
  {
   "cell_type": "code",
   "execution_count": 138,
   "id": "014a10bb-c08b-4ea9-aeab-6ca1bbf404df",
   "metadata": {},
   "outputs": [
    {
     "data": {
      "text/html": [
       "<div>\n",
       "<style scoped>\n",
       "    .dataframe tbody tr th:only-of-type {\n",
       "        vertical-align: middle;\n",
       "    }\n",
       "\n",
       "    .dataframe tbody tr th {\n",
       "        vertical-align: top;\n",
       "    }\n",
       "\n",
       "    .dataframe thead th {\n",
       "        text-align: right;\n",
       "    }\n",
       "</style>\n",
       "<table border=\"1\" class=\"dataframe\">\n",
       "  <thead>\n",
       "    <tr style=\"text-align: right;\">\n",
       "      <th></th>\n",
       "      <th>EID</th>\n",
       "      <th>ENAME</th>\n",
       "      <th>ELOC</th>\n",
       "      <th>Dept</th>\n",
       "      <th>sal</th>\n",
       "    </tr>\n",
       "  </thead>\n",
       "  <tbody>\n",
       "    <tr>\n",
       "      <th>0</th>\n",
       "      <td>1</td>\n",
       "      <td>praveen</td>\n",
       "      <td>pune</td>\n",
       "      <td>finance</td>\n",
       "      <td>20000</td>\n",
       "    </tr>\n",
       "    <tr>\n",
       "      <th>1</th>\n",
       "      <td>2</td>\n",
       "      <td>Amit</td>\n",
       "      <td>Agra</td>\n",
       "      <td>HR</td>\n",
       "      <td>30000</td>\n",
       "    </tr>\n",
       "    <tr>\n",
       "      <th>2</th>\n",
       "      <td>3</td>\n",
       "      <td>Rohit</td>\n",
       "      <td>Delhi</td>\n",
       "      <td>Finance</td>\n",
       "      <td>40000</td>\n",
       "    </tr>\n",
       "    <tr>\n",
       "      <th>3</th>\n",
       "      <td>4</td>\n",
       "      <td>Mohan</td>\n",
       "      <td>jaipur</td>\n",
       "      <td>Testing</td>\n",
       "      <td>20000</td>\n",
       "    </tr>\n",
       "    <tr>\n",
       "      <th>4</th>\n",
       "      <td>5</td>\n",
       "      <td>sohan</td>\n",
       "      <td>udaipur</td>\n",
       "      <td>Dev</td>\n",
       "      <td>50000</td>\n",
       "    </tr>\n",
       "    <tr>\n",
       "      <th>5</th>\n",
       "      <td>6</td>\n",
       "      <td>Rohan</td>\n",
       "      <td>Nagpur</td>\n",
       "      <td>Account</td>\n",
       "      <td>60000</td>\n",
       "    </tr>\n",
       "    <tr>\n",
       "      <th>6</th>\n",
       "      <td>7</td>\n",
       "      <td>Meena</td>\n",
       "      <td>Yavatmal</td>\n",
       "      <td>HR</td>\n",
       "      <td>70000</td>\n",
       "    </tr>\n",
       "    <tr>\n",
       "      <th>7</th>\n",
       "      <td>8</td>\n",
       "      <td>Sheena</td>\n",
       "      <td>Wardha</td>\n",
       "      <td>Finance</td>\n",
       "      <td>80000</td>\n",
       "    </tr>\n",
       "    <tr>\n",
       "      <th>8</th>\n",
       "      <td>9</td>\n",
       "      <td>Tina</td>\n",
       "      <td>Nanded</td>\n",
       "      <td>Account</td>\n",
       "      <td>90000</td>\n",
       "    </tr>\n",
       "    <tr>\n",
       "      <th>9</th>\n",
       "      <td>10</td>\n",
       "      <td>Mona</td>\n",
       "      <td>Latur</td>\n",
       "      <td>Dev</td>\n",
       "      <td>75000</td>\n",
       "    </tr>\n",
       "  </tbody>\n",
       "</table>\n",
       "</div>"
      ],
      "text/plain": [
       "   EID    ENAME      ELOC     Dept    sal\n",
       "0    1  praveen      pune  finance  20000\n",
       "1    2     Amit      Agra       HR  30000\n",
       "2    3    Rohit     Delhi  Finance  40000\n",
       "3    4    Mohan    jaipur  Testing  20000\n",
       "4    5    sohan   udaipur      Dev  50000\n",
       "5    6    Rohan    Nagpur  Account  60000\n",
       "6    7    Meena  Yavatmal       HR  70000\n",
       "7    8   Sheena    Wardha  Finance  80000\n",
       "8    9     Tina    Nanded  Account  90000\n",
       "9   10     Mona     Latur      Dev  75000"
      ]
     },
     "execution_count": 138,
     "metadata": {},
     "output_type": "execute_result"
    }
   ],
   "source": [
    "df3.loc[:, 'EID':'sal']"
   ]
  },
  {
   "cell_type": "code",
   "execution_count": 148,
   "id": "e1b4ce49-1a95-4c3f-b3d3-54ce197c15f3",
   "metadata": {},
   "outputs": [
    {
     "data": {
      "text/plain": [
       "'Rohit'"
      ]
     },
     "execution_count": 148,
     "metadata": {},
     "output_type": "execute_result"
    }
   ],
   "source": [
    "df3.iloc[2,1]"
   ]
  },
  {
   "cell_type": "code",
   "execution_count": 172,
   "id": "05795247-e931-41bd-a99d-dee3154db436",
   "metadata": {},
   "outputs": [
    {
     "data": {
      "text/html": [
       "<div>\n",
       "<style scoped>\n",
       "    .dataframe tbody tr th:only-of-type {\n",
       "        vertical-align: middle;\n",
       "    }\n",
       "\n",
       "    .dataframe tbody tr th {\n",
       "        vertical-align: top;\n",
       "    }\n",
       "\n",
       "    .dataframe thead th {\n",
       "        text-align: right;\n",
       "    }\n",
       "</style>\n",
       "<table border=\"1\" class=\"dataframe\">\n",
       "  <thead>\n",
       "    <tr style=\"text-align: right;\">\n",
       "      <th></th>\n",
       "      <th>Name</th>\n",
       "      <th>EID</th>\n",
       "      <th>Age</th>\n",
       "    </tr>\n",
       "  </thead>\n",
       "  <tbody>\n",
       "    <tr>\n",
       "      <th>2</th>\n",
       "      <td>Rohit</td>\n",
       "      <td>103</td>\n",
       "      <td>35</td>\n",
       "    </tr>\n",
       "    <tr>\n",
       "      <th>4</th>\n",
       "      <td>Rohit</td>\n",
       "      <td>105</td>\n",
       "      <td>50</td>\n",
       "    </tr>\n",
       "  </tbody>\n",
       "</table>\n",
       "</div>"
      ],
      "text/plain": [
       "    Name  EID  Age\n",
       "2  Rohit  103   35\n",
       "4  Rohit  105   50"
      ]
     },
     "execution_count": 172,
     "metadata": {},
     "output_type": "execute_result"
    }
   ],
   "source": [
    "#df3.loc[df3[2] == 'Rohit'] \n",
    "df3.loc[df3.iloc[:, 0] == 'Rohit']"
   ]
  },
  {
   "cell_type": "code",
   "execution_count": 156,
   "id": "b5abdd63-4c33-41a9-8a5f-0b95b9bc23c2",
   "metadata": {},
   "outputs": [
    {
     "name": "stdout",
     "output_type": "stream",
     "text": [
      "    Name  EID  Age\n",
      "0  Alice  101   24\n",
      "1    Bob  102   30\n",
      "2  Rohit  103   35\n",
      "3  David  104   40\n",
      "4  Rohit  105   50\n"
     ]
    }
   ],
   "source": [
    "import pandas as pd\n",
    "\n",
    "# Sample DataFrame\n",
    "data = {\n",
    "    'Name': ['Alice', 'Bob', 'Rohit', 'David', 'Rohit'],\n",
    "    'EID': [101, 102, 103, 104, 105],\n",
    "    'Age': [24, 30, 35, 40, 50]\n",
    "}\n",
    "\n",
    "df3 = pd.DataFrame(data)\n",
    "\n",
    "\n",
    "print(df3)"
   ]
  },
  {
   "cell_type": "code",
   "execution_count": 160,
   "id": "951d7c04-72a6-4c09-9613-0ef9f145fb60",
   "metadata": {},
   "outputs": [
    {
     "name": "stdout",
     "output_type": "stream",
     "text": [
      "    Name  EID  Age\n",
      "2  Rohit  103   35\n",
      "4  Rohit  105   50\n"
     ]
    }
   ],
   "source": [
    "# Using positional indexing with .iloc\n",
    "result_pos = df3.loc[df3.iloc[:, 0] == 'Rohit']  # Select rows where 1st column equals 'Rohit'\n",
    "print(result_pos)"
   ]
  },
  {
   "cell_type": "code",
   "execution_count": 158,
   "id": "e98ec3b6-beca-4bf6-b306-a14913c7ea52",
   "metadata": {},
   "outputs": [
    {
     "name": "stdout",
     "output_type": "stream",
     "text": [
      "    Name  EID  Age\n",
      "2  Rohit  103   35\n",
      "4  Rohit  105   50\n"
     ]
    }
   ],
   "source": [
    "# Using column name directly\n",
    "result_name = df3.loc[df3['Name'] == 'Rohit']\n",
    "print(result_name)"
   ]
  },
  {
   "cell_type": "code",
   "execution_count": null,
   "id": "1f6c0329-c2aa-48d0-86aa-c841e2bcb344",
   "metadata": {},
   "outputs": [],
   "source": []
  }
 ],
 "metadata": {
  "kernelspec": {
   "display_name": "Python 3 (ipykernel)",
   "language": "python",
   "name": "python3"
  },
  "language_info": {
   "codemirror_mode": {
    "name": "ipython",
    "version": 3
   },
   "file_extension": ".py",
   "mimetype": "text/x-python",
   "name": "python",
   "nbconvert_exporter": "python",
   "pygments_lexer": "ipython3",
   "version": "3.12.4"
  }
 },
 "nbformat": 4,
 "nbformat_minor": 5
}
