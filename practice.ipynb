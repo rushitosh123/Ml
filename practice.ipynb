{
 "cells": [
  {
   "cell_type": "code",
   "execution_count": 39,
   "id": "b789ebae-edf4-492d-8bb9-f1e8f6453b8f",
   "metadata": {},
   "outputs": [
    {
     "ename": "NameError",
     "evalue": "name 'df' is not defined",
     "output_type": "error",
     "traceback": [
      "\u001b[1;31m---------------------------------------------------------------------------\u001b[0m",
      "\u001b[1;31mNameError\u001b[0m                                 Traceback (most recent call last)",
      "Cell \u001b[1;32mIn[39], line 1\u001b[0m\n\u001b[1;32m----> 1\u001b[0m duplicates  \u001b[38;5;241m=\u001b[39m df[df\u001b[38;5;241m.\u001b[39mduplicated(subset \u001b[38;5;241m=\u001b[39m [\u001b[38;5;124m'\u001b[39m\u001b[38;5;124mA\u001b[39m\u001b[38;5;124m'\u001b[39m, \u001b[38;5;124m'\u001b[39m\u001b[38;5;124mB\u001b[39m\u001b[38;5;124m'\u001b[39m, \u001b[38;5;124m'\u001b[39m\u001b[38;5;124mC\u001b[39m\u001b[38;5;124m'\u001b[39m])]\n\u001b[0;32m      2\u001b[0m \u001b[38;5;28mprint\u001b[39m(duplicates)\n",
      "\u001b[1;31mNameError\u001b[0m: name 'df' is not defined"
     ]
    }
   ],
   "source": [
    "duplicates  = df[df.duplicated(subset = ['A', 'B', 'C'])]\n",
    "print(duplicates)"
   ]
  },
  {
   "cell_type": "code",
   "execution_count": 41,
   "id": "d46b512e-b280-4029-97c0-3d87bbfcbbfa",
   "metadata": {},
   "outputs": [],
   "source": [
    "data = {\n",
    "    'Name' : [\"Hrushi\", 'Rahul', 'Prerna', 'Shantabai'],\n",
    "    'id': [1, 2,3,4],\n",
    "    'Age': [27, 44,77, 23]\n",
    "}"
   ]
  },
  {
   "cell_type": "code",
   "execution_count": 43,
   "id": "5ce98cf5-2cd0-497b-a9bc-65f032b3e542",
   "metadata": {},
   "outputs": [
    {
     "data": {
      "text/plain": [
       "{'Name': ['Hrushi', 'Rahul', 'Prerna', 'Shantabai'],\n",
       " 'id': [1, 2, 3, 4],\n",
       " 'Age': [27, 44, 77, 23]}"
      ]
     },
     "execution_count": 43,
     "metadata": {},
     "output_type": "execute_result"
    }
   ],
   "source": [
    "data"
   ]
  },
  {
   "cell_type": "code",
   "execution_count": 45,
   "id": "cc145ccc-35e6-4b42-99eb-3ab386ee34ea",
   "metadata": {},
   "outputs": [],
   "source": [
    "import pandas as pd"
   ]
  },
  {
   "cell_type": "code",
   "execution_count": 47,
   "id": "e4c5af9f-6263-49ad-b482-19198f5eb39a",
   "metadata": {},
   "outputs": [],
   "source": [
    "df = pd.DataFrame(data)"
   ]
  },
  {
   "cell_type": "code",
   "execution_count": 49,
   "id": "7c37321c-a431-4903-bb78-c47c1d8765c8",
   "metadata": {},
   "outputs": [
    {
     "data": {
      "text/html": [
       "<div>\n",
       "<style scoped>\n",
       "    .dataframe tbody tr th:only-of-type {\n",
       "        vertical-align: middle;\n",
       "    }\n",
       "\n",
       "    .dataframe tbody tr th {\n",
       "        vertical-align: top;\n",
       "    }\n",
       "\n",
       "    .dataframe thead th {\n",
       "        text-align: right;\n",
       "    }\n",
       "</style>\n",
       "<table border=\"1\" class=\"dataframe\">\n",
       "  <thead>\n",
       "    <tr style=\"text-align: right;\">\n",
       "      <th></th>\n",
       "      <th>Name</th>\n",
       "      <th>id</th>\n",
       "      <th>Age</th>\n",
       "    </tr>\n",
       "  </thead>\n",
       "  <tbody>\n",
       "    <tr>\n",
       "      <th>0</th>\n",
       "      <td>Hrushi</td>\n",
       "      <td>1</td>\n",
       "      <td>27</td>\n",
       "    </tr>\n",
       "    <tr>\n",
       "      <th>1</th>\n",
       "      <td>Rahul</td>\n",
       "      <td>2</td>\n",
       "      <td>44</td>\n",
       "    </tr>\n",
       "    <tr>\n",
       "      <th>2</th>\n",
       "      <td>Prerna</td>\n",
       "      <td>3</td>\n",
       "      <td>77</td>\n",
       "    </tr>\n",
       "    <tr>\n",
       "      <th>3</th>\n",
       "      <td>Shantabai</td>\n",
       "      <td>4</td>\n",
       "      <td>23</td>\n",
       "    </tr>\n",
       "  </tbody>\n",
       "</table>\n",
       "</div>"
      ],
      "text/plain": [
       "        Name  id  Age\n",
       "0     Hrushi   1   27\n",
       "1      Rahul   2   44\n",
       "2     Prerna   3   77\n",
       "3  Shantabai   4   23"
      ]
     },
     "execution_count": 49,
     "metadata": {},
     "output_type": "execute_result"
    }
   ],
   "source": [
    "df"
   ]
  },
  {
   "cell_type": "code",
   "execution_count": 51,
   "id": "ddc7c657-caa4-49a6-80cd-ef5493ba6d94",
   "metadata": {},
   "outputs": [],
   "source": [
    "df2 =pd.DataFrame(\n",
    "    {  \n",
    "    'Name' : [\"Hrushi\", 'Rahul', 'Prerna', 'Shantabai'],\n",
    "    'id': [1, 2,3,4],\n",
    "    'Age': [27, 44,77, 23]\n",
    "        \n",
    "    }\n",
    ")"
   ]
  },
  {
   "cell_type": "code",
   "execution_count": 53,
   "id": "95b7bd53-6f27-4e61-bb7e-c741e077c8cf",
   "metadata": {},
   "outputs": [
    {
     "data": {
      "text/html": [
       "<div>\n",
       "<style scoped>\n",
       "    .dataframe tbody tr th:only-of-type {\n",
       "        vertical-align: middle;\n",
       "    }\n",
       "\n",
       "    .dataframe tbody tr th {\n",
       "        vertical-align: top;\n",
       "    }\n",
       "\n",
       "    .dataframe thead th {\n",
       "        text-align: right;\n",
       "    }\n",
       "</style>\n",
       "<table border=\"1\" class=\"dataframe\">\n",
       "  <thead>\n",
       "    <tr style=\"text-align: right;\">\n",
       "      <th></th>\n",
       "      <th>Name</th>\n",
       "      <th>id</th>\n",
       "      <th>Age</th>\n",
       "    </tr>\n",
       "  </thead>\n",
       "  <tbody>\n",
       "    <tr>\n",
       "      <th>0</th>\n",
       "      <td>Hrushi</td>\n",
       "      <td>1</td>\n",
       "      <td>27</td>\n",
       "    </tr>\n",
       "    <tr>\n",
       "      <th>1</th>\n",
       "      <td>Rahul</td>\n",
       "      <td>2</td>\n",
       "      <td>44</td>\n",
       "    </tr>\n",
       "    <tr>\n",
       "      <th>2</th>\n",
       "      <td>Prerna</td>\n",
       "      <td>3</td>\n",
       "      <td>77</td>\n",
       "    </tr>\n",
       "    <tr>\n",
       "      <th>3</th>\n",
       "      <td>Shantabai</td>\n",
       "      <td>4</td>\n",
       "      <td>23</td>\n",
       "    </tr>\n",
       "  </tbody>\n",
       "</table>\n",
       "</div>"
      ],
      "text/plain": [
       "        Name  id  Age\n",
       "0     Hrushi   1   27\n",
       "1      Rahul   2   44\n",
       "2     Prerna   3   77\n",
       "3  Shantabai   4   23"
      ]
     },
     "execution_count": 53,
     "metadata": {},
     "output_type": "execute_result"
    }
   ],
   "source": [
    "df2"
   ]
  },
  {
   "cell_type": "code",
   "execution_count": null,
   "id": "91b26c40-403f-42ed-8f2d-2b7282243efe",
   "metadata": {},
   "outputs": [],
   "source": []
  },
  {
   "cell_type": "code",
   "execution_count": 56,
   "id": "e33430fc-69c0-4aac-bdb8-f2c9af29704d",
   "metadata": {},
   "outputs": [
    {
     "ename": "SyntaxError",
     "evalue": "invalid syntax (3782671021.py, line 1)",
     "output_type": "error",
     "traceback": [
      "\u001b[1;36m  Cell \u001b[1;32mIn[56], line 1\u001b[1;36m\u001b[0m\n\u001b[1;33m    loc[] b\u001b[0m\n\u001b[1;37m        ^\u001b[0m\n\u001b[1;31mSyntaxError\u001b[0m\u001b[1;31m:\u001b[0m invalid syntax\n"
     ]
    }
   ],
   "source": [
    "loc[] b"
   ]
  },
  {
   "cell_type": "code",
   "execution_count": 58,
   "id": "9833c782-7891-44c6-b691-f61434c1f429",
   "metadata": {},
   "outputs": [
    {
     "ename": "IndentationError",
     "evalue": "unexpected indent (1104216357.py, line 2)",
     "output_type": "error",
     "traceback": [
      "\u001b[1;36m  Cell \u001b[1;32mIn[58], line 2\u001b[1;36m\u001b[0m\n\u001b[1;33m    = 0,1,2\u001b[0m\n\u001b[1;37m    ^\u001b[0m\n\u001b[1;31mIndentationError\u001b[0m\u001b[1;31m:\u001b[0m unexpected indent\n"
     ]
    }
   ],
   "source": [
    "A = [2,2,5,7,13] \n",
    "   = 0,1,2\n",
    "   = 0,3\n",
    "   =1,3\n"
   ]
  },
  {
   "cell_type": "code",
   "execution_count": 60,
   "id": "fdec54ce-6c17-4252-821f-5a9d1fb718d0",
   "metadata": {},
   "outputs": [
    {
     "ename": "SyntaxError",
     "evalue": "unmatched ')' (3621100951.py, line 11)",
     "output_type": "error",
     "traceback": [
      "\u001b[1;36m  Cell \u001b[1;32mIn[60], line 11\u001b[1;36m\u001b[0m\n\u001b[1;33m    index = find_index(A,value_ad, target))\u001b[0m\n\u001b[1;37m                                          ^\u001b[0m\n\u001b[1;31mSyntaxError\u001b[0m\u001b[1;31m:\u001b[0m unmatched ')'\n"
     ]
    }
   ],
   "source": [
    "def find_index(st, value_ad, target):\n",
    "    \n",
    "    for i in enumerate(st):\n",
    "        if num + value_ad == target:\n",
    "            return i\n",
    "    return -1\n",
    "A = [2,2,5,7,13] \n",
    "value_ad = 2\n",
    "taget = 9\n",
    "\n",
    "index = find_index(A,value_ad, target))\n",
    "print(index)"
   ]
  },
  {
   "cell_type": "code",
   "execution_count": null,
   "id": "369d1986-7f1a-4a6e-a2c0-af329c3cf1c7",
   "metadata": {},
   "outputs": [],
   "source": []
  },
  {
   "cell_type": "code",
   "execution_count": 63,
   "id": "bdc5bf95-3288-407d-8902-7b50403f6bdb",
   "metadata": {},
   "outputs": [],
   "source": [
    "import os\n",
    "for dirname, _, filenames in os.walk('/kaggle/input'):\n",
    "    for filename in filenames:\n",
    "        print(os.path.join(dirname, filename))"
   ]
  },
  {
   "cell_type": "code",
   "execution_count": 65,
   "id": "f7c1978e-5728-447f-b490-911d361b0d74",
   "metadata": {},
   "outputs": [],
   "source": [
    "import pandas as pd"
   ]
  },
  {
   "cell_type": "code",
   "execution_count": 67,
   "id": "64cddbc0-77e9-4a3a-91c4-64baf78a2762",
   "metadata": {},
   "outputs": [
    {
     "name": "stdout",
     "output_type": "stream",
     "text": [
      "Hello, World!\n"
     ]
    }
   ],
   "source": [
    "if __name__ == \"__main__\":\n",
    "    print(\"Hello, World!\")"
   ]
  },
  {
   "cell_type": "code",
   "execution_count": 69,
   "id": "dddc549a-146c-4b5f-8ae3-721637a8b2e9",
   "metadata": {},
   "outputs": [
    {
     "name": "stdout",
     "output_type": "stream",
     "text": [
      "Hello\n"
     ]
    }
   ],
   "source": [
    "if __name__ == \"__main__\":\n",
    "    print(\"Hello\")"
   ]
  },
  {
   "cell_type": "code",
   "execution_count": 71,
   "id": "f4e7ca14-5dc2-41c6-b37d-38de212d8000",
   "metadata": {},
   "outputs": [
    {
     "name": "stdout",
     "output_type": "stream",
     "text": [
      "before import\n",
      "before function_a\n",
      "before function_b\n",
      "before __name__ guard\n",
      "Function A\n",
      "Function B 10.0\n",
      "after __name__ guard\n"
     ]
    }
   ],
   "source": [
    "# Suppose this is foo.py.\n",
    "\n",
    "print(\"before import\")\n",
    "import math\n",
    "\n",
    "print(\"before function_a\")\n",
    "def function_a():\n",
    "    print(\"Function A\")\n",
    "\n",
    "print(\"before function_b\")\n",
    "def function_b():\n",
    "    print(\"Function B {}\".format(math.sqrt(100)))\n",
    "\n",
    "print(\"before __name__ guard\")\n",
    "if __name__ == '__main__':\n",
    "    function_a()\n",
    "    function_b()\n",
    "#\n",
    "print(\"after __name__ guard\")\n"
   ]
  },
  {
   "cell_type": "code",
   "execution_count": 73,
   "id": "19a5728b-3ad1-4f20-b849-5b88c616e084",
   "metadata": {},
   "outputs": [
    {
     "name": "stdout",
     "output_type": "stream",
     "text": [
      "Nehe : Hi Hrushitosh\n",
      "Neha : Where are you\n",
      "Hrushi : i am in hyderabad\n",
      "Hrushi : I am fine\n",
      "Hrushi: how are you neha\n"
     ]
    }
   ],
   "source": [
    "print(\"Nehe : Hi Hrushitosh\")\n",
    "\n",
    "def call():\n",
    "    print(\"Neha : How are you\")\n",
    "\n",
    "print(\"Neha : Where are you\")\n",
    "def HrushiA():\n",
    "    print(\"Hrushi : I am fine\")\n",
    "\n",
    "print(\"Hrushi : i am in hyderabad\")\n",
    "\n",
    "def HrushiB():\n",
    "    print(\"Hrushi: how are you neha\")\n",
    "\n",
    "if __name__ == \"__main__\":\n",
    "    HrushiA()\n",
    "    HrushiB()"
   ]
  },
  {
   "cell_type": "code",
   "execution_count": 74,
   "id": "caf03b6b-f13f-4d38-9cd5-603585cf2704",
   "metadata": {},
   "outputs": [],
   "source": [
    "import pandas as pd"
   ]
  },
  {
   "cell_type": "code",
   "execution_count": 75,
   "id": "343f70a8-d9d5-46ee-ba2e-f7307038cfe5",
   "metadata": {},
   "outputs": [
    {
     "data": {
      "text/html": [
       "<div>\n",
       "<style scoped>\n",
       "    .dataframe tbody tr th:only-of-type {\n",
       "        vertical-align: middle;\n",
       "    }\n",
       "\n",
       "    .dataframe tbody tr th {\n",
       "        vertical-align: top;\n",
       "    }\n",
       "\n",
       "    .dataframe thead th {\n",
       "        text-align: right;\n",
       "    }\n",
       "</style>\n",
       "<table border=\"1\" class=\"dataframe\">\n",
       "  <thead>\n",
       "    <tr style=\"text-align: right;\">\n",
       "      <th></th>\n",
       "      <th>CRIM</th>\n",
       "      <th>ZN</th>\n",
       "      <th>INDUS</th>\n",
       "      <th>CHAS</th>\n",
       "      <th>NX</th>\n",
       "      <th>RM</th>\n",
       "      <th>AGE</th>\n",
       "      <th>DIS</th>\n",
       "      <th>RAD</th>\n",
       "      <th>TAX</th>\n",
       "      <th>PTRATIO</th>\n",
       "      <th>B</th>\n",
       "      <th>LSTAT</th>\n",
       "      <th>MEDV</th>\n",
       "    </tr>\n",
       "  </thead>\n",
       "  <tbody>\n",
       "    <tr>\n",
       "      <th>0</th>\n",
       "      <td>0.00632</td>\n",
       "      <td>18.0</td>\n",
       "      <td>2.31</td>\n",
       "      <td>0</td>\n",
       "      <td>0.538</td>\n",
       "      <td>6.575</td>\n",
       "      <td>65.2</td>\n",
       "      <td>4.0900</td>\n",
       "      <td>1</td>\n",
       "      <td>296.0</td>\n",
       "      <td>15.3</td>\n",
       "      <td>396.90</td>\n",
       "      <td>4.98</td>\n",
       "      <td>24.0</td>\n",
       "    </tr>\n",
       "    <tr>\n",
       "      <th>1</th>\n",
       "      <td>0.02731</td>\n",
       "      <td>0.0</td>\n",
       "      <td>7.07</td>\n",
       "      <td>0</td>\n",
       "      <td>0.469</td>\n",
       "      <td>6.421</td>\n",
       "      <td>78.9</td>\n",
       "      <td>4.9671</td>\n",
       "      <td>2</td>\n",
       "      <td>242.0</td>\n",
       "      <td>17.8</td>\n",
       "      <td>396.90</td>\n",
       "      <td>9.14</td>\n",
       "      <td>21.6</td>\n",
       "    </tr>\n",
       "    <tr>\n",
       "      <th>2</th>\n",
       "      <td>0.02729</td>\n",
       "      <td>0.0</td>\n",
       "      <td>7.07</td>\n",
       "      <td>0</td>\n",
       "      <td>0.469</td>\n",
       "      <td>7.185</td>\n",
       "      <td>61.1</td>\n",
       "      <td>4.9671</td>\n",
       "      <td>2</td>\n",
       "      <td>242.0</td>\n",
       "      <td>17.8</td>\n",
       "      <td>392.83</td>\n",
       "      <td>4.03</td>\n",
       "      <td>34.7</td>\n",
       "    </tr>\n",
       "    <tr>\n",
       "      <th>3</th>\n",
       "      <td>0.03237</td>\n",
       "      <td>0.0</td>\n",
       "      <td>2.18</td>\n",
       "      <td>0</td>\n",
       "      <td>0.458</td>\n",
       "      <td>6.998</td>\n",
       "      <td>45.8</td>\n",
       "      <td>6.0622</td>\n",
       "      <td>3</td>\n",
       "      <td>222.0</td>\n",
       "      <td>18.7</td>\n",
       "      <td>394.63</td>\n",
       "      <td>2.94</td>\n",
       "      <td>33.4</td>\n",
       "    </tr>\n",
       "    <tr>\n",
       "      <th>4</th>\n",
       "      <td>0.06905</td>\n",
       "      <td>0.0</td>\n",
       "      <td>2.18</td>\n",
       "      <td>0</td>\n",
       "      <td>0.458</td>\n",
       "      <td>7.147</td>\n",
       "      <td>54.2</td>\n",
       "      <td>6.0622</td>\n",
       "      <td>3</td>\n",
       "      <td>222.0</td>\n",
       "      <td>18.7</td>\n",
       "      <td>396.90</td>\n",
       "      <td>5.33</td>\n",
       "      <td>36.2</td>\n",
       "    </tr>\n",
       "    <tr>\n",
       "      <th>...</th>\n",
       "      <td>...</td>\n",
       "      <td>...</td>\n",
       "      <td>...</td>\n",
       "      <td>...</td>\n",
       "      <td>...</td>\n",
       "      <td>...</td>\n",
       "      <td>...</td>\n",
       "      <td>...</td>\n",
       "      <td>...</td>\n",
       "      <td>...</td>\n",
       "      <td>...</td>\n",
       "      <td>...</td>\n",
       "      <td>...</td>\n",
       "      <td>...</td>\n",
       "    </tr>\n",
       "    <tr>\n",
       "      <th>501</th>\n",
       "      <td>0.06263</td>\n",
       "      <td>0.0</td>\n",
       "      <td>11.93</td>\n",
       "      <td>0</td>\n",
       "      <td>0.573</td>\n",
       "      <td>6.593</td>\n",
       "      <td>69.1</td>\n",
       "      <td>2.4786</td>\n",
       "      <td>1</td>\n",
       "      <td>273.0</td>\n",
       "      <td>21.0</td>\n",
       "      <td>391.99</td>\n",
       "      <td>9.67</td>\n",
       "      <td>22.4</td>\n",
       "    </tr>\n",
       "    <tr>\n",
       "      <th>502</th>\n",
       "      <td>0.04527</td>\n",
       "      <td>0.0</td>\n",
       "      <td>11.93</td>\n",
       "      <td>0</td>\n",
       "      <td>0.573</td>\n",
       "      <td>6.120</td>\n",
       "      <td>76.7</td>\n",
       "      <td>2.2875</td>\n",
       "      <td>1</td>\n",
       "      <td>273.0</td>\n",
       "      <td>21.0</td>\n",
       "      <td>396.90</td>\n",
       "      <td>9.08</td>\n",
       "      <td>20.6</td>\n",
       "    </tr>\n",
       "    <tr>\n",
       "      <th>503</th>\n",
       "      <td>0.06076</td>\n",
       "      <td>0.0</td>\n",
       "      <td>11.93</td>\n",
       "      <td>0</td>\n",
       "      <td>0.573</td>\n",
       "      <td>6.976</td>\n",
       "      <td>91.0</td>\n",
       "      <td>2.1675</td>\n",
       "      <td>1</td>\n",
       "      <td>273.0</td>\n",
       "      <td>21.0</td>\n",
       "      <td>396.90</td>\n",
       "      <td>5.64</td>\n",
       "      <td>23.9</td>\n",
       "    </tr>\n",
       "    <tr>\n",
       "      <th>504</th>\n",
       "      <td>0.10959</td>\n",
       "      <td>0.0</td>\n",
       "      <td>11.93</td>\n",
       "      <td>0</td>\n",
       "      <td>0.573</td>\n",
       "      <td>6.794</td>\n",
       "      <td>89.3</td>\n",
       "      <td>2.3889</td>\n",
       "      <td>1</td>\n",
       "      <td>273.0</td>\n",
       "      <td>21.0</td>\n",
       "      <td>393.45</td>\n",
       "      <td>6.48</td>\n",
       "      <td>22.0</td>\n",
       "    </tr>\n",
       "    <tr>\n",
       "      <th>505</th>\n",
       "      <td>0.04741</td>\n",
       "      <td>0.0</td>\n",
       "      <td>11.93</td>\n",
       "      <td>0</td>\n",
       "      <td>0.573</td>\n",
       "      <td>6.030</td>\n",
       "      <td>80.8</td>\n",
       "      <td>2.5050</td>\n",
       "      <td>1</td>\n",
       "      <td>273.0</td>\n",
       "      <td>21.0</td>\n",
       "      <td>396.90</td>\n",
       "      <td>7.88</td>\n",
       "      <td>11.9</td>\n",
       "    </tr>\n",
       "  </tbody>\n",
       "</table>\n",
       "<p>506 rows × 14 columns</p>\n",
       "</div>"
      ],
      "text/plain": [
       "        CRIM    ZN  INDUS  CHAS     NX     RM   AGE     DIS  RAD    TAX  \\\n",
       "0    0.00632  18.0   2.31     0  0.538  6.575  65.2  4.0900    1  296.0   \n",
       "1    0.02731   0.0   7.07     0  0.469  6.421  78.9  4.9671    2  242.0   \n",
       "2    0.02729   0.0   7.07     0  0.469  7.185  61.1  4.9671    2  242.0   \n",
       "3    0.03237   0.0   2.18     0  0.458  6.998  45.8  6.0622    3  222.0   \n",
       "4    0.06905   0.0   2.18     0  0.458  7.147  54.2  6.0622    3  222.0   \n",
       "..       ...   ...    ...   ...    ...    ...   ...     ...  ...    ...   \n",
       "501  0.06263   0.0  11.93     0  0.573  6.593  69.1  2.4786    1  273.0   \n",
       "502  0.04527   0.0  11.93     0  0.573  6.120  76.7  2.2875    1  273.0   \n",
       "503  0.06076   0.0  11.93     0  0.573  6.976  91.0  2.1675    1  273.0   \n",
       "504  0.10959   0.0  11.93     0  0.573  6.794  89.3  2.3889    1  273.0   \n",
       "505  0.04741   0.0  11.93     0  0.573  6.030  80.8  2.5050    1  273.0   \n",
       "\n",
       "     PTRATIO       B  LSTAT  MEDV  \n",
       "0       15.3  396.90   4.98  24.0  \n",
       "1       17.8  396.90   9.14  21.6  \n",
       "2       17.8  392.83   4.03  34.7  \n",
       "3       18.7  394.63   2.94  33.4  \n",
       "4       18.7  396.90   5.33  36.2  \n",
       "..       ...     ...    ...   ...  \n",
       "501     21.0  391.99   9.67  22.4  \n",
       "502     21.0  396.90   9.08  20.6  \n",
       "503     21.0  396.90   5.64  23.9  \n",
       "504     21.0  393.45   6.48  22.0  \n",
       "505     21.0  396.90   7.88  11.9  \n",
       "\n",
       "[506 rows x 14 columns]"
      ]
     },
     "execution_count": 75,
     "metadata": {},
     "output_type": "execute_result"
    }
   ],
   "source": [
    "house = pd.read_csv('https://github.com/YBIFoundation/Dataset/raw/main/Boston.csv')\n",
    "house"
   ]
  },
  {
   "cell_type": "code",
   "execution_count": 76,
   "id": "f4a84994-2e8e-4cdf-b258-800b8c2928ae",
   "metadata": {},
   "outputs": [
    {
     "data": {
      "text/plain": [
       "CRIM       0\n",
       "ZN         0\n",
       "INDUS      0\n",
       "CHAS       0\n",
       "NX         0\n",
       "RM         0\n",
       "AGE        0\n",
       "DIS        0\n",
       "RAD        0\n",
       "TAX        0\n",
       "PTRATIO    0\n",
       "B          0\n",
       "LSTAT      0\n",
       "MEDV       0\n",
       "dtype: int64"
      ]
     },
     "execution_count": 76,
     "metadata": {},
     "output_type": "execute_result"
    }
   ],
   "source": [
    "house.isnull().sum()"
   ]
  },
  {
   "cell_type": "code",
   "execution_count": null,
   "id": "f9057f09-ae1e-480b-b7d4-d441bc4b1e86",
   "metadata": {},
   "outputs": [],
   "source": []
  },
  {
   "cell_type": "code",
   "execution_count": 80,
   "id": "5858f116-c60b-4295-a477-fa4c218bb12e",
   "metadata": {},
   "outputs": [],
   "source": [
    "a = [1,22,55,100,2,33,44,66]"
   ]
  },
  {
   "cell_type": "code",
   "execution_count": 81,
   "id": "fe7d64f4-3a91-423c-9e35-51c5ac5952b1",
   "metadata": {},
   "outputs": [],
   "source": [
    "a.sort()"
   ]
  },
  {
   "cell_type": "code",
   "execution_count": 82,
   "id": "ec3c2e9e-cbd9-4f36-8d97-6db3044ad564",
   "metadata": {},
   "outputs": [
    {
     "data": {
      "text/plain": [
       "[1, 2, 22, 33, 44, 55, 66, 100]"
      ]
     },
     "execution_count": 82,
     "metadata": {},
     "output_type": "execute_result"
    }
   ],
   "source": [
    "a"
   ]
  },
  {
   "cell_type": "code",
   "execution_count": 83,
   "id": "c1740722-70b0-4dfb-8838-c70ae210ed93",
   "metadata": {},
   "outputs": [],
   "source": [
    "a.append(77)"
   ]
  },
  {
   "cell_type": "code",
   "execution_count": 84,
   "id": "b3ddf59e-e84f-456f-84a9-d52b2e7ded62",
   "metadata": {},
   "outputs": [
    {
     "data": {
      "text/plain": [
       "[1, 2, 22, 33, 44, 55, 66, 100, 77]"
      ]
     },
     "execution_count": 84,
     "metadata": {},
     "output_type": "execute_result"
    }
   ],
   "source": [
    "a"
   ]
  },
  {
   "cell_type": "code",
   "execution_count": 85,
   "id": "a16e0062-5f42-4c9e-a058-4c4ef4b3a42e",
   "metadata": {},
   "outputs": [],
   "source": [
    "a.extend([33,44])"
   ]
  },
  {
   "cell_type": "code",
   "execution_count": 88,
   "id": "7ad4dae3-eea6-4f1f-b9e6-84935576c242",
   "metadata": {},
   "outputs": [
    {
     "data": {
      "text/plain": [
       "[1, 2, 22, 33, 44, 55, 66, 100, 77, 33, 44]"
      ]
     },
     "execution_count": 88,
     "metadata": {},
     "output_type": "execute_result"
    }
   ],
   "source": [
    "a"
   ]
  },
  {
   "cell_type": "code",
   "execution_count": 92,
   "id": "dc9b6a8c-ae00-4867-84bc-6bb111cd054f",
   "metadata": {},
   "outputs": [],
   "source": [
    "a.remove(2)"
   ]
  },
  {
   "cell_type": "code",
   "execution_count": 96,
   "id": "e57ba464-fc84-4198-9917-38bc8cabf989",
   "metadata": {},
   "outputs": [
    {
     "data": {
      "text/plain": [
       "[1, 22, 33, 44, 55, 66, 100, 77, 33, 44]"
      ]
     },
     "execution_count": 96,
     "metadata": {},
     "output_type": "execute_result"
    }
   ],
   "source": [
    "a"
   ]
  },
  {
   "cell_type": "code",
   "execution_count": 98,
   "id": "b0c9d582-9663-481f-bb55-316559c7bd7d",
   "metadata": {},
   "outputs": [
    {
     "data": {
      "text/plain": [
       "33"
      ]
     },
     "execution_count": 98,
     "metadata": {},
     "output_type": "execute_result"
    }
   ],
   "source": [
    "a.pop(2)"
   ]
  },
  {
   "cell_type": "code",
   "execution_count": 99,
   "id": "568a73e2-280f-4480-bc85-ee1d00c6819b",
   "metadata": {},
   "outputs": [
    {
     "data": {
      "text/plain": [
       "[1, 22, 44, 55, 66, 100, 77, 33, 44]"
      ]
     },
     "execution_count": 99,
     "metadata": {},
     "output_type": "execute_result"
    }
   ],
   "source": [
    "a"
   ]
  },
  {
   "cell_type": "code",
   "execution_count": 101,
   "id": "4eae3d2c-1a14-4da4-9b31-00eefa4a5712",
   "metadata": {},
   "outputs": [],
   "source": [
    "a = {1,22,55,100,2,33,44,66}"
   ]
  },
  {
   "cell_type": "code",
   "execution_count": 103,
   "id": "cb7bacdb-a7f1-4d77-be7a-e6d78c164c76",
   "metadata": {},
   "outputs": [
    {
     "data": {
      "text/plain": [
       "{1, 2, 22, 33, 44, 55, 66, 100}"
      ]
     },
     "execution_count": 103,
     "metadata": {},
     "output_type": "execute_result"
    }
   ],
   "source": [
    "a "
   ]
  },
  {
   "cell_type": "code",
   "execution_count": 106,
   "id": "a90688e9-211a-4de6-878e-cdf1efe08683",
   "metadata": {},
   "outputs": [],
   "source": [
    "a.add(7)"
   ]
  },
  {
   "cell_type": "code",
   "execution_count": 109,
   "id": "eb76ef21-d999-4e35-8589-458ea90740f3",
   "metadata": {},
   "outputs": [
    {
     "data": {
      "text/plain": [
       "{1, 2, 7, 22, 33, 44, 55, 66, 100}"
      ]
     },
     "execution_count": 109,
     "metadata": {},
     "output_type": "execute_result"
    }
   ],
   "source": [
    "a"
   ]
  },
  {
   "cell_type": "code",
   "execution_count": 111,
   "id": "699d987c-25a3-4c76-be1d-19e1eab01fa8",
   "metadata": {},
   "outputs": [],
   "source": [
    "a.update ([77,'Nikita'])"
   ]
  },
  {
   "cell_type": "code",
   "execution_count": 114,
   "id": "0bf9c3ed-7378-4b8d-920c-8d3ce83879dd",
   "metadata": {},
   "outputs": [
    {
     "data": {
      "text/plain": [
       "{1, 100, 2, 22, 33, 44, 55, 66, 7, 77, 'Nikita'}"
      ]
     },
     "execution_count": 114,
     "metadata": {},
     "output_type": "execute_result"
    }
   ],
   "source": [
    "a"
   ]
  },
  {
   "cell_type": "code",
   "execution_count": 115,
   "id": "b4c853b9-b4c6-4e4b-9abe-2467348712d8",
   "metadata": {},
   "outputs": [],
   "source": [
    "a.remove(100)"
   ]
  },
  {
   "cell_type": "code",
   "execution_count": 118,
   "id": "f07fec0d-0a91-4b91-b570-2ffd179384b4",
   "metadata": {},
   "outputs": [
    {
     "data": {
      "text/plain": [
       "{1, 2, 22, 33, 44, 55, 66, 7, 77, 'Nikita'}"
      ]
     },
     "execution_count": 118,
     "metadata": {},
     "output_type": "execute_result"
    }
   ],
   "source": [
    "a"
   ]
  },
  {
   "cell_type": "code",
   "execution_count": 120,
   "id": "0f43e30d-f106-44db-97e3-15df28646296",
   "metadata": {},
   "outputs": [],
   "source": [
    "a.discard(22)"
   ]
  },
  {
   "cell_type": "code",
   "execution_count": 122,
   "id": "be2672eb-5fcf-4ceb-84a5-1abfedeb794e",
   "metadata": {},
   "outputs": [
    {
     "data": {
      "text/plain": [
       "{1, 2, 33, 44, 55, 66, 7, 77, 'Nikita'}"
      ]
     },
     "execution_count": 122,
     "metadata": {},
     "output_type": "execute_result"
    }
   ],
   "source": [
    "a"
   ]
  },
  {
   "cell_type": "code",
   "execution_count": 124,
   "id": "5bb2ef36-85b3-406a-9cc5-392eb4b30fe4",
   "metadata": {},
   "outputs": [
    {
     "data": {
      "text/plain": [
       "1"
      ]
     },
     "execution_count": 124,
     "metadata": {},
     "output_type": "execute_result"
    }
   ],
   "source": [
    "a.pop()"
   ]
  },
  {
   "cell_type": "code",
   "execution_count": 126,
   "id": "a9ace7a6-96b0-4d41-b5dd-a55205ac3013",
   "metadata": {},
   "outputs": [
    {
     "data": {
      "text/plain": [
       "{2, 33, 44, 55, 66, 7, 77, 'Nikita'}"
      ]
     },
     "execution_count": 126,
     "metadata": {},
     "output_type": "execute_result"
    }
   ],
   "source": [
    "a"
   ]
  },
  {
   "cell_type": "code",
   "execution_count": 128,
   "id": "e04b98c7-f1af-4e1c-985e-bce655d0ba0b",
   "metadata": {},
   "outputs": [],
   "source": [
    "a = {\n",
    "    'Name' : 'Nikita',\n",
    "    'Age' : 28,\n",
    "    'Location': 'Goa',  \n",
    "    'Job': 'Bouncer'\n",
    "}"
   ]
  },
  {
   "cell_type": "code",
   "execution_count": 130,
   "id": "9e8ec524-922d-4c68-9345-da5311716fc0",
   "metadata": {},
   "outputs": [
    {
     "data": {
      "text/plain": [
       "{'Name': 'Nikita', 'Age': 28, 'Location': 'Goa', 'Job': 'Bouncer'}"
      ]
     },
     "execution_count": 130,
     "metadata": {},
     "output_type": "execute_result"
    }
   ],
   "source": [
    "a"
   ]
  },
  {
   "cell_type": "code",
   "execution_count": 132,
   "id": "14e964c3-1d07-4d7f-a611-dd20f72a3620",
   "metadata": {},
   "outputs": [
    {
     "data": {
      "text/plain": [
       "dict_keys(['Name', 'Age', 'Location', 'Job'])"
      ]
     },
     "execution_count": 132,
     "metadata": {},
     "output_type": "execute_result"
    }
   ],
   "source": [
    "a.keys()"
   ]
  },
  {
   "cell_type": "code",
   "execution_count": 133,
   "id": "99210312-2a4f-4971-899a-392a142e7f1f",
   "metadata": {},
   "outputs": [
    {
     "data": {
      "text/plain": [
       "'Nikita'"
      ]
     },
     "execution_count": 133,
     "metadata": {},
     "output_type": "execute_result"
    }
   ],
   "source": [
    "a['Name']"
   ]
  },
  {
   "cell_type": "code",
   "execution_count": 136,
   "id": "b82cdd35-36d9-44b1-a5c2-760a09ad71e6",
   "metadata": {},
   "outputs": [
    {
     "data": {
      "text/plain": [
       "'Bouncer'"
      ]
     },
     "execution_count": 136,
     "metadata": {},
     "output_type": "execute_result"
    }
   ],
   "source": [
    "a['Job']"
   ]
  },
  {
   "cell_type": "code",
   "execution_count": 137,
   "id": "bcc14a74-940b-4ba4-8d50-fe0712a953b6",
   "metadata": {},
   "outputs": [],
   "source": [
    "a['Friend'] = 'Hrushi'"
   ]
  },
  {
   "cell_type": "code",
   "execution_count": 140,
   "id": "f4607b69-7457-4d61-9832-d9c388519783",
   "metadata": {},
   "outputs": [
    {
     "data": {
      "text/plain": [
       "dict_values(['Nikita', 28, 'Goa', 'Bouncer', 'Hrushi'])"
      ]
     },
     "execution_count": 140,
     "metadata": {},
     "output_type": "execute_result"
    }
   ],
   "source": [
    "a.values()"
   ]
  },
  {
   "cell_type": "code",
   "execution_count": 142,
   "id": "8db9db16-c1ef-44b4-9715-b371394c7d4d",
   "metadata": {},
   "outputs": [
    {
     "data": {
      "text/plain": [
       "dict_items([('Name', 'Nikita'), ('Age', 28), ('Location', 'Goa'), ('Job', 'Bouncer'), ('Friend', 'Hrushi')])"
      ]
     },
     "execution_count": 142,
     "metadata": {},
     "output_type": "execute_result"
    }
   ],
   "source": [
    "a.items()"
   ]
  },
  {
   "cell_type": "code",
   "execution_count": 144,
   "id": "749c6ecf-a621-490c-a39b-5bb6de52d9d8",
   "metadata": {},
   "outputs": [
    {
     "data": {
      "text/plain": [
       "{'Name': 'Nikita',\n",
       " 'Age': 28,\n",
       " 'Location': 'Goa',\n",
       " 'Job': 'Bouncer',\n",
       " 'Friend': 'Hrushi'}"
      ]
     },
     "execution_count": 144,
     "metadata": {},
     "output_type": "execute_result"
    }
   ],
   "source": [
    "a"
   ]
  },
  {
   "cell_type": "code",
   "execution_count": 146,
   "id": "e5da7a65-cc26-4646-9b06-664326819252",
   "metadata": {},
   "outputs": [],
   "source": [
    "a['2nd_friend'] = 'Shalu'"
   ]
  },
  {
   "cell_type": "code",
   "execution_count": 148,
   "id": "ff5e4ae4-20cb-4801-892c-6bab5be4ac4c",
   "metadata": {},
   "outputs": [
    {
     "data": {
      "text/plain": [
       "{'Name': 'Nikita',\n",
       " 'Age': 28,\n",
       " 'Location': 'Goa',\n",
       " 'Job': 'Bouncer',\n",
       " 'Friend': 'Hrushi',\n",
       " '2nd_friend': 'Shalu'}"
      ]
     },
     "execution_count": 148,
     "metadata": {},
     "output_type": "execute_result"
    }
   ],
   "source": [
    "a"
   ]
  },
  {
   "cell_type": "code",
   "execution_count": 150,
   "id": "221a89d7-750c-494e-998a-38861ab85b2b",
   "metadata": {},
   "outputs": [],
   "source": [
    "a.update({'city':23, 'hotel': 'Panajabi kithcen'})"
   ]
  },
  {
   "cell_type": "code",
   "execution_count": 152,
   "id": "c9e6b62b-982f-4a96-bfaf-b796fbf198fb",
   "metadata": {},
   "outputs": [
    {
     "data": {
      "text/plain": [
       "{'Name': 'Nikita',\n",
       " 'Age': 28,\n",
       " 'Location': 'Goa',\n",
       " 'Job': 'Bouncer',\n",
       " 'Friend': 'Hrushi',\n",
       " '2nd_friend': 'Shalu',\n",
       " 'city': 23,\n",
       " 'hotel': 'Panajabi kithcen'}"
      ]
     },
     "execution_count": 152,
     "metadata": {},
     "output_type": "execute_result"
    }
   ],
   "source": [
    "a"
   ]
  },
  {
   "cell_type": "code",
   "execution_count": 154,
   "id": "ed8ab163-8b44-499e-b03e-b2ff27c3476f",
   "metadata": {},
   "outputs": [
    {
     "data": {
      "text/plain": [
       "{'Name': 'Nikita',\n",
       " 'Age': 28,\n",
       " 'Location': 'Goa',\n",
       " 'Job': 'Bouncer',\n",
       " 'Friend': 'Hrushi',\n",
       " '2nd_friend': 'Shalu',\n",
       " 'city': 23,\n",
       " 'hotel': 'Panajabi kithcen'}"
      ]
     },
     "execution_count": 154,
     "metadata": {},
     "output_type": "execute_result"
    }
   ],
   "source": [
    "a"
   ]
  },
  {
   "cell_type": "code",
   "execution_count": 156,
   "id": "07465d6c-4a73-41eb-8940-94acfcdd13bf",
   "metadata": {},
   "outputs": [
    {
     "name": "stdout",
     "output_type": "stream",
     "text": [
      "1\n",
      "7\n",
      "13\n",
      "19\n",
      "25\n",
      "31\n",
      "37\n",
      "43\n",
      "49\n",
      "55\n",
      "61\n",
      "67\n",
      "73\n",
      "79\n",
      "85\n",
      "91\n",
      "97\n"
     ]
    }
   ],
   "source": [
    "for i in range(1,100,6):   \n",
    "    print(i)"
   ]
  },
  {
   "cell_type": "code",
   "execution_count": 158,
   "id": "8a61769b-a32c-418b-8659-189b8c7cc4d5",
   "metadata": {},
   "outputs": [],
   "source": [
    "x = 10\n",
    "y = 20\n",
    "z = x+y "
   ]
  },
  {
   "cell_type": "code",
   "execution_count": 160,
   "id": "efba73c4-9272-4ed5-8ed3-98b242d44315",
   "metadata": {},
   "outputs": [
    {
     "ename": "NameError",
     "evalue": "name 'no_of_oranges' is not defined",
     "output_type": "error",
     "traceback": [
      "\u001b[1;31m---------------------------------------------------------------------------\u001b[0m",
      "\u001b[1;31mNameError\u001b[0m                                 Traceback (most recent call last)",
      "Cell \u001b[1;32mIn[160], line 2\u001b[0m\n\u001b[0;32m      1\u001b[0m no_of_apples \u001b[38;5;241m=\u001b[39m \u001b[38;5;241m10\u001b[39m\n\u001b[1;32m----> 2\u001b[0m no_of_oranges\n",
      "\u001b[1;31mNameError\u001b[0m: name 'no_of_oranges' is not defined"
     ]
    }
   ],
   "source": [
    "no_of_apples = 10\n",
    "no_of_oranges"
   ]
  },
  {
   "cell_type": "code",
   "execution_count": 162,
   "id": "715c7b69-f8f3-4979-b9d8-45d917a8b336",
   "metadata": {},
   "outputs": [
    {
     "name": "stdout",
     "output_type": "stream",
     "text": [
      "   A  B\n",
      "x  1  a\n",
      "y  2  b\n",
      "z  3  c\n"
     ]
    }
   ],
   "source": [
    "import pandas as pd\n",
    "\n",
    "# Creating two DataFrames\n",
    "df1 = pd.DataFrame({\n",
    "    'A': [1, 2, 3],\n",
    "    'B': ['a', 'b', 'c']\n",
    "}, index=['x', 'y', 'z'])\n",
    "print(df1)"
   ]
  },
  {
   "cell_type": "code",
   "execution_count": 164,
   "id": "7a3768e9-d5e3-48ba-b76e-b8eb7facd2eb",
   "metadata": {},
   "outputs": [
    {
     "name": "stdout",
     "output_type": "stream",
     "text": [
      "   C  D\n",
      "x  4  d\n",
      "y  5  e\n",
      "z  6  f\n"
     ]
    }
   ],
   "source": [
    "df2 = pd.DataFrame({\n",
    "    'C': [4, 5, 6],\n",
    "    'D': ['d', 'e', 'f']\n",
    "}, index=['x', 'y', 'z'])\n",
    "print(df2)"
   ]
  },
  {
   "cell_type": "code",
   "execution_count": 166,
   "id": "7bfa9419-f3c4-4222-b16a-ebe75515343d",
   "metadata": {},
   "outputs": [
    {
     "name": "stdout",
     "output_type": "stream",
     "text": [
      "   A  B  C  D\n",
      "x  1  a  4  d\n",
      "y  2  b  5  e\n",
      "z  3  c  6  f\n"
     ]
    }
   ],
   "source": [
    "# Join the DataFrames using the index\n",
    "result = df1.join(df2)\n",
    "print(result)"
   ]
  },
  {
   "cell_type": "code",
   "execution_count": 168,
   "id": "cdac2336-d152-4445-8e6c-238f1ee7b5e2",
   "metadata": {},
   "outputs": [],
   "source": [
    "# Creating two DataFrames\n",
    "df1 = pd.DataFrame({'A': [1, 2], 'B': ['a', 'b']})\n",
    "df2 = pd.DataFrame({'A': [3, 4], 'B': ['c', 'd']})"
   ]
  },
  {
   "cell_type": "code",
   "execution_count": 170,
   "id": "15af22e7-c942-4f11-988d-70597f6c8114",
   "metadata": {},
   "outputs": [
    {
     "name": "stdout",
     "output_type": "stream",
     "text": [
      "   A  B\n",
      "0  1  a\n",
      "1  2  b\n"
     ]
    }
   ],
   "source": [
    "print(df1)"
   ]
  },
  {
   "cell_type": "code",
   "execution_count": 172,
   "id": "bcec3e9f-c252-4a10-aca6-de0520247fcf",
   "metadata": {},
   "outputs": [
    {
     "name": "stdout",
     "output_type": "stream",
     "text": [
      "   A  B\n",
      "0  3  c\n",
      "1  4  d\n"
     ]
    }
   ],
   "source": [
    "print(df2)"
   ]
  },
  {
   "cell_type": "code",
   "execution_count": 174,
   "id": "55b42141-a3d6-4192-ae90-32010fcbf038",
   "metadata": {},
   "outputs": [
    {
     "name": "stdout",
     "output_type": "stream",
     "text": [
      "   A  B\n",
      "0  1  a\n",
      "1  2  b\n",
      "0  3  c\n",
      "1  4  d\n"
     ]
    }
   ],
   "source": [
    "# Concatenate by rows (axis=0)\n",
    "result = pd.concat([df1, df2], axis=0)\n",
    "print(result)"
   ]
  },
  {
   "cell_type": "code",
   "execution_count": 176,
   "id": "f369ec6f-6dce-442e-baa9-205ce15017b9",
   "metadata": {},
   "outputs": [
    {
     "name": "stdout",
     "output_type": "stream",
     "text": [
      "   A  B  A  B\n",
      "0  3  c  1  a\n",
      "1  4  d  2  b\n"
     ]
    }
   ],
   "source": [
    "result2 = pd.concat([df2, df1], axis=1)\n",
    "print(result2)"
   ]
  },
  {
   "cell_type": "code",
   "execution_count": 177,
   "id": "65669353-2a16-46c6-b6e2-c406dd14e8e4",
   "metadata": {},
   "outputs": [],
   "source": [
    "d1 = pd.DataFrame({\n",
    "    'NO':[11,22,33,88,44,55,88,99,11,22,33,88,44,55,88,99],\n",
    "    'ID': [1,2,3,4,8,5,8,9,1,2,3,4,8,5,8,9],\n",
    "    'NAME': [111,888,222,333,444,555,888,999,111,888,222,333,444,555,888,999],\n",
    "    'SCORE': [1111,8888,2222,3333,4444,5555,8888,9999,1111,8888,2222,3333,4444,5555,8888,9999],\n",
    "})\n",
    "\n",
    "d2= pd.DataFrame ({\n",
    "    'ID1':[1,2,6,3,4,5,6,7],\n",
    "    'NO1': [10,20,50,30,40,50,50,60],\n",
    "    'NAME1': [100,200,300,500,400,500,500,600],\n",
    "    'SCORE1': [1000,2000,3000,5000,4000,5000,5000,6000],\n",
    "})"
   ]
  },
  {
   "cell_type": "code",
   "execution_count": null,
   "id": "9a834bb0-a643-4d7e-9b38-be387c7a047a",
   "metadata": {},
   "outputs": [],
   "source": []
  },
  {
   "cell_type": "code",
   "execution_count": 181,
   "id": "9d863499-e511-484e-8c71-29cf68d387c2",
   "metadata": {},
   "outputs": [
    {
     "data": {
      "text/html": [
       "<div>\n",
       "<style scoped>\n",
       "    .dataframe tbody tr th:only-of-type {\n",
       "        vertical-align: middle;\n",
       "    }\n",
       "\n",
       "    .dataframe tbody tr th {\n",
       "        vertical-align: top;\n",
       "    }\n",
       "\n",
       "    .dataframe thead th {\n",
       "        text-align: right;\n",
       "    }\n",
       "</style>\n",
       "<table border=\"1\" class=\"dataframe\">\n",
       "  <thead>\n",
       "    <tr style=\"text-align: right;\">\n",
       "      <th></th>\n",
       "      <th>NO</th>\n",
       "      <th>ID</th>\n",
       "      <th>NAME</th>\n",
       "      <th>SCORE</th>\n",
       "    </tr>\n",
       "  </thead>\n",
       "  <tbody>\n",
       "    <tr>\n",
       "      <th>0</th>\n",
       "      <td>11</td>\n",
       "      <td>1</td>\n",
       "      <td>111</td>\n",
       "      <td>1111</td>\n",
       "    </tr>\n",
       "    <tr>\n",
       "      <th>1</th>\n",
       "      <td>22</td>\n",
       "      <td>2</td>\n",
       "      <td>888</td>\n",
       "      <td>8888</td>\n",
       "    </tr>\n",
       "    <tr>\n",
       "      <th>2</th>\n",
       "      <td>33</td>\n",
       "      <td>3</td>\n",
       "      <td>222</td>\n",
       "      <td>2222</td>\n",
       "    </tr>\n",
       "    <tr>\n",
       "      <th>3</th>\n",
       "      <td>88</td>\n",
       "      <td>4</td>\n",
       "      <td>333</td>\n",
       "      <td>3333</td>\n",
       "    </tr>\n",
       "    <tr>\n",
       "      <th>4</th>\n",
       "      <td>44</td>\n",
       "      <td>8</td>\n",
       "      <td>444</td>\n",
       "      <td>4444</td>\n",
       "    </tr>\n",
       "    <tr>\n",
       "      <th>5</th>\n",
       "      <td>55</td>\n",
       "      <td>5</td>\n",
       "      <td>555</td>\n",
       "      <td>5555</td>\n",
       "    </tr>\n",
       "    <tr>\n",
       "      <th>6</th>\n",
       "      <td>88</td>\n",
       "      <td>8</td>\n",
       "      <td>888</td>\n",
       "      <td>8888</td>\n",
       "    </tr>\n",
       "    <tr>\n",
       "      <th>7</th>\n",
       "      <td>99</td>\n",
       "      <td>9</td>\n",
       "      <td>999</td>\n",
       "      <td>9999</td>\n",
       "    </tr>\n",
       "    <tr>\n",
       "      <th>8</th>\n",
       "      <td>11</td>\n",
       "      <td>1</td>\n",
       "      <td>111</td>\n",
       "      <td>1111</td>\n",
       "    </tr>\n",
       "    <tr>\n",
       "      <th>9</th>\n",
       "      <td>22</td>\n",
       "      <td>2</td>\n",
       "      <td>888</td>\n",
       "      <td>8888</td>\n",
       "    </tr>\n",
       "    <tr>\n",
       "      <th>10</th>\n",
       "      <td>33</td>\n",
       "      <td>3</td>\n",
       "      <td>222</td>\n",
       "      <td>2222</td>\n",
       "    </tr>\n",
       "    <tr>\n",
       "      <th>11</th>\n",
       "      <td>88</td>\n",
       "      <td>4</td>\n",
       "      <td>333</td>\n",
       "      <td>3333</td>\n",
       "    </tr>\n",
       "    <tr>\n",
       "      <th>12</th>\n",
       "      <td>44</td>\n",
       "      <td>8</td>\n",
       "      <td>444</td>\n",
       "      <td>4444</td>\n",
       "    </tr>\n",
       "    <tr>\n",
       "      <th>13</th>\n",
       "      <td>55</td>\n",
       "      <td>5</td>\n",
       "      <td>555</td>\n",
       "      <td>5555</td>\n",
       "    </tr>\n",
       "    <tr>\n",
       "      <th>14</th>\n",
       "      <td>88</td>\n",
       "      <td>8</td>\n",
       "      <td>888</td>\n",
       "      <td>8888</td>\n",
       "    </tr>\n",
       "    <tr>\n",
       "      <th>15</th>\n",
       "      <td>99</td>\n",
       "      <td>9</td>\n",
       "      <td>999</td>\n",
       "      <td>9999</td>\n",
       "    </tr>\n",
       "  </tbody>\n",
       "</table>\n",
       "</div>"
      ],
      "text/plain": [
       "    NO  ID  NAME  SCORE\n",
       "0   11   1   111   1111\n",
       "1   22   2   888   8888\n",
       "2   33   3   222   2222\n",
       "3   88   4   333   3333\n",
       "4   44   8   444   4444\n",
       "5   55   5   555   5555\n",
       "6   88   8   888   8888\n",
       "7   99   9   999   9999\n",
       "8   11   1   111   1111\n",
       "9   22   2   888   8888\n",
       "10  33   3   222   2222\n",
       "11  88   4   333   3333\n",
       "12  44   8   444   4444\n",
       "13  55   5   555   5555\n",
       "14  88   8   888   8888\n",
       "15  99   9   999   9999"
      ]
     },
     "execution_count": 181,
     "metadata": {},
     "output_type": "execute_result"
    }
   ],
   "source": [
    "d1"
   ]
  },
  {
   "cell_type": "code",
   "execution_count": 182,
   "id": "f2989150-532d-42a0-ba00-70af4f9d4833",
   "metadata": {},
   "outputs": [
    {
     "data": {
      "text/html": [
       "<div>\n",
       "<style scoped>\n",
       "    .dataframe tbody tr th:only-of-type {\n",
       "        vertical-align: middle;\n",
       "    }\n",
       "\n",
       "    .dataframe tbody tr th {\n",
       "        vertical-align: top;\n",
       "    }\n",
       "\n",
       "    .dataframe thead th {\n",
       "        text-align: right;\n",
       "    }\n",
       "</style>\n",
       "<table border=\"1\" class=\"dataframe\">\n",
       "  <thead>\n",
       "    <tr style=\"text-align: right;\">\n",
       "      <th></th>\n",
       "      <th>ID1</th>\n",
       "      <th>NO1</th>\n",
       "      <th>NAME1</th>\n",
       "      <th>SCORE1</th>\n",
       "    </tr>\n",
       "  </thead>\n",
       "  <tbody>\n",
       "    <tr>\n",
       "      <th>0</th>\n",
       "      <td>1</td>\n",
       "      <td>10</td>\n",
       "      <td>100</td>\n",
       "      <td>1000</td>\n",
       "    </tr>\n",
       "    <tr>\n",
       "      <th>1</th>\n",
       "      <td>2</td>\n",
       "      <td>20</td>\n",
       "      <td>200</td>\n",
       "      <td>2000</td>\n",
       "    </tr>\n",
       "    <tr>\n",
       "      <th>2</th>\n",
       "      <td>6</td>\n",
       "      <td>50</td>\n",
       "      <td>300</td>\n",
       "      <td>3000</td>\n",
       "    </tr>\n",
       "    <tr>\n",
       "      <th>3</th>\n",
       "      <td>3</td>\n",
       "      <td>30</td>\n",
       "      <td>500</td>\n",
       "      <td>5000</td>\n",
       "    </tr>\n",
       "    <tr>\n",
       "      <th>4</th>\n",
       "      <td>4</td>\n",
       "      <td>40</td>\n",
       "      <td>400</td>\n",
       "      <td>4000</td>\n",
       "    </tr>\n",
       "    <tr>\n",
       "      <th>5</th>\n",
       "      <td>5</td>\n",
       "      <td>50</td>\n",
       "      <td>500</td>\n",
       "      <td>5000</td>\n",
       "    </tr>\n",
       "    <tr>\n",
       "      <th>6</th>\n",
       "      <td>6</td>\n",
       "      <td>50</td>\n",
       "      <td>500</td>\n",
       "      <td>5000</td>\n",
       "    </tr>\n",
       "    <tr>\n",
       "      <th>7</th>\n",
       "      <td>7</td>\n",
       "      <td>60</td>\n",
       "      <td>600</td>\n",
       "      <td>6000</td>\n",
       "    </tr>\n",
       "  </tbody>\n",
       "</table>\n",
       "</div>"
      ],
      "text/plain": [
       "   ID1  NO1  NAME1  SCORE1\n",
       "0    1   10    100    1000\n",
       "1    2   20    200    2000\n",
       "2    6   50    300    3000\n",
       "3    3   30    500    5000\n",
       "4    4   40    400    4000\n",
       "5    5   50    500    5000\n",
       "6    6   50    500    5000\n",
       "7    7   60    600    6000"
      ]
     },
     "execution_count": 182,
     "metadata": {},
     "output_type": "execute_result"
    }
   ],
   "source": [
    "d2"
   ]
  },
  {
   "cell_type": "code",
   "execution_count": 185,
   "id": "ca4c7979-0e09-4461-a393-19eabfc72729",
   "metadata": {},
   "outputs": [
    {
     "data": {
      "text/html": [
       "<div>\n",
       "<style scoped>\n",
       "    .dataframe tbody tr th:only-of-type {\n",
       "        vertical-align: middle;\n",
       "    }\n",
       "\n",
       "    .dataframe tbody tr th {\n",
       "        vertical-align: top;\n",
       "    }\n",
       "\n",
       "    .dataframe thead th {\n",
       "        text-align: right;\n",
       "    }\n",
       "</style>\n",
       "<table border=\"1\" class=\"dataframe\">\n",
       "  <thead>\n",
       "    <tr style=\"text-align: right;\">\n",
       "      <th></th>\n",
       "      <th>NO</th>\n",
       "      <th>ID</th>\n",
       "      <th>NAME</th>\n",
       "      <th>SCORE</th>\n",
       "      <th>ID1</th>\n",
       "      <th>NO1</th>\n",
       "      <th>NAME1</th>\n",
       "      <th>SCORE1</th>\n",
       "    </tr>\n",
       "  </thead>\n",
       "  <tbody>\n",
       "    <tr>\n",
       "      <th>0</th>\n",
       "      <td>11</td>\n",
       "      <td>1</td>\n",
       "      <td>111</td>\n",
       "      <td>1111</td>\n",
       "      <td>1.0</td>\n",
       "      <td>10.0</td>\n",
       "      <td>100.0</td>\n",
       "      <td>1000.0</td>\n",
       "    </tr>\n",
       "    <tr>\n",
       "      <th>1</th>\n",
       "      <td>22</td>\n",
       "      <td>2</td>\n",
       "      <td>888</td>\n",
       "      <td>8888</td>\n",
       "      <td>2.0</td>\n",
       "      <td>20.0</td>\n",
       "      <td>200.0</td>\n",
       "      <td>2000.0</td>\n",
       "    </tr>\n",
       "    <tr>\n",
       "      <th>2</th>\n",
       "      <td>33</td>\n",
       "      <td>3</td>\n",
       "      <td>222</td>\n",
       "      <td>2222</td>\n",
       "      <td>6.0</td>\n",
       "      <td>50.0</td>\n",
       "      <td>300.0</td>\n",
       "      <td>3000.0</td>\n",
       "    </tr>\n",
       "    <tr>\n",
       "      <th>3</th>\n",
       "      <td>88</td>\n",
       "      <td>4</td>\n",
       "      <td>333</td>\n",
       "      <td>3333</td>\n",
       "      <td>3.0</td>\n",
       "      <td>30.0</td>\n",
       "      <td>500.0</td>\n",
       "      <td>5000.0</td>\n",
       "    </tr>\n",
       "    <tr>\n",
       "      <th>4</th>\n",
       "      <td>44</td>\n",
       "      <td>8</td>\n",
       "      <td>444</td>\n",
       "      <td>4444</td>\n",
       "      <td>4.0</td>\n",
       "      <td>40.0</td>\n",
       "      <td>400.0</td>\n",
       "      <td>4000.0</td>\n",
       "    </tr>\n",
       "    <tr>\n",
       "      <th>5</th>\n",
       "      <td>55</td>\n",
       "      <td>5</td>\n",
       "      <td>555</td>\n",
       "      <td>5555</td>\n",
       "      <td>5.0</td>\n",
       "      <td>50.0</td>\n",
       "      <td>500.0</td>\n",
       "      <td>5000.0</td>\n",
       "    </tr>\n",
       "    <tr>\n",
       "      <th>6</th>\n",
       "      <td>88</td>\n",
       "      <td>8</td>\n",
       "      <td>888</td>\n",
       "      <td>8888</td>\n",
       "      <td>6.0</td>\n",
       "      <td>50.0</td>\n",
       "      <td>500.0</td>\n",
       "      <td>5000.0</td>\n",
       "    </tr>\n",
       "    <tr>\n",
       "      <th>7</th>\n",
       "      <td>99</td>\n",
       "      <td>9</td>\n",
       "      <td>999</td>\n",
       "      <td>9999</td>\n",
       "      <td>7.0</td>\n",
       "      <td>60.0</td>\n",
       "      <td>600.0</td>\n",
       "      <td>6000.0</td>\n",
       "    </tr>\n",
       "    <tr>\n",
       "      <th>8</th>\n",
       "      <td>11</td>\n",
       "      <td>1</td>\n",
       "      <td>111</td>\n",
       "      <td>1111</td>\n",
       "      <td>NaN</td>\n",
       "      <td>NaN</td>\n",
       "      <td>NaN</td>\n",
       "      <td>NaN</td>\n",
       "    </tr>\n",
       "    <tr>\n",
       "      <th>9</th>\n",
       "      <td>22</td>\n",
       "      <td>2</td>\n",
       "      <td>888</td>\n",
       "      <td>8888</td>\n",
       "      <td>NaN</td>\n",
       "      <td>NaN</td>\n",
       "      <td>NaN</td>\n",
       "      <td>NaN</td>\n",
       "    </tr>\n",
       "    <tr>\n",
       "      <th>10</th>\n",
       "      <td>33</td>\n",
       "      <td>3</td>\n",
       "      <td>222</td>\n",
       "      <td>2222</td>\n",
       "      <td>NaN</td>\n",
       "      <td>NaN</td>\n",
       "      <td>NaN</td>\n",
       "      <td>NaN</td>\n",
       "    </tr>\n",
       "    <tr>\n",
       "      <th>11</th>\n",
       "      <td>88</td>\n",
       "      <td>4</td>\n",
       "      <td>333</td>\n",
       "      <td>3333</td>\n",
       "      <td>NaN</td>\n",
       "      <td>NaN</td>\n",
       "      <td>NaN</td>\n",
       "      <td>NaN</td>\n",
       "    </tr>\n",
       "    <tr>\n",
       "      <th>12</th>\n",
       "      <td>44</td>\n",
       "      <td>8</td>\n",
       "      <td>444</td>\n",
       "      <td>4444</td>\n",
       "      <td>NaN</td>\n",
       "      <td>NaN</td>\n",
       "      <td>NaN</td>\n",
       "      <td>NaN</td>\n",
       "    </tr>\n",
       "    <tr>\n",
       "      <th>13</th>\n",
       "      <td>55</td>\n",
       "      <td>5</td>\n",
       "      <td>555</td>\n",
       "      <td>5555</td>\n",
       "      <td>NaN</td>\n",
       "      <td>NaN</td>\n",
       "      <td>NaN</td>\n",
       "      <td>NaN</td>\n",
       "    </tr>\n",
       "    <tr>\n",
       "      <th>14</th>\n",
       "      <td>88</td>\n",
       "      <td>8</td>\n",
       "      <td>888</td>\n",
       "      <td>8888</td>\n",
       "      <td>NaN</td>\n",
       "      <td>NaN</td>\n",
       "      <td>NaN</td>\n",
       "      <td>NaN</td>\n",
       "    </tr>\n",
       "    <tr>\n",
       "      <th>15</th>\n",
       "      <td>99</td>\n",
       "      <td>9</td>\n",
       "      <td>999</td>\n",
       "      <td>9999</td>\n",
       "      <td>NaN</td>\n",
       "      <td>NaN</td>\n",
       "      <td>NaN</td>\n",
       "      <td>NaN</td>\n",
       "    </tr>\n",
       "  </tbody>\n",
       "</table>\n",
       "</div>"
      ],
      "text/plain": [
       "    NO  ID  NAME  SCORE  ID1   NO1  NAME1  SCORE1\n",
       "0   11   1   111   1111  1.0  10.0  100.0  1000.0\n",
       "1   22   2   888   8888  2.0  20.0  200.0  2000.0\n",
       "2   33   3   222   2222  6.0  50.0  300.0  3000.0\n",
       "3   88   4   333   3333  3.0  30.0  500.0  5000.0\n",
       "4   44   8   444   4444  4.0  40.0  400.0  4000.0\n",
       "5   55   5   555   5555  5.0  50.0  500.0  5000.0\n",
       "6   88   8   888   8888  6.0  50.0  500.0  5000.0\n",
       "7   99   9   999   9999  7.0  60.0  600.0  6000.0\n",
       "8   11   1   111   1111  NaN   NaN    NaN     NaN\n",
       "9   22   2   888   8888  NaN   NaN    NaN     NaN\n",
       "10  33   3   222   2222  NaN   NaN    NaN     NaN\n",
       "11  88   4   333   3333  NaN   NaN    NaN     NaN\n",
       "12  44   8   444   4444  NaN   NaN    NaN     NaN\n",
       "13  55   5   555   5555  NaN   NaN    NaN     NaN\n",
       "14  88   8   888   8888  NaN   NaN    NaN     NaN\n",
       "15  99   9   999   9999  NaN   NaN    NaN     NaN"
      ]
     },
     "execution_count": 185,
     "metadata": {},
     "output_type": "execute_result"
    }
   ],
   "source": [
    "d1.join(d2)"
   ]
  },
  {
   "cell_type": "code",
   "execution_count": 187,
   "id": "f8bdf5e6-a636-429c-b6a4-3e0c9f9ec8a7",
   "metadata": {},
   "outputs": [
    {
     "data": {
      "text/html": [
       "<div>\n",
       "<style scoped>\n",
       "    .dataframe tbody tr th:only-of-type {\n",
       "        vertical-align: middle;\n",
       "    }\n",
       "\n",
       "    .dataframe tbody tr th {\n",
       "        vertical-align: top;\n",
       "    }\n",
       "\n",
       "    .dataframe thead th {\n",
       "        text-align: right;\n",
       "    }\n",
       "</style>\n",
       "<table border=\"1\" class=\"dataframe\">\n",
       "  <thead>\n",
       "    <tr style=\"text-align: right;\">\n",
       "      <th></th>\n",
       "      <th>NO</th>\n",
       "      <th>ID</th>\n",
       "      <th>NAME</th>\n",
       "      <th>SCORE</th>\n",
       "      <th>ID1</th>\n",
       "      <th>NO1</th>\n",
       "      <th>NAME1</th>\n",
       "      <th>SCORE1</th>\n",
       "    </tr>\n",
       "  </thead>\n",
       "  <tbody>\n",
       "    <tr>\n",
       "      <th>0</th>\n",
       "      <td>11</td>\n",
       "      <td>1</td>\n",
       "      <td>111</td>\n",
       "      <td>1111</td>\n",
       "      <td>1</td>\n",
       "      <td>10</td>\n",
       "      <td>100</td>\n",
       "      <td>1000</td>\n",
       "    </tr>\n",
       "    <tr>\n",
       "      <th>1</th>\n",
       "      <td>22</td>\n",
       "      <td>2</td>\n",
       "      <td>888</td>\n",
       "      <td>8888</td>\n",
       "      <td>2</td>\n",
       "      <td>20</td>\n",
       "      <td>200</td>\n",
       "      <td>2000</td>\n",
       "    </tr>\n",
       "    <tr>\n",
       "      <th>2</th>\n",
       "      <td>33</td>\n",
       "      <td>3</td>\n",
       "      <td>222</td>\n",
       "      <td>2222</td>\n",
       "      <td>6</td>\n",
       "      <td>50</td>\n",
       "      <td>300</td>\n",
       "      <td>3000</td>\n",
       "    </tr>\n",
       "    <tr>\n",
       "      <th>3</th>\n",
       "      <td>88</td>\n",
       "      <td>4</td>\n",
       "      <td>333</td>\n",
       "      <td>3333</td>\n",
       "      <td>3</td>\n",
       "      <td>30</td>\n",
       "      <td>500</td>\n",
       "      <td>5000</td>\n",
       "    </tr>\n",
       "    <tr>\n",
       "      <th>4</th>\n",
       "      <td>44</td>\n",
       "      <td>8</td>\n",
       "      <td>444</td>\n",
       "      <td>4444</td>\n",
       "      <td>4</td>\n",
       "      <td>40</td>\n",
       "      <td>400</td>\n",
       "      <td>4000</td>\n",
       "    </tr>\n",
       "    <tr>\n",
       "      <th>5</th>\n",
       "      <td>55</td>\n",
       "      <td>5</td>\n",
       "      <td>555</td>\n",
       "      <td>5555</td>\n",
       "      <td>5</td>\n",
       "      <td>50</td>\n",
       "      <td>500</td>\n",
       "      <td>5000</td>\n",
       "    </tr>\n",
       "    <tr>\n",
       "      <th>6</th>\n",
       "      <td>88</td>\n",
       "      <td>8</td>\n",
       "      <td>888</td>\n",
       "      <td>8888</td>\n",
       "      <td>6</td>\n",
       "      <td>50</td>\n",
       "      <td>500</td>\n",
       "      <td>5000</td>\n",
       "    </tr>\n",
       "    <tr>\n",
       "      <th>7</th>\n",
       "      <td>99</td>\n",
       "      <td>9</td>\n",
       "      <td>999</td>\n",
       "      <td>9999</td>\n",
       "      <td>7</td>\n",
       "      <td>60</td>\n",
       "      <td>600</td>\n",
       "      <td>6000</td>\n",
       "    </tr>\n",
       "  </tbody>\n",
       "</table>\n",
       "</div>"
      ],
      "text/plain": [
       "   NO  ID  NAME  SCORE  ID1  NO1  NAME1  SCORE1\n",
       "0  11   1   111   1111    1   10    100    1000\n",
       "1  22   2   888   8888    2   20    200    2000\n",
       "2  33   3   222   2222    6   50    300    3000\n",
       "3  88   4   333   3333    3   30    500    5000\n",
       "4  44   8   444   4444    4   40    400    4000\n",
       "5  55   5   555   5555    5   50    500    5000\n",
       "6  88   8   888   8888    6   50    500    5000\n",
       "7  99   9   999   9999    7   60    600    6000"
      ]
     },
     "execution_count": 187,
     "metadata": {},
     "output_type": "execute_result"
    }
   ],
   "source": [
    "d1.join(d2, how='inner')"
   ]
  },
  {
   "cell_type": "code",
   "execution_count": 189,
   "id": "7a742f4b-ce6a-4d7b-8537-27931878dacf",
   "metadata": {},
   "outputs": [
    {
     "data": {
      "text/html": [
       "<div>\n",
       "<style scoped>\n",
       "    .dataframe tbody tr th:only-of-type {\n",
       "        vertical-align: middle;\n",
       "    }\n",
       "\n",
       "    .dataframe tbody tr th {\n",
       "        vertical-align: top;\n",
       "    }\n",
       "\n",
       "    .dataframe thead th {\n",
       "        text-align: right;\n",
       "    }\n",
       "</style>\n",
       "<table border=\"1\" class=\"dataframe\">\n",
       "  <thead>\n",
       "    <tr style=\"text-align: right;\">\n",
       "      <th></th>\n",
       "      <th>NO</th>\n",
       "      <th>ID</th>\n",
       "      <th>NAME</th>\n",
       "      <th>SCORE</th>\n",
       "      <th>ID1</th>\n",
       "      <th>NO1</th>\n",
       "      <th>NAME1</th>\n",
       "      <th>SCORE1</th>\n",
       "    </tr>\n",
       "  </thead>\n",
       "  <tbody>\n",
       "    <tr>\n",
       "      <th>0</th>\n",
       "      <td>11</td>\n",
       "      <td>1</td>\n",
       "      <td>111</td>\n",
       "      <td>1111</td>\n",
       "      <td>1.0</td>\n",
       "      <td>10.0</td>\n",
       "      <td>100.0</td>\n",
       "      <td>1000.0</td>\n",
       "    </tr>\n",
       "    <tr>\n",
       "      <th>1</th>\n",
       "      <td>22</td>\n",
       "      <td>2</td>\n",
       "      <td>888</td>\n",
       "      <td>8888</td>\n",
       "      <td>2.0</td>\n",
       "      <td>20.0</td>\n",
       "      <td>200.0</td>\n",
       "      <td>2000.0</td>\n",
       "    </tr>\n",
       "    <tr>\n",
       "      <th>2</th>\n",
       "      <td>33</td>\n",
       "      <td>3</td>\n",
       "      <td>222</td>\n",
       "      <td>2222</td>\n",
       "      <td>6.0</td>\n",
       "      <td>50.0</td>\n",
       "      <td>300.0</td>\n",
       "      <td>3000.0</td>\n",
       "    </tr>\n",
       "    <tr>\n",
       "      <th>3</th>\n",
       "      <td>88</td>\n",
       "      <td>4</td>\n",
       "      <td>333</td>\n",
       "      <td>3333</td>\n",
       "      <td>3.0</td>\n",
       "      <td>30.0</td>\n",
       "      <td>500.0</td>\n",
       "      <td>5000.0</td>\n",
       "    </tr>\n",
       "    <tr>\n",
       "      <th>4</th>\n",
       "      <td>44</td>\n",
       "      <td>8</td>\n",
       "      <td>444</td>\n",
       "      <td>4444</td>\n",
       "      <td>4.0</td>\n",
       "      <td>40.0</td>\n",
       "      <td>400.0</td>\n",
       "      <td>4000.0</td>\n",
       "    </tr>\n",
       "    <tr>\n",
       "      <th>5</th>\n",
       "      <td>55</td>\n",
       "      <td>5</td>\n",
       "      <td>555</td>\n",
       "      <td>5555</td>\n",
       "      <td>5.0</td>\n",
       "      <td>50.0</td>\n",
       "      <td>500.0</td>\n",
       "      <td>5000.0</td>\n",
       "    </tr>\n",
       "    <tr>\n",
       "      <th>6</th>\n",
       "      <td>88</td>\n",
       "      <td>8</td>\n",
       "      <td>888</td>\n",
       "      <td>8888</td>\n",
       "      <td>6.0</td>\n",
       "      <td>50.0</td>\n",
       "      <td>500.0</td>\n",
       "      <td>5000.0</td>\n",
       "    </tr>\n",
       "    <tr>\n",
       "      <th>7</th>\n",
       "      <td>99</td>\n",
       "      <td>9</td>\n",
       "      <td>999</td>\n",
       "      <td>9999</td>\n",
       "      <td>7.0</td>\n",
       "      <td>60.0</td>\n",
       "      <td>600.0</td>\n",
       "      <td>6000.0</td>\n",
       "    </tr>\n",
       "    <tr>\n",
       "      <th>8</th>\n",
       "      <td>11</td>\n",
       "      <td>1</td>\n",
       "      <td>111</td>\n",
       "      <td>1111</td>\n",
       "      <td>NaN</td>\n",
       "      <td>NaN</td>\n",
       "      <td>NaN</td>\n",
       "      <td>NaN</td>\n",
       "    </tr>\n",
       "    <tr>\n",
       "      <th>9</th>\n",
       "      <td>22</td>\n",
       "      <td>2</td>\n",
       "      <td>888</td>\n",
       "      <td>8888</td>\n",
       "      <td>NaN</td>\n",
       "      <td>NaN</td>\n",
       "      <td>NaN</td>\n",
       "      <td>NaN</td>\n",
       "    </tr>\n",
       "    <tr>\n",
       "      <th>10</th>\n",
       "      <td>33</td>\n",
       "      <td>3</td>\n",
       "      <td>222</td>\n",
       "      <td>2222</td>\n",
       "      <td>NaN</td>\n",
       "      <td>NaN</td>\n",
       "      <td>NaN</td>\n",
       "      <td>NaN</td>\n",
       "    </tr>\n",
       "    <tr>\n",
       "      <th>11</th>\n",
       "      <td>88</td>\n",
       "      <td>4</td>\n",
       "      <td>333</td>\n",
       "      <td>3333</td>\n",
       "      <td>NaN</td>\n",
       "      <td>NaN</td>\n",
       "      <td>NaN</td>\n",
       "      <td>NaN</td>\n",
       "    </tr>\n",
       "    <tr>\n",
       "      <th>12</th>\n",
       "      <td>44</td>\n",
       "      <td>8</td>\n",
       "      <td>444</td>\n",
       "      <td>4444</td>\n",
       "      <td>NaN</td>\n",
       "      <td>NaN</td>\n",
       "      <td>NaN</td>\n",
       "      <td>NaN</td>\n",
       "    </tr>\n",
       "    <tr>\n",
       "      <th>13</th>\n",
       "      <td>55</td>\n",
       "      <td>5</td>\n",
       "      <td>555</td>\n",
       "      <td>5555</td>\n",
       "      <td>NaN</td>\n",
       "      <td>NaN</td>\n",
       "      <td>NaN</td>\n",
       "      <td>NaN</td>\n",
       "    </tr>\n",
       "    <tr>\n",
       "      <th>14</th>\n",
       "      <td>88</td>\n",
       "      <td>8</td>\n",
       "      <td>888</td>\n",
       "      <td>8888</td>\n",
       "      <td>NaN</td>\n",
       "      <td>NaN</td>\n",
       "      <td>NaN</td>\n",
       "      <td>NaN</td>\n",
       "    </tr>\n",
       "    <tr>\n",
       "      <th>15</th>\n",
       "      <td>99</td>\n",
       "      <td>9</td>\n",
       "      <td>999</td>\n",
       "      <td>9999</td>\n",
       "      <td>NaN</td>\n",
       "      <td>NaN</td>\n",
       "      <td>NaN</td>\n",
       "      <td>NaN</td>\n",
       "    </tr>\n",
       "  </tbody>\n",
       "</table>\n",
       "</div>"
      ],
      "text/plain": [
       "    NO  ID  NAME  SCORE  ID1   NO1  NAME1  SCORE1\n",
       "0   11   1   111   1111  1.0  10.0  100.0  1000.0\n",
       "1   22   2   888   8888  2.0  20.0  200.0  2000.0\n",
       "2   33   3   222   2222  6.0  50.0  300.0  3000.0\n",
       "3   88   4   333   3333  3.0  30.0  500.0  5000.0\n",
       "4   44   8   444   4444  4.0  40.0  400.0  4000.0\n",
       "5   55   5   555   5555  5.0  50.0  500.0  5000.0\n",
       "6   88   8   888   8888  6.0  50.0  500.0  5000.0\n",
       "7   99   9   999   9999  7.0  60.0  600.0  6000.0\n",
       "8   11   1   111   1111  NaN   NaN    NaN     NaN\n",
       "9   22   2   888   8888  NaN   NaN    NaN     NaN\n",
       "10  33   3   222   2222  NaN   NaN    NaN     NaN\n",
       "11  88   4   333   3333  NaN   NaN    NaN     NaN\n",
       "12  44   8   444   4444  NaN   NaN    NaN     NaN\n",
       "13  55   5   555   5555  NaN   NaN    NaN     NaN\n",
       "14  88   8   888   8888  NaN   NaN    NaN     NaN\n",
       "15  99   9   999   9999  NaN   NaN    NaN     NaN"
      ]
     },
     "execution_count": 189,
     "metadata": {},
     "output_type": "execute_result"
    }
   ],
   "source": [
    "d1.join(d2, how='outer')"
   ]
  },
  {
   "cell_type": "code",
   "execution_count": 191,
   "id": "394ca945-a0e7-4347-a4f1-a688f05a5bb5",
   "metadata": {},
   "outputs": [
    {
     "data": {
      "text/html": [
       "<div>\n",
       "<style scoped>\n",
       "    .dataframe tbody tr th:only-of-type {\n",
       "        vertical-align: middle;\n",
       "    }\n",
       "\n",
       "    .dataframe tbody tr th {\n",
       "        vertical-align: top;\n",
       "    }\n",
       "\n",
       "    .dataframe thead th {\n",
       "        text-align: right;\n",
       "    }\n",
       "</style>\n",
       "<table border=\"1\" class=\"dataframe\">\n",
       "  <thead>\n",
       "    <tr style=\"text-align: right;\">\n",
       "      <th></th>\n",
       "      <th>NO</th>\n",
       "      <th>ID</th>\n",
       "      <th>NAME</th>\n",
       "      <th>SCORE</th>\n",
       "      <th>ID1</th>\n",
       "      <th>NO1</th>\n",
       "      <th>NAME1</th>\n",
       "      <th>SCORE1</th>\n",
       "    </tr>\n",
       "  </thead>\n",
       "  <tbody>\n",
       "    <tr>\n",
       "      <th>0</th>\n",
       "      <td>11</td>\n",
       "      <td>1</td>\n",
       "      <td>111</td>\n",
       "      <td>1111</td>\n",
       "      <td>1.0</td>\n",
       "      <td>10.0</td>\n",
       "      <td>100.0</td>\n",
       "      <td>1000.0</td>\n",
       "    </tr>\n",
       "    <tr>\n",
       "      <th>1</th>\n",
       "      <td>22</td>\n",
       "      <td>2</td>\n",
       "      <td>888</td>\n",
       "      <td>8888</td>\n",
       "      <td>2.0</td>\n",
       "      <td>20.0</td>\n",
       "      <td>200.0</td>\n",
       "      <td>2000.0</td>\n",
       "    </tr>\n",
       "    <tr>\n",
       "      <th>2</th>\n",
       "      <td>33</td>\n",
       "      <td>3</td>\n",
       "      <td>222</td>\n",
       "      <td>2222</td>\n",
       "      <td>6.0</td>\n",
       "      <td>50.0</td>\n",
       "      <td>300.0</td>\n",
       "      <td>3000.0</td>\n",
       "    </tr>\n",
       "    <tr>\n",
       "      <th>3</th>\n",
       "      <td>88</td>\n",
       "      <td>4</td>\n",
       "      <td>333</td>\n",
       "      <td>3333</td>\n",
       "      <td>3.0</td>\n",
       "      <td>30.0</td>\n",
       "      <td>500.0</td>\n",
       "      <td>5000.0</td>\n",
       "    </tr>\n",
       "    <tr>\n",
       "      <th>4</th>\n",
       "      <td>44</td>\n",
       "      <td>8</td>\n",
       "      <td>444</td>\n",
       "      <td>4444</td>\n",
       "      <td>4.0</td>\n",
       "      <td>40.0</td>\n",
       "      <td>400.0</td>\n",
       "      <td>4000.0</td>\n",
       "    </tr>\n",
       "    <tr>\n",
       "      <th>5</th>\n",
       "      <td>55</td>\n",
       "      <td>5</td>\n",
       "      <td>555</td>\n",
       "      <td>5555</td>\n",
       "      <td>5.0</td>\n",
       "      <td>50.0</td>\n",
       "      <td>500.0</td>\n",
       "      <td>5000.0</td>\n",
       "    </tr>\n",
       "    <tr>\n",
       "      <th>6</th>\n",
       "      <td>88</td>\n",
       "      <td>8</td>\n",
       "      <td>888</td>\n",
       "      <td>8888</td>\n",
       "      <td>6.0</td>\n",
       "      <td>50.0</td>\n",
       "      <td>500.0</td>\n",
       "      <td>5000.0</td>\n",
       "    </tr>\n",
       "    <tr>\n",
       "      <th>7</th>\n",
       "      <td>99</td>\n",
       "      <td>9</td>\n",
       "      <td>999</td>\n",
       "      <td>9999</td>\n",
       "      <td>7.0</td>\n",
       "      <td>60.0</td>\n",
       "      <td>600.0</td>\n",
       "      <td>6000.0</td>\n",
       "    </tr>\n",
       "    <tr>\n",
       "      <th>8</th>\n",
       "      <td>11</td>\n",
       "      <td>1</td>\n",
       "      <td>111</td>\n",
       "      <td>1111</td>\n",
       "      <td>NaN</td>\n",
       "      <td>NaN</td>\n",
       "      <td>NaN</td>\n",
       "      <td>NaN</td>\n",
       "    </tr>\n",
       "    <tr>\n",
       "      <th>9</th>\n",
       "      <td>22</td>\n",
       "      <td>2</td>\n",
       "      <td>888</td>\n",
       "      <td>8888</td>\n",
       "      <td>NaN</td>\n",
       "      <td>NaN</td>\n",
       "      <td>NaN</td>\n",
       "      <td>NaN</td>\n",
       "    </tr>\n",
       "    <tr>\n",
       "      <th>10</th>\n",
       "      <td>33</td>\n",
       "      <td>3</td>\n",
       "      <td>222</td>\n",
       "      <td>2222</td>\n",
       "      <td>NaN</td>\n",
       "      <td>NaN</td>\n",
       "      <td>NaN</td>\n",
       "      <td>NaN</td>\n",
       "    </tr>\n",
       "    <tr>\n",
       "      <th>11</th>\n",
       "      <td>88</td>\n",
       "      <td>4</td>\n",
       "      <td>333</td>\n",
       "      <td>3333</td>\n",
       "      <td>NaN</td>\n",
       "      <td>NaN</td>\n",
       "      <td>NaN</td>\n",
       "      <td>NaN</td>\n",
       "    </tr>\n",
       "    <tr>\n",
       "      <th>12</th>\n",
       "      <td>44</td>\n",
       "      <td>8</td>\n",
       "      <td>444</td>\n",
       "      <td>4444</td>\n",
       "      <td>NaN</td>\n",
       "      <td>NaN</td>\n",
       "      <td>NaN</td>\n",
       "      <td>NaN</td>\n",
       "    </tr>\n",
       "    <tr>\n",
       "      <th>13</th>\n",
       "      <td>55</td>\n",
       "      <td>5</td>\n",
       "      <td>555</td>\n",
       "      <td>5555</td>\n",
       "      <td>NaN</td>\n",
       "      <td>NaN</td>\n",
       "      <td>NaN</td>\n",
       "      <td>NaN</td>\n",
       "    </tr>\n",
       "    <tr>\n",
       "      <th>14</th>\n",
       "      <td>88</td>\n",
       "      <td>8</td>\n",
       "      <td>888</td>\n",
       "      <td>8888</td>\n",
       "      <td>NaN</td>\n",
       "      <td>NaN</td>\n",
       "      <td>NaN</td>\n",
       "      <td>NaN</td>\n",
       "    </tr>\n",
       "    <tr>\n",
       "      <th>15</th>\n",
       "      <td>99</td>\n",
       "      <td>9</td>\n",
       "      <td>999</td>\n",
       "      <td>9999</td>\n",
       "      <td>NaN</td>\n",
       "      <td>NaN</td>\n",
       "      <td>NaN</td>\n",
       "      <td>NaN</td>\n",
       "    </tr>\n",
       "  </tbody>\n",
       "</table>\n",
       "</div>"
      ],
      "text/plain": [
       "    NO  ID  NAME  SCORE  ID1   NO1  NAME1  SCORE1\n",
       "0   11   1   111   1111  1.0  10.0  100.0  1000.0\n",
       "1   22   2   888   8888  2.0  20.0  200.0  2000.0\n",
       "2   33   3   222   2222  6.0  50.0  300.0  3000.0\n",
       "3   88   4   333   3333  3.0  30.0  500.0  5000.0\n",
       "4   44   8   444   4444  4.0  40.0  400.0  4000.0\n",
       "5   55   5   555   5555  5.0  50.0  500.0  5000.0\n",
       "6   88   8   888   8888  6.0  50.0  500.0  5000.0\n",
       "7   99   9   999   9999  7.0  60.0  600.0  6000.0\n",
       "8   11   1   111   1111  NaN   NaN    NaN     NaN\n",
       "9   22   2   888   8888  NaN   NaN    NaN     NaN\n",
       "10  33   3   222   2222  NaN   NaN    NaN     NaN\n",
       "11  88   4   333   3333  NaN   NaN    NaN     NaN\n",
       "12  44   8   444   4444  NaN   NaN    NaN     NaN\n",
       "13  55   5   555   5555  NaN   NaN    NaN     NaN\n",
       "14  88   8   888   8888  NaN   NaN    NaN     NaN\n",
       "15  99   9   999   9999  NaN   NaN    NaN     NaN"
      ]
     },
     "execution_count": 191,
     "metadata": {},
     "output_type": "execute_result"
    }
   ],
   "source": [
    "d1.join(d2, how='left')"
   ]
  },
  {
   "cell_type": "code",
   "execution_count": 193,
   "id": "87a5bc6a-579e-4a43-8d72-1566f2dc3ce3",
   "metadata": {},
   "outputs": [
    {
     "data": {
      "text/html": [
       "<div>\n",
       "<style scoped>\n",
       "    .dataframe tbody tr th:only-of-type {\n",
       "        vertical-align: middle;\n",
       "    }\n",
       "\n",
       "    .dataframe tbody tr th {\n",
       "        vertical-align: top;\n",
       "    }\n",
       "\n",
       "    .dataframe thead th {\n",
       "        text-align: right;\n",
       "    }\n",
       "</style>\n",
       "<table border=\"1\" class=\"dataframe\">\n",
       "  <thead>\n",
       "    <tr style=\"text-align: right;\">\n",
       "      <th></th>\n",
       "      <th>NO</th>\n",
       "      <th>ID</th>\n",
       "      <th>NAME</th>\n",
       "      <th>SCORE</th>\n",
       "      <th>ID1</th>\n",
       "      <th>NO1</th>\n",
       "      <th>NAME1</th>\n",
       "      <th>SCORE1</th>\n",
       "    </tr>\n",
       "  </thead>\n",
       "  <tbody>\n",
       "    <tr>\n",
       "      <th>0</th>\n",
       "      <td>11</td>\n",
       "      <td>1</td>\n",
       "      <td>111</td>\n",
       "      <td>1111</td>\n",
       "      <td>1</td>\n",
       "      <td>10</td>\n",
       "      <td>100</td>\n",
       "      <td>1000</td>\n",
       "    </tr>\n",
       "    <tr>\n",
       "      <th>1</th>\n",
       "      <td>22</td>\n",
       "      <td>2</td>\n",
       "      <td>888</td>\n",
       "      <td>8888</td>\n",
       "      <td>2</td>\n",
       "      <td>20</td>\n",
       "      <td>200</td>\n",
       "      <td>2000</td>\n",
       "    </tr>\n",
       "    <tr>\n",
       "      <th>2</th>\n",
       "      <td>33</td>\n",
       "      <td>3</td>\n",
       "      <td>222</td>\n",
       "      <td>2222</td>\n",
       "      <td>6</td>\n",
       "      <td>50</td>\n",
       "      <td>300</td>\n",
       "      <td>3000</td>\n",
       "    </tr>\n",
       "    <tr>\n",
       "      <th>3</th>\n",
       "      <td>88</td>\n",
       "      <td>4</td>\n",
       "      <td>333</td>\n",
       "      <td>3333</td>\n",
       "      <td>3</td>\n",
       "      <td>30</td>\n",
       "      <td>500</td>\n",
       "      <td>5000</td>\n",
       "    </tr>\n",
       "    <tr>\n",
       "      <th>4</th>\n",
       "      <td>44</td>\n",
       "      <td>8</td>\n",
       "      <td>444</td>\n",
       "      <td>4444</td>\n",
       "      <td>4</td>\n",
       "      <td>40</td>\n",
       "      <td>400</td>\n",
       "      <td>4000</td>\n",
       "    </tr>\n",
       "    <tr>\n",
       "      <th>5</th>\n",
       "      <td>55</td>\n",
       "      <td>5</td>\n",
       "      <td>555</td>\n",
       "      <td>5555</td>\n",
       "      <td>5</td>\n",
       "      <td>50</td>\n",
       "      <td>500</td>\n",
       "      <td>5000</td>\n",
       "    </tr>\n",
       "    <tr>\n",
       "      <th>6</th>\n",
       "      <td>88</td>\n",
       "      <td>8</td>\n",
       "      <td>888</td>\n",
       "      <td>8888</td>\n",
       "      <td>6</td>\n",
       "      <td>50</td>\n",
       "      <td>500</td>\n",
       "      <td>5000</td>\n",
       "    </tr>\n",
       "    <tr>\n",
       "      <th>7</th>\n",
       "      <td>99</td>\n",
       "      <td>9</td>\n",
       "      <td>999</td>\n",
       "      <td>9999</td>\n",
       "      <td>7</td>\n",
       "      <td>60</td>\n",
       "      <td>600</td>\n",
       "      <td>6000</td>\n",
       "    </tr>\n",
       "  </tbody>\n",
       "</table>\n",
       "</div>"
      ],
      "text/plain": [
       "   NO  ID  NAME  SCORE  ID1  NO1  NAME1  SCORE1\n",
       "0  11   1   111   1111    1   10    100    1000\n",
       "1  22   2   888   8888    2   20    200    2000\n",
       "2  33   3   222   2222    6   50    300    3000\n",
       "3  88   4   333   3333    3   30    500    5000\n",
       "4  44   8   444   4444    4   40    400    4000\n",
       "5  55   5   555   5555    5   50    500    5000\n",
       "6  88   8   888   8888    6   50    500    5000\n",
       "7  99   9   999   9999    7   60    600    6000"
      ]
     },
     "execution_count": 193,
     "metadata": {},
     "output_type": "execute_result"
    }
   ],
   "source": [
    "d1.join(d2, how='right')"
   ]
  },
  {
   "cell_type": "code",
   "execution_count": 195,
   "id": "d8007cff-1f3d-45e4-984b-4985439c8ea3",
   "metadata": {},
   "outputs": [
    {
     "name": "stdout",
     "output_type": "stream",
     "text": [
      "         Date    Store  Sales\n",
      "0  2024-01-01  Store A    250\n",
      "1  2024-01-01  Store B    300\n",
      "2  2024-01-02  Store A    200\n",
      "3  2024-01-02  Store B    350\n"
     ]
    }
   ],
   "source": [
    "import pandas as pd\n",
    "\n",
    "# Create a DataFrame\n",
    "df = pd.DataFrame({\n",
    "    'Date': ['2024-01-01', '2024-01-01', '2024-01-02', '2024-01-02'],\n",
    "    'Store': ['Store A', 'Store B', 'Store A', 'Store B'],\n",
    "    'Sales': [250, 300, 200, 350]\n",
    "})\n",
    "\n",
    "print(df)"
   ]
  },
  {
   "cell_type": "code",
   "execution_count": 197,
   "id": "af99c9a5-7319-408f-bf7f-609f3fec4f38",
   "metadata": {},
   "outputs": [
    {
     "name": "stdout",
     "output_type": "stream",
     "text": [
      "Store       Store A  Store B\n",
      "Date                        \n",
      "2024-01-01      250      300\n",
      "2024-01-02      200      350\n"
     ]
    }
   ],
   "source": [
    "# Pivot the data\n",
    "pivoted_df = df.pivot(index='Date', columns='Store', values='Sales')\n",
    "print(pivoted_df)"
   ]
  },
  {
   "cell_type": "code",
   "execution_count": 199,
   "id": "7f8fea15-7491-43cd-b01a-86bfc395cf8f",
   "metadata": {},
   "outputs": [
    {
     "name": "stdout",
     "output_type": "stream",
     "text": [
      "1\n",
      "2\n",
      "3\n",
      "4\n",
      "6\n",
      "7\n",
      "8\n",
      "9\n"
     ]
    }
   ],
   "source": [
    "for i in range(1,10):\n",
    "    if i == 5:\n",
    "        continue\n",
    "    print(i)"
   ]
  },
  {
   "cell_type": "code",
   "execution_count": 201,
   "id": "a1d4994f-b6c8-4be0-89d3-80cc5e8ec572",
   "metadata": {},
   "outputs": [],
   "source": [
    "a = [1,3,4,2,3,4,324,43,3]"
   ]
  },
  {
   "cell_type": "code",
   "execution_count": 203,
   "id": "8967d5ce-04c0-47af-8006-b83d2b818331",
   "metadata": {},
   "outputs": [
    {
     "data": {
      "text/plain": [
       "[4, 2, 3, 4]"
      ]
     },
     "execution_count": 203,
     "metadata": {},
     "output_type": "execute_result"
    }
   ],
   "source": [
    "a[2:6:1]"
   ]
  },
  {
   "cell_type": "code",
   "execution_count": 205,
   "id": "4c49a788-d545-4531-8b3a-053d4edeac30",
   "metadata": {},
   "outputs": [
    {
     "data": {
      "text/html": [
       "<div>\n",
       "<style scoped>\n",
       "    .dataframe tbody tr th:only-of-type {\n",
       "        vertical-align: middle;\n",
       "    }\n",
       "\n",
       "    .dataframe tbody tr th {\n",
       "        vertical-align: top;\n",
       "    }\n",
       "\n",
       "    .dataframe thead th {\n",
       "        text-align: right;\n",
       "    }\n",
       "</style>\n",
       "<table border=\"1\" class=\"dataframe\">\n",
       "  <thead>\n",
       "    <tr style=\"text-align: right;\">\n",
       "      <th></th>\n",
       "      <th>NO</th>\n",
       "      <th>ID</th>\n",
       "      <th>NAME</th>\n",
       "      <th>SCORE</th>\n",
       "    </tr>\n",
       "  </thead>\n",
       "  <tbody>\n",
       "    <tr>\n",
       "      <th>0</th>\n",
       "      <td>11</td>\n",
       "      <td>1</td>\n",
       "      <td>111</td>\n",
       "      <td>1111</td>\n",
       "    </tr>\n",
       "    <tr>\n",
       "      <th>1</th>\n",
       "      <td>22</td>\n",
       "      <td>2</td>\n",
       "      <td>888</td>\n",
       "      <td>8888</td>\n",
       "    </tr>\n",
       "    <tr>\n",
       "      <th>2</th>\n",
       "      <td>33</td>\n",
       "      <td>3</td>\n",
       "      <td>222</td>\n",
       "      <td>2222</td>\n",
       "    </tr>\n",
       "    <tr>\n",
       "      <th>3</th>\n",
       "      <td>88</td>\n",
       "      <td>4</td>\n",
       "      <td>333</td>\n",
       "      <td>3333</td>\n",
       "    </tr>\n",
       "    <tr>\n",
       "      <th>4</th>\n",
       "      <td>44</td>\n",
       "      <td>8</td>\n",
       "      <td>444</td>\n",
       "      <td>4444</td>\n",
       "    </tr>\n",
       "    <tr>\n",
       "      <th>5</th>\n",
       "      <td>55</td>\n",
       "      <td>5</td>\n",
       "      <td>555</td>\n",
       "      <td>5555</td>\n",
       "    </tr>\n",
       "    <tr>\n",
       "      <th>6</th>\n",
       "      <td>88</td>\n",
       "      <td>8</td>\n",
       "      <td>888</td>\n",
       "      <td>8888</td>\n",
       "    </tr>\n",
       "    <tr>\n",
       "      <th>7</th>\n",
       "      <td>99</td>\n",
       "      <td>9</td>\n",
       "      <td>999</td>\n",
       "      <td>9999</td>\n",
       "    </tr>\n",
       "    <tr>\n",
       "      <th>8</th>\n",
       "      <td>11</td>\n",
       "      <td>1</td>\n",
       "      <td>111</td>\n",
       "      <td>1111</td>\n",
       "    </tr>\n",
       "    <tr>\n",
       "      <th>9</th>\n",
       "      <td>22</td>\n",
       "      <td>2</td>\n",
       "      <td>888</td>\n",
       "      <td>8888</td>\n",
       "    </tr>\n",
       "    <tr>\n",
       "      <th>10</th>\n",
       "      <td>33</td>\n",
       "      <td>3</td>\n",
       "      <td>222</td>\n",
       "      <td>2222</td>\n",
       "    </tr>\n",
       "    <tr>\n",
       "      <th>11</th>\n",
       "      <td>88</td>\n",
       "      <td>4</td>\n",
       "      <td>333</td>\n",
       "      <td>3333</td>\n",
       "    </tr>\n",
       "    <tr>\n",
       "      <th>12</th>\n",
       "      <td>44</td>\n",
       "      <td>8</td>\n",
       "      <td>444</td>\n",
       "      <td>4444</td>\n",
       "    </tr>\n",
       "    <tr>\n",
       "      <th>13</th>\n",
       "      <td>55</td>\n",
       "      <td>5</td>\n",
       "      <td>555</td>\n",
       "      <td>5555</td>\n",
       "    </tr>\n",
       "    <tr>\n",
       "      <th>14</th>\n",
       "      <td>88</td>\n",
       "      <td>8</td>\n",
       "      <td>888</td>\n",
       "      <td>8888</td>\n",
       "    </tr>\n",
       "    <tr>\n",
       "      <th>15</th>\n",
       "      <td>99</td>\n",
       "      <td>9</td>\n",
       "      <td>999</td>\n",
       "      <td>9999</td>\n",
       "    </tr>\n",
       "  </tbody>\n",
       "</table>\n",
       "</div>"
      ],
      "text/plain": [
       "    NO  ID  NAME  SCORE\n",
       "0   11   1   111   1111\n",
       "1   22   2   888   8888\n",
       "2   33   3   222   2222\n",
       "3   88   4   333   3333\n",
       "4   44   8   444   4444\n",
       "5   55   5   555   5555\n",
       "6   88   8   888   8888\n",
       "7   99   9   999   9999\n",
       "8   11   1   111   1111\n",
       "9   22   2   888   8888\n",
       "10  33   3   222   2222\n",
       "11  88   4   333   3333\n",
       "12  44   8   444   4444\n",
       "13  55   5   555   5555\n",
       "14  88   8   888   8888\n",
       "15  99   9   999   9999"
      ]
     },
     "execution_count": 205,
     "metadata": {},
     "output_type": "execute_result"
    }
   ],
   "source": [
    "d1"
   ]
  },
  {
   "cell_type": "code",
   "execution_count": 220,
   "id": "496bae88-ae1b-438d-bde2-e130ab66559a",
   "metadata": {},
   "outputs": [
    {
     "data": {
      "text/plain": [
       "NO         11\n",
       "ID          1\n",
       "NAME      111\n",
       "SCORE    1111\n",
       "dtype: int64"
      ]
     },
     "execution_count": 220,
     "metadata": {},
     "output_type": "execute_result"
    }
   ],
   "source": [
    "d1.min()"
   ]
  },
  {
   "cell_type": "code",
   "execution_count": 222,
   "id": "97331af0-61b5-4357-8f3e-0830e937036e",
   "metadata": {},
   "outputs": [
    {
     "name": "stdout",
     "output_type": "stream",
     "text": [
      "Rushi\n",
      "28\n",
      "34332\n"
     ]
    }
   ],
   "source": [
    "class Student():\n",
    "    def show(self,name,age,salary):\n",
    "        self.name = name\n",
    "        self.age = age\n",
    "        self.salary = salary\n",
    "        print(self.name)\n",
    "        print(self.age)\n",
    "        print(self.salary)\n",
    "a = Student()\n",
    "a.show('Rushi',28,34332)\n"
   ]
  },
  {
   "cell_type": "code",
   "execution_count": 234,
   "id": "09e0e9d9-4b0d-4a20-8e71-65b57bfa7c08",
   "metadata": {},
   "outputs": [
    {
     "name": "stdout",
     "output_type": "stream",
     "text": [
      "Navinya\n",
      "34\n",
      "1997\n"
     ]
    }
   ],
   "source": [
    "class Employee():\n",
    "    def show(self,name,age,year):\n",
    "        self.name = name\n",
    "        self.age = age\n",
    "        self.year = year\n",
    "        print(self.name)\n",
    "        print(self.age)\n",
    "        print(self.year)\n",
    "a = Employee()\n",
    "a.show('Navinya', 34, 1997)"
   ]
  },
  {
   "cell_type": "code",
   "execution_count": 246,
   "id": "efcc601a-d5f7-46c9-b366-032791e970d7",
   "metadata": {},
   "outputs": [
    {
     "name": "stdout",
     "output_type": "stream",
     "text": [
      "Hraha\n",
      "33\n",
      "1997\n"
     ]
    }
   ],
   "source": [
    "class Employee():\n",
    "    def __init__(self,name,age,year):\n",
    "        self.name = name\n",
    "        self.age = age\n",
    "        self.year = year\n",
    "    def show(self):\n",
    "        print(self.name)\n",
    "        print(self.age)\n",
    "        print(self.year)\n",
    "a = Employee('Hraha', 33,1997)\n",
    "a.show()\n",
    "        "
   ]
  },
  {
   "cell_type": "code",
   "execution_count": 276,
   "id": "ecc092ce-18d8-413b-9938-c365631f0eb4",
   "metadata": {},
   "outputs": [
    {
     "name": "stdout",
     "output_type": "stream",
     "text": [
      "Model: sefaskhf prize: 67898\n"
     ]
    }
   ],
   "source": [
    "class Mobile:\n",
    "    def __init__(self,m):\n",
    "        self.model = m\n",
    "        \n",
    "    def show_model(self,p):\n",
    "        self.prize = p\n",
    "        print(\"Model:\",self.model, \"prize:\", self.prize)\n",
    "\n",
    "a = Mobile(\"sefaskhf\")\n",
    "a.show_model(67898)"
   ]
  },
  {
   "cell_type": "code",
   "execution_count": 286,
   "id": "9230cf65-4133-4dbe-a953-55474dab9464",
   "metadata": {},
   "outputs": [
    {
     "name": "stdout",
     "output_type": "stream",
     "text": [
      "528\n"
     ]
    }
   ],
   "source": [
    "class Moble:\n",
    "    def __init__(self,price,qty,sale):\n",
    "        self.price = price\n",
    "        self.qty = qty\n",
    "        self.sale = sale \n",
    "    def cal_prize(self):\n",
    "        self.p = self.price * self.qty\n",
    "        print(self.p)\n",
    "        \n",
    "a = Mobile(12,44,2323)\n",
    "a.cal_prize()"
   ]
  },
  {
   "cell_type": "code",
   "execution_count": 284,
   "id": "244f3201-c40c-4772-ad63-4b0ef01d1009",
   "metadata": {},
   "outputs": [
    {
     "name": "stdout",
     "output_type": "stream",
     "text": [
      "528\n"
     ]
    }
   ],
   "source": [
    "class Mobile:  # Corrected the class name here\n",
    "    def __init__(self, price, qty, sale):\n",
    "        self.price = price\n",
    "        self.qty = qty\n",
    "        self.sale = sale \n",
    "    \n",
    "    def cal_prize(self):\n",
    "        self.p = self.price * self.qty\n",
    "        print(self.p)\n",
    "\n",
    "a = Mobile(12, 44, 2323)  # Corrected the class name here as well\n",
    "a.cal_prize()\n"
   ]
  },
  {
   "cell_type": "code",
   "execution_count": null,
   "id": "43598f4f-fdfa-4e88-b945-77bf7ce40272",
   "metadata": {},
   "outputs": [],
   "source": []
  }
 ],
 "metadata": {
  "kernelspec": {
   "display_name": "Python 3 (ipykernel)",
   "language": "python",
   "name": "python3"
  },
  "language_info": {
   "codemirror_mode": {
    "name": "ipython",
    "version": 3
   },
   "file_extension": ".py",
   "mimetype": "text/x-python",
   "name": "python",
   "nbconvert_exporter": "python",
   "pygments_lexer": "ipython3",
   "version": "3.12.4"
  }
 },
 "nbformat": 4,
 "nbformat_minor": 5
}
