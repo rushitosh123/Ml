{
 "cells": [
  {
   "cell_type": "code",
   "execution_count": null,
   "id": "e00b0585-a485-45fb-b9b5-ed214b8b8805",
   "metadata": {},
   "outputs": [],
   "source": [
    "import pandas as pd\n",
    "import sklearn.model_selection import train_test_split\n",
    "import sagemaker\n",
    "import boto3         # it is specific for connect to the s3 bucket "
   ]
  },
  {
   "cell_type": "code",
   "execution_count": null,
   "id": "a2d6011c-d74b-4232-ba0b-12725acba2a9",
   "metadata": {},
   "outputs": [],
   "source": [
    "sm_boto3 = boto3.client(\"sagemaker\")     -- # created boto3 client which can communicate s3bucket\n",
    "sess = sagemaker.Session()                # creted simple sagemaker session \n",
    "region = sess.boto_session.region_name    # whatever region name just takeit  \n",
    "bucket = \"mobibuckett sagemaker\"         # created s3 bucket name here. whatever rain test split data wecan store here\n",
    "print(\"using bucket\" + bucket)"
   ]
  },
  {
   "cell_type": "code",
   "execution_count": null,
   "id": "724d3c02-2665-40e4-9ae0-c6c26730314f",
   "metadata": {},
   "outputs": [],
   "source": [
    "df = pd.read_csv(\"gfvbnbvbccvb.csv\")"
   ]
  },
  {
   "cell_type": "code",
   "execution_count": null,
   "id": "ec34b11a-eed4-4d55-a26c-e55628008ae6",
   "metadata": {},
   "outputs": [],
   "source": [
    "# feature enginerring "
   ]
  },
  {
   "cell_type": "code",
   "execution_count": null,
   "id": "b582d878-67b4-4b4b-9474-dfc99106ae70",
   "metadata": {},
   "outputs": [],
   "source": [
    "# feature selection "
   ]
  },
  {
   "cell_type": "code",
   "execution_count": null,
   "id": "ecc3bc6e-7ff0-405d-8563-2ca700bc7f5c",
   "metadata": {},
   "outputs": [],
   "source": [
    "# store in x and y \n",
    "x = \n",
    "y = "
   ]
  },
  {
   "cell_type": "code",
   "execution_count": null,
   "id": "a4c9c5e7-5f63-4447-9a41-4dfde83f6e4e",
   "metadata": {},
   "outputs": [],
   "source": [
    "split data in x and y "
   ]
  },
  {
   "cell_type": "code",
   "execution_count": null,
   "id": "1d158d9e-d9fb-41bc-8596-584ed8efbf83",
   "metadata": {},
   "outputs": [],
   "source": [
    "# save train test file beacause we can push the same files in s3 buck\n",
    "trainX.to_csv(\"train-v-1.csv, index = False\")     save train file in csv   \n",
    "testX.to_csv(test-v-1.csv, index = False)         save test file in csv   "
   ]
  },
  {
   "cell_type": "code",
   "execution_count": null,
   "id": "85492298-9e88-4f30-8752-745f7c026e1d",
   "metadata": {},
   "outputs": [],
   "source": [
    "# now send to s3. Sagemaker will training data from s3"
   ]
  },
  {
   "cell_type": "code",
   "execution_count": null,
   "id": "979f8a57-2e12-43ac-9af0-0858ca819131",
   "metadata": {},
   "outputs": [],
   "source": [
    "sk_prefix = \"sagemaker/mobile_price_classification/sklearncontainer\""
   ]
  },
  {
   "cell_type": "code",
   "execution_count": null,
   "id": "d57808af-8f43-4996-8733-0384eff1aee1",
   "metadata": {},
   "outputs": [],
   "source": [
    "trainpath = sess.upload_data(        # we created 1st boto 3 sagemaker session now using here\n",
    "path = \"train-v-1.csv\", \n",
    "bucket = bucket,\n",
    "key_prefix = sk_prefix\n",
    ")"
   ]
  },
  {
   "cell_type": "code",
   "execution_count": null,
   "id": "611a025e-6ac5-4b70-9b9b-4a87b3d82a8a",
   "metadata": {},
   "outputs": [],
   "source": [
    "test_path  = sess.upload_data(\n",
    "path = \"test-v-1.csv\", \n",
    "bucket = bucket,\n",
    "key_prefix = sk_prefix\n",
    ")"
   ]
  },
  {
   "cell_type": "code",
   "execution_count": 2,
   "id": "2939b141-565d-44a3-95ae-e65e93e1c5b8",
   "metadata": {},
   "outputs": [],
   "source": [
    "# now go and check on sagemaker s3 bucket it is succussfully uploaded\n",
    "# it is basically data injetion phase\n",
    "# we have taken a data we have done train test split \n",
    "# and we have uploaded in s3 bucket"
   ]
  },
  {
   "cell_type": "code",
   "execution_count": null,
   "id": "d86969a3-1c1c-4a77-9ac4-b7b10632749b",
   "metadata": {},
   "outputs": [],
   "source": [
    "for data injetion same use boto3 \n",
    "create script.py   # it is available in sagemaker documentation "
   ]
  },
  {
   "cell_type": "code",
   "execution_count": 3,
   "id": "3fb24222-d737-4656-9831-2924fa80850f",
   "metadata": {},
   "outputs": [],
   "source": [
    "# from ske--  entire code having it "
   ]
  },
  {
   "cell_type": "markdown",
   "id": "a6d1af72-b8a4-4677-bc30-69c1730a2b82",
   "metadata": {},
   "source": [
    "#  Script.py     #  Now data injection \n"
   ]
  },
  {
   "cell_type": "code",
   "execution_count": null,
   "id": "531f5b7a-5fed-459c-bb98-45390779ce79",
   "metadata": {},
   "outputs": [],
   "source": [
    "import pandas as pdlearn.ensemble import RandomForestClassifier\n",
    "from sklearn.metrics import accuracy_score, precision_score, recall_score, f1_score, roc_auc_score, confusion_matrix, mean_squared_error, r2_score\n",
    "import pandas as pd\n",
    "import numpy as np\n",
    "import os\n",
    "import port boto3\n",
    "import joblib     \n",
    "import pathlib\n",
    "import argparse"
   ]
  },
  {
   "cell_type": "code",
   "execution_count": null,
   "id": "5da221e7-1d3a-4a78-a210-b882bd8e76d9",
   "metadata": {},
   "outputs": [],
   "source": [
    "# below function is just loading the model\n",
    "\n",
    "def model_fn(model_dir):\n",
    "   clf = joblib.load(os.path.join(model_dir,\"model.joblib\")\n",
    "    return  clf"
   ]
  },
  {
   "cell_type": "code",
   "execution_count": null,
   "id": "27099af0-7283-43fa-b454-fa5f061189b1",
   "metadata": {},
   "outputs": [],
   "source": [
    "# start the executaion from below line\n",
    "#whenever training ur model in sagemaker someof by default arguments are required\n",
    "\n",
    "if __name__ == \"__main__\"\n",
    "    print (\"[INFO] Extracting arguments\")"
   ]
  },
  {
   "cell_type": "code",
   "execution_count": null,
   "id": "861dc259-4405-4d8f-a91d-f85de2d627c0",
   "metadata": {},
   "outputs": [],
   "source": [
    "# hyperparameters sent by the clients are passed as command-line arguments to the scripy\n",
    "# these below two arguments pass from  my side  for random forest lib\n",
    "    parser = argparse.ArgumentParser()\n",
    "    parser.add_argument(\"--n_estimators\", type=int, default= 100)    100 means --/opt/ml/input/data/train\n",
    "    parser.add_argument(\"--random_state\", type=int, default= 0 )   0 means--  \"/opt/ml/model\")\n",
    "    args = parser.parse_args()"
   ]
  },
  {
   "cell_type": "code",
   "execution_count": null,
   "id": "d12b0050-8b5e-425f-be0f-f44c7657d372",
   "metadata": {},
   "outputs": [],
   "source": [
    "# data, model and output directoires\n",
    "# basically setup in the aws enviornment we dont have to change it  (\"SM_MODEL_DIR\"), SM_CHANNEL_TRAIN\"),(\"SM_CHANNEL_TEST\")\n",
    "# we added our train test files here\n",
    "    parser.add_argument(\"--model-dir\", type=str, default=os.environ.get(\"SM_MODEL_DIR\")) \n",
    "    parser.add_argument(\"--train\", type=str, default=os.environ.get(\"SM_CHANNEL_TRAIN\"))  \n",
    "    parser.add_argument(\"--model-dir\", type=str, default=os.environ.get(\"SM_CHANNEL_TEST\"))\n",
    "    parser.add_argument(\"--train\", type=str, default=\"train-v-1.csv\")\n",
    "    parser.add_argument(\"--model-dir\", type=str, default=\"test-v-1.csv\")\n",
    "\n",
    "    args = parser.parse_args()"
   ]
  },
  {
   "cell_type": "code",
   "execution_count": null,
   "id": "572d0d65-3d6c-48bd-af85-56308433dbe4",
   "metadata": {},
   "outputs": [],
   "source": [
    "   print(\"SKLearn Version:\", sklearn.__version__)\n",
    "   print (\"joblib Verson:\", joblib.__version__)\n",
    "   print(\"[INFO] Reading date\")\n",
    "   print()\n"
   ]
  },
  {
   "cell_type": "code",
   "execution_count": null,
   "id": "7f20234a-3c75-4bea-910e-ef4bccb74475",
   "metadata": {},
   "outputs": [],
   "source": [
    "# we are reading our train and test file by using path\n",
    "  train_df = pd.read_csv(os.path.json (arg.train, args.train_file))\n",
    "  test_df = pd.reed_csv(os.path.json)(arg.test, arg.test_file)"
   ]
  },
  {
   "cell_type": "code",
   "execution_count": null,
   "id": "107d9bb9-e413-43a0-94fd-5a102c3c6330",
   "metadata": {},
   "outputs": [],
   "source": [
    "# again same steps basically doing train test split \n",
    "  features = list(train_df.columns)\n",
    "  labels   = features.pop(-1)\n",
    "   print(\"Building training and testing datasets\")\n",
    "   print()"
   ]
  },
  {
   "cell_type": "code",
   "execution_count": null,
   "id": "555d04fa-3da9-4629-9d23-743e349eadc6",
   "metadata": {},
   "outputs": [],
   "source": [
    "   X_train =  train_df[features]\n",
    "   X_test = test_df[features]\n",
    "   y_train = train_df[labels]\n",
    "   y_test = test_df[labes]"
   ]
  },
  {
   "cell_type": "code",
   "execution_count": null,
   "id": "44b53b42-c531-43cf-9e9b-6bb53269d57d",
   "metadata": {},
   "outputs": [],
   "source": [
    "   print(\"columns order: \")\n",
    "   print(features)\n",
    "   print()"
   ]
  },
  {
   "cell_type": "code",
   "execution_count": null,
   "id": "fba9f1b1-634a-4b49-9b4a-1cf152b5af7f",
   "metadata": {},
   "outputs": [],
   "source": [
    "   print(\"Label column: \", label)\n",
    "   print()\n",
    "\n",
    "   print(\"Data Shape: \")\n",
    "   print()"
   ]
  },
  {
   "cell_type": "code",
   "execution_count": null,
   "id": "86576277-6ab2-483d-bf06-89251d767a90",
   "metadata": {},
   "outputs": [],
   "source": [
    "   print(\"--- SHAPE OF TRAINING DATA (85%) --- \")\n",
    "   print(X_train.shape)\n",
    "   print(y_train.shape)\n",
    "   print()"
   ]
  },
  {
   "cell_type": "code",
   "execution_count": null,
   "id": "0adaf8e1-5316-46f6-9ed8-c36b0778ddb7",
   "metadata": {},
   "outputs": [],
   "source": [
    "   print(\"--- SHAPE OF TESTING DATA (15%) --- \")\n",
    "   print(X_test.shape)\n",
    "   print(y_test.shape)\n",
    "   print()"
   ]
  },
  {
   "cell_type": "code",
   "execution_count": null,
   "id": "eb9688dc-6ec7-48cf-9aa7-e34bf111ae51",
   "metadata": {},
   "outputs": [],
   "source": [
    "    print(\"Training RandomForest Model\")\n",
    "   print()"
   ]
  },
  {
   "cell_type": "code",
   "execution_count": null,
   "id": "7aef0380-74d6-4fde-a6fd-bf6294954f34",
   "metadata": {},
   "outputs": [],
   "source": [
    "   model = RandomForestClssifier(n_estimartors = arg.n_estimators, ranodom_state, version = )\n",
    "   model.fit(X_train, y_train)\n",
    "   print()"
   ]
  },
  {
   "cell_type": "code",
   "execution_count": null,
   "id": "522d4e72-040d-430c-8f4e-a508d0ab3cfc",
   "metadata": {},
   "outputs": [],
   "source": [
    "  model_path = os.path.join(arg.model_dir, \"model.joblib\")\n",
    "  joblib.dump(model,model_path)\n",
    "  print(\"Model persisted at\" + model path)\n",
    "  print()"
   ]
  },
  {
   "cell_type": "code",
   "execution_count": null,
   "id": "a0d7cd17-7c06-4873-a239-cabc7d3502b1",
   "metadata": {},
   "outputs": [],
   "source": [
    "    y_pred_test = model.predict(X_test)\n",
    "    test_acc = accuracy_score(y_test, y_pred_tes)\n",
    "    test_rep = classification_report(y_test, y_pred)"
   ]
  },
  {
   "cell_type": "code",
   "execution_count": null,
   "id": "bd334b71-405b-4286-a302-1288ed23834d",
   "metadata": {},
   "outputs": [],
   "source": [
    "    print()\n",
    "    print(\"--- METRIC RESULT FOR TESTING DATA ---\")\n",
    "    print()\n",
    "    print(\"Total Rows are:\",X_test.shape[0])\n",
    "    print('[Testing] Model Accuracy is:', test_acc )\n",
    "    print('[Testing]' Testing Report:')\n",
    "    print(test_rep)"
   ]
  },
  {
   "cell_type": "code",
   "execution_count": null,
   "id": "0eeb8295-59cf-48d4-9e1e-c3e1afe9b522",
   "metadata": {},
   "outputs": [],
   "source": [
    "# In sagemaker have inbuilt/default library Sklern\n",
    "from sagemaker.sklearn.estimator import SKLearn"
   ]
  },
  {
   "cell_type": "code",
   "execution_count": null,
   "id": "4d7b9f94-d688-4512-8d78-8d82ee0ee7cd",
   "metadata": {},
   "outputs": [],
   "source": [
    "sklearn_estimator = SKLearn(\n",
    "    entry_point=\"script.py\",  # Your training script\n",
    "    role=\"YourIAMRole\"       # in aws created user of sagemaker copy paste ARN\n",
    "    instance_count= 1,       # how many instances want to open\n",
    "    instance_type=\"ml.m5.large\",  # type of machine \n",
    "    framework_version=\"1.2-1\",    # Choose an available version\n",
    "    base_job_name = \"RF-custom-sklearn\", #\n",
    "    hyperparameters = { \n",
    "       \"n_estimators\" : 100,\n",
    "       \"rando,_state\" : 0,\n",
    "},\n",
    "  \n",
    "    use_spot_instances = True, #\n",
    "    max_wait = 7200,    # default value\n",
    "    max_run = 3600      # default value"
   ]
  },
  {
   "cell_type": "code",
   "execution_count": null,
   "id": "90a1f355-001b-4200-b0c7-b4f2841abe8e",
   "metadata": {},
   "outputs": [],
   "source": [
    "# launch training job,with asynchronous call it means start training \n",
    "#sklarn_estimator.fit(\"{train:datapath}, wait = True)\n",
    "sklearn_estimator.fit({\"train\": trainpath, \"test\": testpath}, waith = True)\n",
    "# we can see training in sagemaker also training\n",
    "# downloaeded the input data from s3 bucket, can assign GPUs"
   ]
  },
  {
   "cell_type": "code",
   "execution_count": null,
   "id": "db843731-57b2-4797-9eef-0512e80cfece",
   "metadata": {},
   "outputs": [],
   "source": [
    "# we can also use this code for more information about entire training\n",
    "sklerarn_estimator. latest_training_job.wait(log = \"None\")\n",
    "artifact = sm.boto3.describe_training_job(\n",
    "       TrainingJobName = sklearn_estimator.latest_training_job.name \n",
    ")[\"ModelArtifacts\"][\"S3ModelArtofacts\"]\n",
    "\n",
    "print(\"Model artifact persisted at \" + artifact)"
   ]
  },
  {
   "cell_type": "code",
   "execution_count": null,
   "id": "032d02f1-0fcc-4b32-998f-19f4f599d393",
   "metadata": {},
   "outputs": [],
   "source": [
    "# we are creating another folder location  for do the deployment\n",
    "# folder location : \"Custo-sklearn-model-\" + strftime(\"%Y-%m-%d-%H-%S\",gmtime())"
   ]
  },
  {
   "cell_type": "code",
   "execution_count": null,
   "id": "775995f2-d2f0-45f2-be8e-1b5376b6c340",
   "metadata": {},
   "outputs": [],
   "source": [
    "from sagemaker.sklearn.estimator import SKLearnModel\n",
    "from time import gmtime, strftime"
   ]
  },
  {
   "cell_type": "code",
   "execution_count": null,
   "id": "f4c57163-63f9-465f-9afc-46062b9fa292",
   "metadata": {},
   "outputs": [],
   "source": [
    "model_name = \"Custo-sklearn-model-\" + strftime(\"%Y-%m-%d-%H-%S\",gmtime())\n",
    "model = SkLearnModel(\n",
    "      name = model_name,\n",
    "      model_date = artifact,\n",
    "      role = \"arn:aws:iam: 863847384\"\n",
    "      entry_point = \"script.py\",\n",
    "      framework_version = FRAMEWORK_VERSION\n",
    "\n",
    ")"
   ]
  },
  {
   "cell_type": "code",
   "execution_count": null,
   "id": "f95e2a5f-bd22-4edd-b7a1-15783660d5fc",
   "metadata": {},
   "outputs": [],
   "source": [
    "# We have to create specific end point it is available in documentataion \n",
    "# End point Deployment "
   ]
  },
  {
   "cell_type": "code",
   "execution_count": null,
   "id": "b9338f8c-afe8-496a-a694-728168f87dd6",
   "metadata": {},
   "outputs": [],
   "source": [
    "endpoin_name = \"Custo-sklearn-model-\" + strftime(\"%Y-%m-%d-%H-%S\",gmtime())\n",
    "print(\"EndPointName= {}\".format(endpoint_name))\n",
    "\n",
    "predictor = model.deploy(\n",
    "     initial_instance_count = 1,\n",
    "     instance_type = \"ml.m4.xlarge\",\n",
    "     endpoint_name = endopoint_name,\n",
    ")"
   ]
  },
  {
   "cell_type": "code",
   "execution_count": null,
   "id": "806d43f1-f06a-4053-9045-3918f2956506",
   "metadata": {},
   "outputs": [],
   "source": [
    "it statrt doing the deployment \n",
    "once use delet end point otherwise it will chargable"
   ]
  },
  {
   "cell_type": "code",
   "execution_count": null,
   "id": "0f7f0f49-5695-4734-a58b-f5bf3af4411e",
   "metadata": {},
   "outputs": [],
   "source": []
  },
  {
   "cell_type": "code",
   "execution_count": null,
   "id": "05e5e395-3438-497c-aa7e-eef07939b41b",
   "metadata": {},
   "outputs": [],
   "source": []
  },
  {
   "cell_type": "code",
   "execution_count": null,
   "id": "8b268004-f94b-4792-b3b2-e0ec4a36ffe8",
   "metadata": {},
   "outputs": [],
   "source": []
  }
 ],
 "metadata": {
  "kernelspec": {
   "display_name": "Python 3 (ipykernel)",
   "language": "python",
   "name": "python3"
  },
  "language_info": {
   "codemirror_mode": {
    "name": "ipython",
    "version": 3
   },
   "file_extension": ".py",
   "mimetype": "text/x-python",
   "name": "python",
   "nbconvert_exporter": "python",
   "pygments_lexer": "ipython3",
   "version": "3.12.4"
  }
 },
 "nbformat": 4,
 "nbformat_minor": 5
}
